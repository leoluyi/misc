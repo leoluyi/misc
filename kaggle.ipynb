{
 "metadata": {
  "name": ""
 },
 "nbformat": 3,
 "nbformat_minor": 0,
 "worksheets": [
  {
   "cells": [
    {
     "cell_type": "code",
     "collapsed": false,
     "input": [
      "import numpy as np\n",
      "import pandas as pd\n",
      "import nltk \n",
      "import re"
     ],
     "language": "python",
     "metadata": {},
     "outputs": [],
     "prompt_number": 21
    },
    {
     "cell_type": "code",
     "collapsed": false,
     "input": [
      "path = '/home/rutenit/kaggle_data/train/train.tsv'"
     ],
     "language": "python",
     "metadata": {},
     "outputs": [],
     "prompt_number": 2
    },
    {
     "cell_type": "code",
     "collapsed": false,
     "input": [
      "doc = pd.read_csv(path, sep='\\t')"
     ],
     "language": "python",
     "metadata": {},
     "outputs": [],
     "prompt_number": 3
    },
    {
     "cell_type": "code",
     "collapsed": false,
     "input": [
      "doc.Phrase[doc.Sentiment == 1]"
     ],
     "language": "python",
     "metadata": {},
     "outputs": [
      {
       "metadata": {},
       "output_type": "pyout",
       "prompt_number": 6,
       "text": [
        "0      A series of escapades demonstrating the adage ...\n",
        "33     the gander , some of which occasionally amuses...\n",
        "47          but none of which amounts to much of a story\n",
        "49              none of which amounts to much of a story\n",
        "81     Even fans of Ismail Merchant 's work , I suspe...\n",
        "94     , I suspect , would have a hard time sitting t...\n",
        "100    would have a hard time sitting through this one .\n",
        "105                 a hard time sitting through this one\n",
        "106                                          a hard time\n",
        "107                                            hard time\n",
        "110                             sitting through this one\n",
        "131          the intrigue , betrayal , deceit and murder\n",
        "135                         betrayal , deceit and murder\n",
        "137                                  , deceit and murder\n",
        "138                                    deceit and murder\n",
        "...\n",
        "156006                                    capable Clayburgh\n",
        "156021    -LRB- Tries -RRB- to parody a genre that 's al...\n",
        "156022                          -LRB- Tries -RRB- to parody\n",
        "156026    a genre that 's already a joke in the United S...\n",
        "156028             's already a joke in the United States .\n",
        "156029               's already a joke in the United States\n",
        "156031    The movie 's downfall is to substitute plot fo...\n",
        "156032                                The movie 's downfall\n",
        "156033              is to substitute plot for personality .\n",
        "156034                is to substitute plot for personality\n",
        "156036                      substitute plot for personality\n",
        "156047    quietly suggesting the sadness and obsession b...\n",
        "156051                                sadness and obsession\n",
        "156052                                          sadness and\n",
        "156056                            forced avuncular chortles\n",
        "Name: Phrase, Length: 27273, dtype: object"
       ]
      }
     ],
     "prompt_number": 6
    },
    {
     "cell_type": "code",
     "collapsed": false,
     "input": [
      "x = doc.Phrase[doc.Sentiment == 2]"
     ],
     "language": "python",
     "metadata": {},
     "outputs": [],
     "prompt_number": 8
    },
    {
     "cell_type": "code",
     "collapsed": false,
     "input": [
      "x2 = x.apply(lambda w: re.split(r'\\s+', w))"
     ],
     "language": "python",
     "metadata": {},
     "outputs": [],
     "prompt_number": 25
    },
    {
     "cell_type": "code",
     "collapsed": false,
     "input": [
      "type(x2)"
     ],
     "language": "python",
     "metadata": {},
     "outputs": [
      {
       "metadata": {},
       "output_type": "pyout",
       "prompt_number": 26,
       "text": [
        "pandas.core.series.Series"
       ]
      }
     ],
     "prompt_number": 26
    },
    {
     "cell_type": "code",
     "collapsed": false,
     "input": [
      "x3 = np.concatenate(np.array(x2))"
     ],
     "language": "python",
     "metadata": {},
     "outputs": [],
     "prompt_number": 29
    },
    {
     "cell_type": "code",
     "collapsed": false,
     "input": [
      "x3.shape"
     ],
     "language": "python",
     "metadata": {},
     "outputs": [
      {
       "metadata": {},
       "output_type": "pyout",
       "prompt_number": 30,
       "text": [
        "(413398,)"
       ]
      }
     ],
     "prompt_number": 30
    },
    {
     "cell_type": "code",
     "collapsed": false,
     "input": [
      "x4 = nltk.FreqDist(x3)"
     ],
     "language": "python",
     "metadata": {},
     "outputs": [],
     "prompt_number": 33
    },
    {
     "cell_type": "code",
     "collapsed": false,
     "input": [
      "type(x4)"
     ],
     "language": "python",
     "metadata": {},
     "outputs": [
      {
       "metadata": {},
       "output_type": "pyout",
       "prompt_number": 34,
       "text": [
        "nltk.probability.FreqDist"
       ]
      }
     ],
     "prompt_number": 34
    },
    {
     "cell_type": "code",
     "collapsed": false,
     "input": [],
     "language": "python",
     "metadata": {},
     "outputs": []
    }
   ],
   "metadata": {}
  }
 ]
}