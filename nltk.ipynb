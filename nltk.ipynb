{
 "metadata": {
  "name": ""
 },
 "nbformat": 3,
 "nbformat_minor": 0,
 "worksheets": [
  {
   "cells": [
    {
     "cell_type": "code",
     "collapsed": false,
     "input": [
      "import matplotlib as mpl\n",
      "mpl.use('Agg')\n",
      "import matplotlib.pyplot as plt\n",
      "\n",
      "fig = plt.figure()\n",
      "ax = fig.add_subplot(111)\n",
      "ax.plot(range(10))\n",
      "fig.savefig('temp.png')"
     ],
     "language": "python",
     "metadata": {},
     "outputs": [],
     "prompt_number": 1
    },
    {
     "cell_type": "code",
     "collapsed": false,
     "input": [
      "import nltk"
     ],
     "language": "python",
     "metadata": {},
     "outputs": [],
     "prompt_number": 7
    },
    {
     "cell_type": "code",
     "collapsed": false,
     "input": [
      "from nltk.corpus import brown"
     ],
     "language": "python",
     "metadata": {},
     "outputs": [],
     "prompt_number": 8
    },
    {
     "cell_type": "code",
     "collapsed": false,
     "input": [
      "text = \"\"\"Python developers working with NumPy or Big Data in general might be interested in Blaze, a Python library created by Continuum Analytics\"\"\""
     ],
     "language": "python",
     "metadata": {},
     "outputs": [],
     "prompt_number": 10
    },
    {
     "cell_type": "code",
     "collapsed": false,
     "input": [
      "fdist = nltk.FreqDist(text)"
     ],
     "language": "python",
     "metadata": {},
     "outputs": [],
     "prompt_number": 13
    },
    {
     "cell_type": "code",
     "collapsed": false,
     "input": [
      "fdist.items()[100:150]"
     ],
     "language": "python",
     "metadata": {},
     "outputs": [
      {
       "metadata": {},
       "output_type": "pyout",
       "prompt_number": 16,
       "text": [
        "[]"
       ]
      }
     ],
     "prompt_number": 16
    },
    {
     "cell_type": "code",
     "collapsed": false,
     "input": [
      "fdist = nltk.FreqDist(text.split())"
     ],
     "language": "python",
     "metadata": {},
     "outputs": [],
     "prompt_number": 26
    },
    {
     "cell_type": "code",
     "collapsed": false,
     "input": [
      "fdist.items()[1:20]"
     ],
     "language": "python",
     "metadata": {},
     "outputs": [
      {
       "metadata": {},
       "output_type": "pyout",
       "prompt_number": 29,
       "text": [
        "[('be', 1),\n",
        " ('by', 1),\n",
        " ('Continuum', 1),\n",
        " ('working', 1),\n",
        " ('Data', 1),\n",
        " ('Python', 2),\n",
        " ('with', 1),\n",
        " ('in', 2),\n",
        " ('library', 1),\n",
        " ('general', 1),\n",
        " ('Analytics', 1),\n",
        " ('interested', 1),\n",
        " ('created', 1),\n",
        " ('Big', 1),\n",
        " ('Blaze,', 1),\n",
        " ('developers', 1),\n",
        " ('NumPy', 1),\n",
        " ('or', 1),\n",
        " ('might', 1)]"
       ]
      }
     ],
     "prompt_number": 29
    },
    {
     "cell_type": "code",
     "collapsed": false,
     "input": [
      "import numpy as np\n",
      "import pandas as pd"
     ],
     "language": "python",
     "metadata": {},
     "outputs": [],
     "prompt_number": 30
    },
    {
     "cell_type": "code",
     "collapsed": false,
     "input": [
      "path = '/home/rutenit/kaggle_data/train/train.tsv'"
     ],
     "language": "python",
     "metadata": {},
     "outputs": [],
     "prompt_number": 50
    },
    {
     "cell_type": "code",
     "collapsed": false,
     "input": [
      "doc = pd.read_csv(path, sep='\\t')"
     ],
     "language": "python",
     "metadata": {},
     "outputs": [],
     "prompt_number": 51
    },
    {
     "cell_type": "code",
     "collapsed": false,
     "input": [
      "doc.Phrase"
     ],
     "language": "python",
     "metadata": {},
     "outputs": [
      {
       "metadata": {},
       "output_type": "pyout",
       "prompt_number": 52,
       "text": [
        "0     A series of escapades demonstrating the adage ...\n",
        "1     A series of escapades demonstrating the adage ...\n",
        "2                                              A series\n",
        "3                                                     A\n",
        "4                                                series\n",
        "5     of escapades demonstrating the adage that what...\n",
        "6                                                    of\n",
        "7     escapades demonstrating the adage that what is...\n",
        "8                                             escapades\n",
        "9     demonstrating the adage that what is good for ...\n",
        "10                              demonstrating the adage\n",
        "11                                        demonstrating\n",
        "12                                            the adage\n",
        "13                                                  the\n",
        "14                                                adage\n",
        "...\n",
        "156045    Herrmann quietly suggesting the sadness and ob...\n",
        "156046                                             Herrmann\n",
        "156047    quietly suggesting the sadness and obsession b...\n",
        "156048    suggesting the sadness and obsession beneath H...\n",
        "156049                 suggesting the sadness and obsession\n",
        "156050                            the sadness and obsession\n",
        "156051                                sadness and obsession\n",
        "156052                                          sadness and\n",
        "156053          beneath Hearst 's forced avuncular chortles\n",
        "156054                  Hearst 's forced avuncular chortles\n",
        "156055                                            Hearst 's\n",
        "156056                            forced avuncular chortles\n",
        "156057                                   avuncular chortles\n",
        "156058                                            avuncular\n",
        "156059                                             chortles\n",
        "Name: Phrase, Length: 156060, dtype: object"
       ]
      }
     ],
     "prompt_number": 52
    },
    {
     "cell_type": "code",
     "collapsed": false,
     "input": [
      "np1 = np.array([x.split(' ') for x in doc.Phrase])"
     ],
     "language": "python",
     "metadata": {},
     "outputs": [],
     "prompt_number": 53
    },
    {
     "cell_type": "code",
     "collapsed": false,
     "input": [
      "np1.shape"
     ],
     "language": "python",
     "metadata": {},
     "outputs": [
      {
       "metadata": {},
       "output_type": "pyout",
       "prompt_number": 55,
       "text": [
        "(156060,)"
       ]
      }
     ],
     "prompt_number": 55
    },
    {
     "cell_type": "code",
     "collapsed": false,
     "input": [
      "np1"
     ],
     "language": "python",
     "metadata": {},
     "outputs": [
      {
       "metadata": {},
       "output_type": "pyout",
       "prompt_number": 56,
       "text": [
        "array([ ['A', 'series', 'of', 'escapades', 'demonstrating', 'the', 'adage', 'that', 'what', 'is', 'good', 'for', 'the', 'goose', 'is', 'also', 'good', 'for', 'the', 'gander', ',', 'some', 'of', 'which', 'occasionally', 'amuses', 'but', 'none', 'of', 'which', 'amounts', 'to', 'much', 'of', 'a', 'story', '.'],\n",
        "       ['A', 'series', 'of', 'escapades', 'demonstrating', 'the', 'adage', 'that', 'what', 'is', 'good', 'for', 'the', 'goose'],\n",
        "       ['A', 'series'], ..., ['avuncular', 'chortles'], ['avuncular'],\n",
        "       ['chortles']], dtype=object)"
       ]
      }
     ],
     "prompt_number": 56
    },
    {
     "cell_type": "code",
     "collapsed": false,
     "input": [
      "np2 = np.concatenate(np1)"
     ],
     "language": "python",
     "metadata": {},
     "outputs": [],
     "prompt_number": 57
    },
    {
     "cell_type": "code",
     "collapsed": false,
     "input": [
      "np3 = nltk.FreqDist(np2)"
     ],
     "language": "python",
     "metadata": {},
     "outputs": [],
     "prompt_number": 58
    },
    {
     "cell_type": "code",
     "collapsed": false,
     "input": [
      "type(np3)"
     ],
     "language": "python",
     "metadata": {},
     "outputs": [
      {
       "metadata": {},
       "output_type": "pyout",
       "prompt_number": 59,
       "text": [
        "nltk.probability.FreqDist"
       ]
      }
     ],
     "prompt_number": 59
    },
    {
     "cell_type": "code",
     "collapsed": false,
     "input": [
      "np3"
     ],
     "language": "python",
     "metadata": {},
     "outputs": [
      {
       "metadata": {},
       "output_type": "pyout",
       "prompt_number": 60,
       "text": [
        "FreqDist({'the': 46552, ',': 42006, 'a': 33443, 'of': 32245, 'and': 31695, 'to': 22363, '.': 17565, \"'s\": 16971, 'in': 13523, 'is': 13340, ...})"
       ]
      }
     ],
     "prompt_number": 60
    },
    {
     "cell_type": "code",
     "collapsed": false,
     "input": [
      "nltk.FreqDist(nltk.bigrams(np3))"
     ],
     "language": "python",
     "metadata": {},
     "outputs": [
      {
       "metadata": {},
       "output_type": "pyout",
       "prompt_number": 62,
       "text": [
        "FreqDist({('shrieky', 'cast'): 1, ('Orleans', 'Kwan'): 1, ('Disjointed', 'Fuhrman'): 1, ('sentiment', 'Hotel'): 1, ('exuberantly', 'shootout'): 1, ('flashbulbs', 'gentility'): 1, ('condescension', 'shape-shifting'): 1, ('diversions', 'hated'): 1, ('sweep', 'psychodramatics'): 1, ('loyalty', 'contributions'): 1, ...})"
       ]
      }
     ],
     "prompt_number": 62
    },
    {
     "cell_type": "code",
     "collapsed": false,
     "input": [
      "cfd = nltk.ConditionalFreqDist(nltk.bigrams(np3))"
     ],
     "language": "python",
     "metadata": {},
     "outputs": [],
     "prompt_number": 64
    },
    {
     "cell_type": "code",
     "collapsed": false,
     "input": [
      "cfd"
     ],
     "language": "python",
     "metadata": {},
     "outputs": [
      {
       "metadata": {},
       "output_type": "pyout",
       "prompt_number": 65,
       "text": [
        "<ConditionalFreqDist with 18226 conditions>"
       ]
      }
     ],
     "prompt_number": 65
    },
    {
     "cell_type": "code",
     "collapsed": false,
     "input": [
      "cfd.items()[:10]"
     ],
     "language": "python",
     "metadata": {},
     "outputs": [
      {
       "metadata": {},
       "output_type": "pyout",
       "prompt_number": 68,
       "text": [
        "[('', FreqDist({'Paulette': 1})),\n",
        " ('unimaginative', FreqDist({'Savage': 1})),\n",
        " ('writings', FreqDist({'Tarzan': 1})),\n",
        " ('bad-boy', FreqDist({'Poetry': 1})),\n",
        " ('Poetry', FreqDist({'yellow': 1})),\n",
        " ('yellow', FreqDist({'Sugar': 1})),\n",
        " ('Sugar', FreqDist({'four': 1})),\n",
        " ('four', FreqDist({'Does': 1})),\n",
        " ('Does', FreqDist({'testosterone': 1})),\n",
        " ('clotted', FreqDist({'half-dimensional': 1}))]"
       ]
      }
     ],
     "prompt_number": 68
    },
    {
     "cell_type": "code",
     "collapsed": false,
     "input": [
      "cfd['Sugar']"
     ],
     "language": "python",
     "metadata": {},
     "outputs": [
      {
       "metadata": {},
       "output_type": "pyout",
       "prompt_number": 70,
       "text": [
        "FreqDist({'four': 1})"
       ]
      }
     ],
     "prompt_number": 70
    },
    {
     "cell_type": "raw",
     "metadata": {},
     "source": [
      "given shrieky, freq of next word ..."
     ]
    },
    {
     "cell_type": "code",
     "collapsed": false,
     "input": [
      "cfd['shrieky']"
     ],
     "language": "python",
     "metadata": {},
     "outputs": [
      {
       "metadata": {},
       "output_type": "pyout",
       "prompt_number": 71,
       "text": [
        "FreqDist({'cast': 1})"
       ]
      }
     ],
     "prompt_number": 71
    },
    {
     "cell_type": "raw",
     "metadata": {},
     "source": [
      "\u8003\u616e\u5982\u4f55\u52a0\u5165\u5206\u6578"
     ]
    },
    {
     "cell_type": "code",
     "collapsed": false,
     "input": [
      "np.array(zip(doc.Phrase, doc.Sentiment))"
     ],
     "language": "python",
     "metadata": {},
     "outputs": [
      {
       "metadata": {},
       "output_type": "pyout",
       "prompt_number": 74,
       "text": [
        "array([[ 'A series of escapades demonstrating the adage that what is good for the goose is also good for the gander , some of which occasionally amuses but none of which amounts to much of a story .',\n",
        "        '1'],\n",
        "       [ 'A series of escapades demonstrating the adage that what is good for the goose',\n",
        "        '2'],\n",
        "       ['A series', '2'],\n",
        "       ..., \n",
        "       ['avuncular chortles', '3'],\n",
        "       ['avuncular', '2'],\n",
        "       ['chortles', '2']], \n",
        "      dtype='|S283')"
       ]
      }
     ],
     "prompt_number": 74
    },
    {
     "cell_type": "code",
     "collapsed": false,
     "input": [
      "np1"
     ],
     "language": "python",
     "metadata": {},
     "outputs": [
      {
       "metadata": {},
       "output_type": "pyout",
       "prompt_number": 127,
       "text": [
        "array([ ['A', 'series', 'of', 'escapades', 'demonstrating', 'the', 'adage', 'that', 'what', 'is', 'good', 'for', 'the', 'goose', 'is', 'also', 'good', 'for', 'the', 'gander', ',', 'some', 'of', 'which', 'occasionally', 'amuses', 'but', 'none', 'of', 'which', 'amounts', 'to', 'much', 'of', 'a', 'story', '.'],\n",
        "       ['A', 'series', 'of', 'escapades', 'demonstrating', 'the', 'adage', 'that', 'what', 'is', 'good', 'for', 'the', 'goose'],\n",
        "       ['A', 'series'], ..., ['avuncular', 'chortles'], ['avuncular'],\n",
        "       ['chortles']], dtype=object)"
       ]
      }
     ],
     "prompt_number": 127
    },
    {
     "cell_type": "code",
     "collapsed": false,
     "input": [
      "type(doc.Sentiment)"
     ],
     "language": "python",
     "metadata": {},
     "outputs": [
      {
       "metadata": {},
       "output_type": "pyout",
       "prompt_number": 129,
       "text": [
        "pandas.core.series.Series"
       ]
      }
     ],
     "prompt_number": 129
    },
    {
     "cell_type": "code",
     "collapsed": false,
     "input": [
      "x = np.array(np1[0])"
     ],
     "language": "python",
     "metadata": {},
     "outputs": [],
     "prompt_number": 145
    },
    {
     "cell_type": "code",
     "collapsed": false,
     "input": [
      "np.apply_along_axis(lambda y: (y,2), 0, np[0])"
     ],
     "language": "python",
     "metadata": {},
     "outputs": [
      {
       "ename": "TypeError",
       "evalue": "'module' object has no attribute '__getitem__'",
       "output_type": "pyerr",
       "traceback": [
        "\u001b[0;31m---------------------------------------------------------------------------\u001b[0m\n\u001b[0;31mTypeError\u001b[0m                                 Traceback (most recent call last)",
        "\u001b[0;32m<ipython-input-149-d9d2ab7d106f>\u001b[0m in \u001b[0;36m<module>\u001b[0;34m()\u001b[0m\n\u001b[0;32m----> 1\u001b[0;31m \u001b[0mnp\u001b[0m\u001b[0;34m.\u001b[0m\u001b[0mapply_along_axis\u001b[0m\u001b[0;34m(\u001b[0m\u001b[0;32mlambda\u001b[0m \u001b[0my\u001b[0m\u001b[0;34m:\u001b[0m \u001b[0;34m(\u001b[0m\u001b[0my\u001b[0m\u001b[0;34m,\u001b[0m\u001b[0;36m2\u001b[0m\u001b[0;34m)\u001b[0m\u001b[0;34m,\u001b[0m \u001b[0;36m0\u001b[0m\u001b[0;34m,\u001b[0m \u001b[0mnp\u001b[0m\u001b[0;34m[\u001b[0m\u001b[0;36m0\u001b[0m\u001b[0;34m]\u001b[0m\u001b[0;34m)\u001b[0m\u001b[0;34m\u001b[0m\u001b[0m\n\u001b[0m",
        "\u001b[0;31mTypeError\u001b[0m: 'module' object has no attribute '__getitem__'"
       ]
      }
     ],
     "prompt_number": 149
    },
    {
     "cell_type": "code",
     "collapsed": false,
     "input": [
      "pd1[0]"
     ],
     "language": "python",
     "metadata": {},
     "outputs": [
      {
       "metadata": {},
       "output_type": "pyout",
       "prompt_number": 142,
       "text": [
        "array([ ['A', 'series', 'of', 'escapades', 'demonstrating', 'the', 'adage', 'that', 'what', 'is', 'good', 'for', 'the', 'goose', 'is', 'also', 'good', 'for', 'the', 'gander', ',', 'some', 'of', 'which', 'occasionally', 'amuses', 'but', 'none', 'of', 'which', 'amounts', 'to', 'much', 'of', 'a', 'story', '.'],\n",
        "       1], dtype=object)"
       ]
      }
     ],
     "prompt_number": 142
    },
    {
     "cell_type": "code",
     "collapsed": false,
     "input": [
      "pd2 = np.array([map(lambda y: (y, x[1]), x[0]) for x in pd1])"
     ],
     "language": "python",
     "metadata": {},
     "outputs": [],
     "prompt_number": 132
    },
    {
     "cell_type": "code",
     "collapsed": false,
     "input": [
      "pd3 = pd2.ravel().ravel()"
     ],
     "language": "python",
     "metadata": {},
     "outputs": [],
     "prompt_number": 138
    },
    {
     "cell_type": "code",
     "collapsed": false,
     "input": [
      "pd3[1:100]"
     ],
     "language": "python",
     "metadata": {},
     "outputs": [
      {
       "metadata": {},
       "output_type": "pyout",
       "prompt_number": 139,
       "text": [
        "array([ [('A', 2), ('series', 2), ('of', 2), ('escapades', 2), ('demonstrating', 2), ('the', 2), ('adage', 2), ('that', 2), ('what', 2), ('is', 2), ('good', 2), ('for', 2), ('the', 2), ('goose', 2)],\n",
        "       [('A', 2), ('series', 2)], [('A', 2)], [('series', 2)],\n",
        "       [('of', 2), ('escapades', 2), ('demonstrating', 2), ('the', 2), ('adage', 2), ('that', 2), ('what', 2), ('is', 2), ('good', 2), ('for', 2), ('the', 2), ('goose', 2)],\n",
        "       [('of', 2)],\n",
        "       [('escapades', 2), ('demonstrating', 2), ('the', 2), ('adage', 2), ('that', 2), ('what', 2), ('is', 2), ('good', 2), ('for', 2), ('the', 2), ('goose', 2)],\n",
        "       [('escapades', 2)],\n",
        "       [('demonstrating', 2), ('the', 2), ('adage', 2), ('that', 2), ('what', 2), ('is', 2), ('good', 2), ('for', 2), ('the', 2), ('goose', 2)],\n",
        "       [('demonstrating', 2), ('the', 2), ('adage', 2)],\n",
        "       [('demonstrating', 2)], [('the', 2), ('adage', 2)], [('the', 2)],\n",
        "       [('adage', 2)],\n",
        "       [('that', 2), ('what', 2), ('is', 2), ('good', 2), ('for', 2), ('the', 2), ('goose', 2)],\n",
        "       [('that', 2)],\n",
        "       [('what', 2), ('is', 2), ('good', 2), ('for', 2), ('the', 2), ('goose', 2)],\n",
        "       [('what', 2)],\n",
        "       [('is', 2), ('good', 2), ('for', 2), ('the', 2), ('goose', 2)],\n",
        "       [('is', 2)], [('good', 3), ('for', 3), ('the', 3), ('goose', 3)],\n",
        "       [('good', 3)], [('for', 2), ('the', 2), ('goose', 2)], [('for', 2)],\n",
        "       [('the', 2), ('goose', 2)], [('goose', 2)],\n",
        "       [('is', 2), ('also', 2), ('good', 2), ('for', 2), ('the', 2), ('gander', 2), (',', 2), ('some', 2), ('of', 2), ('which', 2), ('occasionally', 2), ('amuses', 2), ('but', 2), ('none', 2), ('of', 2), ('which', 2), ('amounts', 2), ('to', 2), ('much', 2), ('of', 2), ('a', 2), ('story', 2), ('.', 2)],\n",
        "       [('is', 2), ('also', 2), ('good', 2), ('for', 2), ('the', 2), ('gander', 2), (',', 2), ('some', 2), ('of', 2), ('which', 2), ('occasionally', 2), ('amuses', 2), ('but', 2), ('none', 2), ('of', 2), ('which', 2), ('amounts', 2), ('to', 2), ('much', 2), ('of', 2), ('a', 2), ('story', 2)],\n",
        "       [('is', 2), ('also', 2)], [('also', 2)],\n",
        "       [('good', 2), ('for', 2), ('the', 2), ('gander', 2), (',', 2), ('some', 2), ('of', 2), ('which', 2), ('occasionally', 2), ('amuses', 2), ('but', 2), ('none', 2), ('of', 2), ('which', 2), ('amounts', 2), ('to', 2), ('much', 2), ('of', 2), ('a', 2), ('story', 2)],\n",
        "       [('for', 2), ('the', 2), ('gander', 2), (',', 2), ('some', 2), ('of', 2), ('which', 2), ('occasionally', 2), ('amuses', 2), ('but', 2), ('none', 2), ('of', 2), ('which', 2), ('amounts', 2), ('to', 2), ('much', 2), ('of', 2), ('a', 2), ('story', 2)],\n",
        "       [('the', 1), ('gander', 1), (',', 1), ('some', 1), ('of', 1), ('which', 1), ('occasionally', 1), ('amuses', 1), ('but', 1), ('none', 1), ('of', 1), ('which', 1), ('amounts', 1), ('to', 1), ('much', 1), ('of', 1), ('a', 1), ('story', 1)],\n",
        "       [('the', 2), ('gander', 2), (',', 2)], [('the', 2), ('gander', 2)],\n",
        "       [('gander', 2)], [(',', 2)],\n",
        "       [('some', 2), ('of', 2), ('which', 2), ('occasionally', 2), ('amuses', 2), ('but', 2), ('none', 2), ('of', 2), ('which', 2), ('amounts', 2), ('to', 2), ('much', 2), ('of', 2), ('a', 2), ('story', 2)],\n",
        "       [('some', 2), ('of', 2), ('which', 2)], [('some', 2)],\n",
        "       [('of', 2), ('which', 2)], [('which', 2)],\n",
        "       [('occasionally', 2), ('amuses', 2), ('but', 2), ('none', 2), ('of', 2), ('which', 2), ('amounts', 2), ('to', 2), ('much', 2), ('of', 2), ('a', 2), ('story', 2)],\n",
        "       [('occasionally', 2)],\n",
        "       [('amuses', 2), ('but', 2), ('none', 2), ('of', 2), ('which', 2), ('amounts', 2), ('to', 2), ('much', 2), ('of', 2), ('a', 2), ('story', 2)],\n",
        "       [('amuses', 3)],\n",
        "       [('but', 1), ('none', 1), ('of', 1), ('which', 1), ('amounts', 1), ('to', 1), ('much', 1), ('of', 1), ('a', 1), ('story', 1)],\n",
        "       [('but', 2)],\n",
        "       [('none', 1), ('of', 1), ('which', 1), ('amounts', 1), ('to', 1), ('much', 1), ('of', 1), ('a', 1), ('story', 1)],\n",
        "       [('none', 2)],\n",
        "       [('of', 2), ('which', 2), ('amounts', 2), ('to', 2), ('much', 2), ('of', 2), ('a', 2), ('story', 2)],\n",
        "       [('which', 2), ('amounts', 2), ('to', 2), ('much', 2), ('of', 2), ('a', 2), ('story', 2)],\n",
        "       [('amounts', 2), ('to', 2), ('much', 2), ('of', 2), ('a', 2), ('story', 2)],\n",
        "       [('amounts', 2)],\n",
        "       [('to', 2), ('much', 2), ('of', 2), ('a', 2), ('story', 2)],\n",
        "       [('to', 2)], [('much', 2), ('of', 2), ('a', 2), ('story', 2)],\n",
        "       [('much', 2)], [('of', 2), ('a', 2), ('story', 2)],\n",
        "       [('a', 2), ('story', 2)], [('story', 2)], [('.', 2)],\n",
        "       [('This', 4), ('quiet', 4), (',', 4), ('introspective', 4), ('and', 4), ('entertaining', 4), ('independent', 4), ('is', 4), ('worth', 4), ('seeking', 4), ('.', 4)],\n",
        "       [('This', 3), ('quiet', 3), (',', 3), ('introspective', 3), ('and', 3), ('entertaining', 3), ('independent', 3)],\n",
        "       [('This', 2)],\n",
        "       [('quiet', 4), (',', 4), ('introspective', 4), ('and', 4), ('entertaining', 4), ('independent', 4)],\n",
        "       [('quiet', 3), (',', 3), ('introspective', 3), ('and', 3), ('entertaining', 3)],\n",
        "       [('quiet', 2)],\n",
        "       [(',', 3), ('introspective', 3), ('and', 3), ('entertaining', 3)],\n",
        "       [('introspective', 3), ('and', 3), ('entertaining', 3)],\n",
        "       [('introspective', 3), ('and', 3)], [('introspective', 2)],\n",
        "       [('and', 2)], [('entertaining', 4)], [('independent', 2)],\n",
        "       [('is', 3), ('worth', 3), ('seeking', 3), ('.', 3)],\n",
        "       [('is', 4), ('worth', 4), ('seeking', 4)],\n",
        "       [('is', 2), ('worth', 2)], [('worth', 2)], [('seeking', 2)],\n",
        "       [('Even', 1), ('fans', 1), ('of', 1), ('Ismail', 1), ('Merchant', 1), (\"'s\", 1), ('work', 1), (',', 1), ('I', 1), ('suspect', 1), (',', 1), ('would', 1), ('have', 1), ('a', 1), ('hard', 1), ('time', 1), ('sitting', 1), ('through', 1), ('this', 1), ('one', 1), ('.', 1)],\n",
        "       [('Even', 2), ('fans', 2), ('of', 2), ('Ismail', 2), ('Merchant', 2), (\"'s\", 2), ('work', 2)],\n",
        "       [('Even', 2), ('fans', 2)], [('Even', 2)], [('fans', 3)],\n",
        "       [('of', 2), ('Ismail', 2), ('Merchant', 2), (\"'s\", 2), ('work', 2)],\n",
        "       [('Ismail', 2), ('Merchant', 2), (\"'s\", 2), ('work', 2)],\n",
        "       [('Ismail', 2), ('Merchant', 2), (\"'s\", 2)], [('Ismail', 2)],\n",
        "       [('Merchant', 2), (\"'s\", 2)], [('Merchant', 2)], [(\"'s\", 2)],\n",
        "       [('work', 2)],\n",
        "       [(',', 1), ('I', 1), ('suspect', 1), (',', 1), ('would', 1), ('have', 1), ('a', 1), ('hard', 1), ('time', 1), ('sitting', 1), ('through', 1), ('this', 1), ('one', 1), ('.', 1)],\n",
        "       [(',', 2), ('I', 2), ('suspect', 2), (',', 2)],\n",
        "       [('I', 2), ('suspect', 2), (',', 2)], [('I', 2), ('suspect', 2)],\n",
        "       [('I', 2)], [('suspect', 2)]], dtype=object)"
       ]
      }
     ],
     "prompt_number": 139
    },
    {
     "cell_type": "code",
     "collapsed": false,
     "input": [
      " A = ['a', 'b', 'c', 'd', 'e']"
     ],
     "language": "python",
     "metadata": {},
     "outputs": [],
     "prompt_number": 92
    },
    {
     "cell_type": "code",
     "collapsed": false,
     "input": [
      "map(lambda x: (x,2), A)"
     ],
     "language": "python",
     "metadata": {},
     "outputs": [
      {
       "metadata": {},
       "output_type": "pyout",
       "prompt_number": 93,
       "text": [
        "[('a', 2), ('b', 2), ('c', 2), ('d', 2), ('e', 2)]"
       ]
      }
     ],
     "prompt_number": 93
    },
    {
     "cell_type": "code",
     "collapsed": false,
     "input": [
      "np.hstack(pd1[0][0], np.array([2]))"
     ],
     "language": "python",
     "metadata": {},
     "outputs": [
      {
       "ename": "TypeError",
       "evalue": "hstack() takes exactly 1 argument (2 given)",
       "output_type": "pyerr",
       "traceback": [
        "\u001b[0;31m---------------------------------------------------------------------------\u001b[0m\n\u001b[0;31mTypeError\u001b[0m                                 Traceback (most recent call last)",
        "\u001b[0;32m<ipython-input-109-ea6d0eb65684>\u001b[0m in \u001b[0;36m<module>\u001b[0;34m()\u001b[0m\n\u001b[0;32m----> 1\u001b[0;31m \u001b[0mnp\u001b[0m\u001b[0;34m.\u001b[0m\u001b[0mhstack\u001b[0m\u001b[0;34m(\u001b[0m\u001b[0mpd1\u001b[0m\u001b[0;34m[\u001b[0m\u001b[0;36m0\u001b[0m\u001b[0;34m]\u001b[0m\u001b[0;34m[\u001b[0m\u001b[0;36m0\u001b[0m\u001b[0;34m]\u001b[0m\u001b[0;34m,\u001b[0m \u001b[0mnp\u001b[0m\u001b[0;34m.\u001b[0m\u001b[0marray\u001b[0m\u001b[0;34m(\u001b[0m\u001b[0;34m[\u001b[0m\u001b[0;36m2\u001b[0m\u001b[0;34m]\u001b[0m\u001b[0;34m)\u001b[0m\u001b[0;34m)\u001b[0m\u001b[0;34m\u001b[0m\u001b[0m\n\u001b[0m",
        "\u001b[0;31mTypeError\u001b[0m: hstack() takes exactly 1 argument (2 given)"
       ]
      }
     ],
     "prompt_number": 109
    },
    {
     "cell_type": "code",
     "collapsed": false,
     "input": [
      "np.hstack((np.array(pd1[0][0]), np.array([1])))"
     ],
     "language": "python",
     "metadata": {},
     "outputs": [
      {
       "metadata": {},
       "output_type": "pyout",
       "prompt_number": 119,
       "text": [
        "array(['A', 'series', 'of', 'escapades', 'demonstrating', 'the', 'adage',\n",
        "       'that', 'what', 'is', 'good', 'for', 'the', 'goose', 'is', 'also',\n",
        "       'good', 'for', 'the', 'gander', ',', 'some', 'of', 'which',\n",
        "       'occasionally', 'amuses', 'but', 'none', 'of', 'which', 'amounts',\n",
        "       'to', 'much', 'of', 'a', 'story', '.', '1'], \n",
        "      dtype='|S13')"
       ]
      }
     ],
     "prompt_number": 119
    },
    {
     "cell_type": "code",
     "collapsed": false,
     "input": [
      "a =np.array([[1],[2]]) # 2x1 array\n",
      "b = np.array([[3,4],[5,6]]) # 2x2 array"
     ],
     "language": "python",
     "metadata": {},
     "outputs": [],
     "prompt_number": 113
    },
    {
     "cell_type": "code",
     "collapsed": false,
     "input": [
      "a"
     ],
     "language": "python",
     "metadata": {},
     "outputs": [
      {
       "metadata": {},
       "output_type": "pyout",
       "prompt_number": 120,
       "text": [
        "array([[1],\n",
        "       [2]])"
       ]
      }
     ],
     "prompt_number": 120
    },
    {
     "cell_type": "code",
     "collapsed": false,
     "input": [
      "b"
     ],
     "language": "python",
     "metadata": {},
     "outputs": [
      {
       "metadata": {},
       "output_type": "pyout",
       "prompt_number": 122,
       "text": [
        "array([[3, 4],\n",
        "       [5, 6]])"
       ]
      }
     ],
     "prompt_number": 122
    },
    {
     "cell_type": "code",
     "collapsed": false,
     "input": [
      "np.hstack((a,b))"
     ],
     "language": "python",
     "metadata": {},
     "outputs": [
      {
       "metadata": {},
       "output_type": "pyout",
       "prompt_number": 115,
       "text": [
        "array([[1, 3, 4],\n",
        "       [2, 5, 6]])"
       ]
      }
     ],
     "prompt_number": 115
    },
    {
     "cell_type": "code",
     "collapsed": false,
     "input": [],
     "language": "python",
     "metadata": {},
     "outputs": []
    }
   ],
   "metadata": {}
  }
 ]
}