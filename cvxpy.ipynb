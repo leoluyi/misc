{
 "metadata": {
  "name": "",
  "signature": "sha256:ebefa56a45e26f50d7f16ac9546af9bcd2c264778e4f401adff1d62612971a3e"
 },
 "nbformat": 3,
 "nbformat_minor": 0,
 "worksheets": [
  {
   "cells": [
    {
     "cell_type": "code",
     "collapsed": false,
     "input": [
      "import cvxpy as cvx\n",
      "\n",
      "# Create two scalar optimization variables.\n",
      "x = cvx.Variable()\n",
      "y = cvx.Variable()\n",
      "\n",
      "# Create two constraints.\n",
      "constraints = [x + y == 1,\n",
      "               x - y >= 1]\n",
      "\n",
      "# Form objective.\n",
      "obj = cvx.Minimize(cvx.square(x - y))\n",
      "\n",
      "# Form and solve problem.\n",
      "prob = cvx.Problem(obj, constraints)\n",
      "prob.solve()  # Returns the optimal value.\n",
      "print \"status:\", prob.status\n",
      "print \"optimal value\", prob.value\n",
      "print \"optimal var\", x.value, y.value "
     ],
     "language": "python",
     "metadata": {},
     "outputs": [
      {
       "output_type": "stream",
       "stream": "stdout",
       "text": [
        "status: optimal\n",
        "optimal value 0.999999999762\n",
        "optimal var 1.00000000001 -1.20824129796e-11\n"
       ]
      }
     ],
     "prompt_number": 1
    },
    {
     "cell_type": "code",
     "collapsed": false,
     "input": [
      "x"
     ],
     "language": "python",
     "metadata": {},
     "outputs": [
      {
       "metadata": {},
       "output_type": "pyout",
       "prompt_number": 2,
       "text": [
        "Variable(1, 1)"
       ]
      }
     ],
     "prompt_number": 2
    },
    {
     "cell_type": "code",
     "collapsed": false,
     "input": [
      "y"
     ],
     "language": "python",
     "metadata": {},
     "outputs": [
      {
       "metadata": {},
       "output_type": "pyout",
       "prompt_number": 3,
       "text": [
        "Variable(1, 1)"
       ]
      }
     ],
     "prompt_number": 3
    },
    {
     "cell_type": "code",
     "collapsed": false,
     "input": [
      "from cvxpy import *"
     ],
     "language": "python",
     "metadata": {},
     "outputs": [],
     "prompt_number": 21
    },
    {
     "cell_type": "code",
     "collapsed": true,
     "input": [
      "prob.objective = Maximize(x + y)"
     ],
     "language": "python",
     "metadata": {},
     "outputs": [],
     "prompt_number": 22
    },
    {
     "cell_type": "code",
     "collapsed": false,
     "input": [
      "print \"optimal value\", prob.solve()"
     ],
     "language": "python",
     "metadata": {},
     "outputs": [
      {
       "output_type": "stream",
       "stream": "stdout",
       "text": [
        "optimal value 0.999999999999\n"
       ]
      }
     ],
     "prompt_number": 23
    },
    {
     "cell_type": "code",
     "collapsed": false,
     "input": [
      "prob.constraints[0] = (x + y <= 3)\n",
      "print \"optimal value\", prob.solve()\n",
      " "
     ],
     "language": "python",
     "metadata": {},
     "outputs": [
      {
       "output_type": "stream",
       "stream": "stdout",
       "text": [
        "optimal value 2.99999999975\n"
       ]
      }
     ],
     "prompt_number": 24
    },
    {
     "cell_type": "code",
     "collapsed": false,
     "input": [
      "from cvxpy import *\n",
      "\n",
      "x = Variable()\n",
      "\n",
      "# An infeasible problem.\n",
      "prob = Problem(Minimize(x), [x >= 1, x <= 0])\n",
      "prob.solve()\n",
      "print \"status:\", prob.status\n",
      "print \"optimal value\", prob.value\n",
      "\n",
      "# An unbounded problem.\n",
      "prob = Problem(Minimize(x))\n",
      "prob.solve()\n",
      "print \"status:\", prob.status\n",
      "print \"optimal value\", prob.value "
     ],
     "language": "python",
     "metadata": {},
     "outputs": [
      {
       "output_type": "stream",
       "stream": "stdout",
       "text": [
        "status: infeasible\n",
        "optimal value inf\n",
        "status: unbounded\n",
        "optimal value -inf\n"
       ]
      }
     ],
     "prompt_number": 25
    },
    {
     "cell_type": "code",
     "collapsed": false,
     "input": [
      "a = Variable()\n",
      "\n",
      "# Column vector variable of length 5.\n",
      "x = Variable(5)\n",
      "\n",
      "# Matrix variable with 4 rows and 7 columns.\n",
      "A = Variable(4, 7)\n",
      " "
     ],
     "language": "python",
     "metadata": {},
     "outputs": [],
     "prompt_number": 26
    },
    {
     "cell_type": "code",
     "collapsed": false,
     "input": [
      "a"
     ],
     "language": "python",
     "metadata": {},
     "outputs": [
      {
       "metadata": {},
       "output_type": "pyout",
       "prompt_number": 27,
       "text": [
        "Variable(1, 1)"
       ]
      }
     ],
     "prompt_number": 27
    },
    {
     "cell_type": "code",
     "collapsed": false,
     "input": [
      "x"
     ],
     "language": "python",
     "metadata": {},
     "outputs": [
      {
       "metadata": {},
       "output_type": "pyout",
       "prompt_number": 28,
       "text": [
        "Variable(5, 1)"
       ]
      }
     ],
     "prompt_number": 28
    },
    {
     "cell_type": "code",
     "collapsed": false,
     "input": [
      "A"
     ],
     "language": "python",
     "metadata": {},
     "outputs": [
      {
       "metadata": {},
       "output_type": "pyout",
       "prompt_number": 29,
       "text": [
        "Variable(4, 7)"
       ]
      }
     ],
     "prompt_number": 29
    },
    {
     "cell_type": "code",
     "collapsed": false,
     "input": [
      "from cvxpy import *\n",
      "import numpy\n",
      "\n",
      "# Problem data.\n",
      "m = 10\n",
      "n = 5\n",
      "numpy.random.seed(1)\n",
      "A = numpy.random.randn(m, n)\n",
      "b = numpy.random.randn(m, 1)\n",
      "\n",
      "x = Variable(n) "
     ],
     "language": "python",
     "metadata": {},
     "outputs": [],
     "prompt_number": 35
    },
    {
     "cell_type": "code",
     "collapsed": false,
     "input": [
      "square(A*x - b)"
     ],
     "language": "python",
     "metadata": {},
     "outputs": [
      {
       "metadata": {},
       "output_type": "pyout",
       "prompt_number": 36,
       "text": [
        "Expression(CONVEX, POSITIVE, (10, 1))"
       ]
      }
     ],
     "prompt_number": 36
    },
    {
     "cell_type": "code",
     "collapsed": false,
     "input": [
      "sum_entries(square(A*x - b)) "
     ],
     "language": "python",
     "metadata": {},
     "outputs": [
      {
       "metadata": {},
       "output_type": "pyout",
       "prompt_number": 37,
       "text": [
        "Expression(CONVEX, POSITIVE, (1, 1))"
       ]
      }
     ],
     "prompt_number": 37
    },
    {
     "cell_type": "code",
     "collapsed": false,
     "input": [
      "objective = Minimize(sum_entries(square(A*x - b)))"
     ],
     "language": "python",
     "metadata": {},
     "outputs": [],
     "prompt_number": 38
    },
    {
     "cell_type": "code",
     "collapsed": false,
     "input": [
      "constraints = [0 <= x, x <= 1]\n",
      "prob = Problem(objective, constraints)"
     ],
     "language": "python",
     "metadata": {},
     "outputs": [],
     "prompt_number": 39
    },
    {
     "cell_type": "code",
     "collapsed": false,
     "input": [
      "print \"Optimal value\", prob.solve()\n",
      " "
     ],
     "language": "python",
     "metadata": {},
     "outputs": [
      {
       "output_type": "stream",
       "stream": "stdout",
       "text": [
        "Optimal value 4.14133859576\n"
       ]
      }
     ],
     "prompt_number": 40
    },
    {
     "cell_type": "code",
     "collapsed": false,
     "input": [
      "print \"Optimal var\"\n",
      "print x.value # A numpy matrix."
     ],
     "language": "python",
     "metadata": {},
     "outputs": [
      {
       "output_type": "stream",
       "stream": "stdout",
       "text": [
        "Optimal var\n",
        "[[  1.30514622e-10]\n",
        " [  7.02401746e-10]\n",
        " [  1.34641800e-01]\n",
        " [  1.24973525e-01]\n",
        " [  2.84423145e-10]]\n"
       ]
      }
     ],
     "prompt_number": 41
    },
    {
     "cell_type": "code",
     "collapsed": false,
     "input": [],
     "language": "python",
     "metadata": {},
     "outputs": []
    }
   ],
   "metadata": {}
  }
 ]
}