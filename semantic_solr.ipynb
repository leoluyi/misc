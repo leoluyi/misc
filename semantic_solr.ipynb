{
 "metadata": {
  "name": "",
  "signature": "sha256:3daa3f6f2d9d864fcbfc9281d15bcb3c3a57e12156eac9cab32be68a7dd81e0e"
 },
 "nbformat": 3,
 "nbformat_minor": 0,
 "worksheets": [
  {
   "cells": [
    {
     "cell_type": "code",
     "collapsed": false,
     "input": [
      "import requests\n",
      "from collections import deque\n",
      "class SolrTermVectorCollector(object):\n",
      "    def __pathToTvrh(self, solrUrl, collection):\n",
      "        import urlparse\n",
      "        userSpecifiedUrl = urlparse.urlsplit(solrUrl)\n",
      "        schemeAndNetloc = urlparse.SplitResult(scheme=userSpecifiedUrl.scheme,\n",
      "                                               netloc=userSpecifiedUrl.netloc,\n",
      "                                               path='',\n",
      "                                               query='',\n",
      "                                               fragment='')\n",
      "        solrBaseUrl = urlparse.urlunsplit(schemeAndNetloc)\n",
      "        solrBaseUrl = urlparse.urljoin(solrBaseUrl, 'solr/')\n",
      "        solrBaseUrl = urlparse.urljoin(solrBaseUrl, collection + '/')\n",
      "        solrBaseUrl = urlparse.urljoin(solrBaseUrl, 'tvrh')\n",
      "        return solrBaseUrl\n",
      "    \n",
      "    def __init__(self, solrUrl=\"http://localhost:8983/solr\",\n",
      "            collection=\"collection1\",\n",
      "            field='Title',\n",
      "            feature='tf-idf',\n",
      "            batchSize=10000,\n",
      "            numDocs=999999999):\n",
      "        self.solrTvrhUrl = self.__pathToTvrh(solrUrl, collection)\n",
      "        self.field = field\n",
      "        self.feature = feature\n",
      "        self.batchSize = batchSize\n",
      "        self.numDocs = numDocs\n",
      "        self.sess = requests.Session()\n",
      "        self.count = 0\n",
      "\n",
      "        self.termVectors = []\n",
      "\n",
      "    def __iter__(self):\n",
      "        return self\n",
      "\n",
      "    def next(self):\n",
      "        if self.count >= self.numDocs:\n",
      "            raise StopIteration\n",
      "        if len(self.termVectors) == 0:\n",
      "            #then get some more!\n",
      "            params = {\"tv.fl\": self.field,\n",
      "                      \"fl\": \"nonexistentfield\",#to limit the volumn of data returned\n",
      "                      \"wt\": \"json\",\n",
      "                      \"tv.all\": \"true\",\n",
      "                      \"rows\": min(self.batchSize, self.numDocs-self.count),\n",
      "                      \"start\": self.count,\n",
      "                      \"q\": self.field + \":*\"}\n",
      "            resp = self.sess.get(url=self.solrTvrhUrl, params=params)\n",
      "            if resp.status_code != 200:\n",
      "                raise IOError(\"HTTP Status \" + str(resp.status_code))\n",
      "            self.termVectors = deque(resp.json()['termVectors'][3::2])#overcoming weird non-dictionary json format\n",
      "\n",
      "        if len(self.termVectors) == 0:\n",
      "            #then Solr's our of documents\n",
      "            raise StopIteration\n",
      "        tv = self.termVectors.popleft()\n",
      "        id = tv[1]\n",
      "        termVector = {}\n",
      "        data = tv[3] #all of the terms and features in this vector\n",
      "        for i in xrange(0,len(data),2):\n",
      "            term = data[i]\n",
      "            featureValue = [data[i+1][j+1] for j in range(len(data[i+1])) if data[i+1][j] == self.feature][0]\n",
      "            termVector[term] = featureValue\n",
      "        self.count += 1\n",
      "        return (id, termVector)\n"
     ],
     "language": "python",
     "metadata": {},
     "outputs": [],
     "prompt_number": 1
    },
    {
     "cell_type": "code",
     "collapsed": false,
     "input": [
      "from collections import defaultdict\n",
      "class StringIndexDict(object):\n",
      "    \"\"\"\n",
      "    A 2-way dict-like object that only has functionality for getting and item.\n",
      "    If you get with a string key, it will return the integer associated with that key.\n",
      "    If you get with a integer key, it will return the string associated with that key.\n",
      "    If you get an item that's currently not there, then the dict will return the next available\n",
      "    integer (unique) and return that. If you call freeze on the dict, then nothing more\n",
      "    can be added to it.\n",
      "    \"\"\"\n",
      "    def __init__(self):\n",
      "        self.currentIndex = -1\n",
      "        self.stringDict = defaultdict(self._increment)\n",
      "        self.indexDict = {}\n",
      "\n",
      "    def _increment(self):\n",
      "        self.currentIndex += 1\n",
      "        self.indexDict[self.currentIndex] = self.keyInQuestion #kinda funky, but since this will always be single threaded, it's ok\n",
      "        return self.currentIndex\n",
      "\n",
      "    def __getitem__(self,key):\n",
      "        self.keyInQuestion = key\n",
      "        if isinstance(key,basestring):\n",
      "            return self.stringDict[key]\n",
      "        else :\n",
      "            return self.indexDict[key]\n",
      "\n",
      "    def size(self):\n",
      "        return self.currentIndex + 1\n",
      "\n",
      "    def freeze(self):\n",
      "        #allow no more changes\n",
      "        self.stringDict.default_factory = None"
     ],
     "language": "python",
     "metadata": {},
     "outputs": [],
     "prompt_number": 2
    },
    {
     "cell_type": "code",
     "collapsed": false,
     "input": [
      "import scipy.sparse\n",
      "import numpy\n",
      "import sparsesvd\n",
      "class TermDocCollection(object):\n",
      "    def __init__(self,source=None,numTopics=10):\n",
      "        self._docDict = StringIndexDict()\n",
      "        self._termDict = StringIndexDict()\n",
      "        self._termVectors = []\n",
      "        self.numTopics = numTopics\n",
      "        for termVector in source:\n",
      "            self._termVectors.append( #append tuple of (docNum, {termNum_i,numberOccurrences_i})\n",
      "                (\n",
      "                    self._docDict[termVector[0]],\n",
      "                    {self._termDict[k]:v for k,v in termVector[1].iteritems()}\n",
      "                )\n",
      "            )\n",
      "        self._termDict.freeze()\n",
      "        self._docDict.freeze()\n",
      "        self.numTerms = self._termDict.size()\n",
      "        self.numDocs = self._docDict.size()\n",
      "\n",
      "        #memoized later:\n",
      "        self._svd = None\n",
      "        self._cscMatrix = None\n",
      "        self._uPrime = None\n",
      "        self._uStripped = None\n",
      "\n",
      "\n",
      "    def _getCscMatrix(self):#compressed sparse column matrix\n",
      "        if self._cscMatrix is not None:\n",
      "            return self._cscMatrix\n",
      "        num_nnz, data, indices, indptr = 0, [], [], [0]\n",
      "        for termVector in self._termVectors:\n",
      "            newIndices = [i for i in termVector[1].keys()]\n",
      "            newValues = [v for v in termVector[1].values()]\n",
      "            indices.extend(newIndices)\n",
      "            data.extend(newValues)\n",
      "            num_nnz += len(newValues)\n",
      "            indptr.append(num_nnz)\n",
      "        data = numpy.asarray(data)\n",
      "        indices = numpy.asarray(indices)\n",
      "        self._cscMatrix = scipy.sparse.csc_matrix((data, indices, indptr),\n",
      "                shape=(self.numTerms, self.numDocs))\n",
      "        return self._cscMatrix\n",
      "\n",
      "    def _getSvd(self):\n",
      "        if self._svd is not None:\n",
      "            return self._svd\n",
      "        self._svd = sparsesvd.sparsesvd(self._getCscMatrix(), self.numTopics)\n",
      "        return self._svd\n",
      "\n",
      "    def _getUprime(self):\n",
      "        if self._uPrime is not None:\n",
      "            return self._uPrime\n",
      "        u,s,v = self._getSvd()\n",
      "        self._uPrime = numpy.dot(u.T,numpy.diag(s))\n",
      "        return self._uPrime\n",
      "\n",
      "    def getBlurredTerms(self,doc,cutoff):\n",
      "        if isinstance(doc,str):\n",
      "            doc = self._docDict[doc]\n",
      "        uPrime = self._getUprime()\n",
      "        _,_,v = self._getSvd()\n",
      "        blurredField = numpy.dot(uPrime,v[:,doc])\n",
      "        tokenIds = numpy.where(blurredField>cutoff)[0]\n",
      "        tokens = [self._termDict[id] for id in tokenIds]\n",
      "        return (self._docDict[doc], tokens)\n",
      "\n",
      "    def _getStrippedUprime(self):\n",
      "        #returns uPrime except that each word is only associated with their maximum \n",
      "        #score in any topic (all other values are set to 0). This might give better \n",
      "        #results for topic word lists\n",
      "        if self._uStripped is not None:\n",
      "            return self._uStripped\n",
      "        uPrime = self._getUprime()\n",
      "        uStripped = numpy.zeros(uPrime.shape)\n",
      "        for termIndex in xrange(uPrime.shape[0]):\n",
      "            maxIndex = numpy.argmax(uPrime[termIndex])\n",
      "            uStripped[termIndex,maxIndex] = uPrime[termIndex,maxIndex]\n",
      "        self._uStripped = uStripped\n",
      "        return uStripped\n",
      "\n",
      "    def getTopic(self,topicNum,cutoff,stripped=True):\n",
      "        if stripped:\n",
      "            u = self._getStrippedUprime()\n",
      "        else:\n",
      "            u = self._getUprime()\n",
      "\n",
      "        return  [self._termDict[i] \n",
      "                    for i in numpy.where(u.T[topicNum]>cutoff)[0]\n",
      "                ]\n",
      "        \n",
      "    def getRelatedTerms(self,token,numTerms,tokens_only=True):\n",
      "        uP = self._getUprime()\n",
      "        termDict = self._termDict\n",
      "        u,_,_ = self._getSvd()\n",
      "        strength_and_indices = sorted( zip(numpy.dot(uP[termDict[token]],u),range(len(uP))) , reverse=True )\n",
      "        method = 0\n",
      "        if tokens_only:\n",
      "            method = lambda i: termDict[i[1]]\n",
      "        else:\n",
      "            method = lambda i: (termDict[i[1]],i[0])\n",
      "        return  [ method(i) for i in strength_and_indices[:numTerms] ]\n"
     ],
     "language": "python",
     "metadata": {},
     "outputs": [],
     "prompt_number": 3
    },
    {
     "cell_type": "code",
     "collapsed": false,
     "input": [
      "class SolrBlurredTermUpdater(object):\n",
      "    def __pathToUpdate(self, solrUrl, collection):\n",
      "        #TODO there is plenty of stuff duplicated in __pathToTvrh above - DRY\n",
      "        import urlparse\n",
      "        userSpecifiedUrl = urlparse.urlsplit(solrUrl)\n",
      "        schemeAndNetloc = urlparse.SplitResult(scheme=userSpecifiedUrl.scheme,\n",
      "                                               netloc=userSpecifiedUrl.netloc,\n",
      "                                               path='',\n",
      "                                               query='',\n",
      "                                               fragment='')\n",
      "        solrBaseUrl = urlparse.urlunsplit(schemeAndNetloc)\n",
      "        solrBaseUrl = urlparse.urljoin(solrBaseUrl, 'solr/')\n",
      "        solrBaseUrl = urlparse.urljoin(solrBaseUrl, collection + '/')\n",
      "        solrBaseUrl = urlparse.urljoin(solrBaseUrl, 'update')\n",
      "        return solrBaseUrl\n",
      "\n",
      "    def __init__(self,\n",
      "            termDocCollector,\n",
      "            blurredField,\n",
      "            solrUrl=\"http://localhost:8983/solr\",\n",
      "            collection=\"collection1\",\n",
      "            idField='Id',\n",
      "            batchSize=1000):\n",
      "        self.termDocCollector = termDocCollector\n",
      "        self.solrUpdateUrl = self.__pathToUpdate(solrUrl, collection)\n",
      "        self.batchSize = batchSize\n",
      "        self.sess = requests.Session()\n",
      "        self.batchSize = batchSize\n",
      "        self.numDocs = termDocCollector.numDocs\n",
      "        self.docString = u\"\"\"\n",
      "            <doc>\n",
      "                <field name=\"{0}\">{1}</field>\n",
      "                <field name=\"{2}\" update=\"set\">{3}</field>\n",
      "            </doc>\"\"\".format(idField,\"{0}\",blurredField,\"{1}\")\n",
      "\n",
      "\n",
      "    def pushToSolr(self,cutoff):\n",
      "        #TODO create an iterator in the TermDocCollector for this\n",
      "        for i in xrange(0,self.numDocs,self.batchSize): \n",
      "            docs = [self.termDocCollector.getBlurredTerms(j,cutoff)\n",
      "                    for j in xrange(i,min(i+self.batchSize,self.numDocs))]\n",
      "            docStrings = []\n",
      "            for doc in docs:\n",
      "                    docStrings.append(self.docString.format(doc[0],\" \".join(doc[1])))\n",
      "            docStrings = \" \".join(docStrings).encode('ascii','xmlcharrefreplace')\n",
      "\n",
      "            #TODO also needs to be DRYed per the comment above - considr making a lightweight Solr client\n",
      "            params = {'commit': 'true'}\n",
      "            headers = {'content-type': 'application/xml'}\n",
      "            '''\n",
      "            resp = requests.post(self.solrUpdateUrl,\n",
      "                    u\"<add>{0}</add>\".format(docStrings),\n",
      "                    params=params,headers = headers)\n",
      "            if resp.status_code != 200:\n",
      "                raise IOError(\"HTTP Status \" + str(resp.status_code))\n",
      "            '''\n"
     ],
     "language": "python",
     "metadata": {},
     "outputs": [],
     "prompt_number": 4
    },
    {
     "cell_type": "code",
     "collapsed": false,
     "input": [
      "def say(a_list):\n",
      "    print \" \".join(a_list)\n",
      "\n",
      "def main(field,collection,solrUrl):\n",
      "    print \"COLLECTING TERMS\"\n",
      "    stvc = SolrTermVectorCollector(field=field,feature='tf',batchSize=1000)\n",
      "    tdc = TermDocCollection(source=stvc,numTopics=150)\n",
      "\n",
      "    print \"DEMO AUTOGEN SYNONYMS FOR DOCUMENTS\"\n",
      "    print \"\\n**star wars document**\"\n",
      "    say(tdc.getBlurredTerms('20710',0.2)[1])\n",
      "    print \"**harry potter document**\"\n",
      "    say(tdc.getBlurredTerms('17250',0.1)[1])\n",
      "\n",
      "    print \"\\nDEMO TERM SIMILARITY\"\n",
      "    print \"**kirk**\"\n",
      "    say(tdc.getRelatedTerms('kirk',30))\n",
      "    print \"**potter**\"\n",
      "    say(tdc.getRelatedTerms('potter',30))\n",
      "    print \"**vader**\"\n",
      "    say(tdc.getRelatedTerms('vader',30))\n",
      "    print \"**power**\"\n",
      "    say(tdc.getRelatedTerms('power',30))\n",
      "    print \"**frodo**\"\n",
      "    say(tdc.getRelatedTerms('frodo',30))\n",
      "    \n",
      "    print \"\\nSENDING UPDATES TO SOLR\"\n",
      "    #SolrBlurredTermUpdater(tdc,blurredField=\"BodyBlurred\").pushToSolr(0.1)\n",
      "    print \"done\""
     ],
     "language": "python",
     "metadata": {},
     "outputs": [],
     "prompt_number": 5
    },
    {
     "cell_type": "code",
     "collapsed": false,
     "input": [
      "from sys import argv"
     ],
     "language": "python",
     "metadata": {},
     "outputs": [],
     "prompt_number": 6
    },
    {
     "cell_type": "code",
     "collapsed": false,
     "input": [
      "field = 'Body'"
     ],
     "language": "python",
     "metadata": {},
     "outputs": [],
     "prompt_number": 7
    },
    {
     "cell_type": "code",
     "collapsed": false,
     "input": [
      "collection = \"collection1\""
     ],
     "language": "python",
     "metadata": {},
     "outputs": [],
     "prompt_number": 8
    },
    {
     "cell_type": "code",
     "collapsed": false,
     "input": [
      "solrUrl = \"http://localhost:8983/solr\""
     ],
     "language": "python",
     "metadata": {},
     "outputs": [],
     "prompt_number": 9
    },
    {
     "cell_type": "code",
     "collapsed": false,
     "input": [
      "main(field,collection,solrUrl)"
     ],
     "language": "python",
     "metadata": {},
     "outputs": [
      {
       "output_type": "stream",
       "stream": "stdout",
       "text": [
        "COLLECTING TERMS\n",
        "DEMO AUTOGEN SYNONYMS FOR DOCUMENTS"
       ]
      },
      {
       "output_type": "stream",
       "stream": "stdout",
       "text": [
        "\n",
        "\n",
        "**star wars document**\n",
        "call film secret live plan refer matter star person reason rule form side luca doctor read master lord weapon jame son turn blood vader skywalk anakin palpatin darth emperor sidiou black dark design potter hero titl true bby tolkien father apprentic evil sith name eventu tom riddl presid hobbit fantasi maul dooku mace plaguei bane borusa"
       ]
      },
      {
       "output_type": "stream",
       "stream": "stdout",
       "text": [
        "\n",
        "**harry potter document**\n",
        "call head cast help secret live charact state histori ag year cours person side sort weapon jame chapter student dark love wizard hat potter witch room harri studi monei parent slytherin hogwart school rowl phoenix jkr j.k voldemort popul chamber learn ghost main art professor hermion hallow deathli lili snape trace eater appli muggl member nevil quidditch ron hagrid curs siriu lupin goblin\n",
        "\n",
        "DEMO TERM SIMILARITY\n",
        "**kirk**\n",
        "enterpris trek captain command feder offic star vulcan ship episod kirk to crew direct planet origin spock prime starfleet klingon reason time ncc 1701 mirror rank seri refer control movi"
       ]
      },
      {
       "output_type": "stream",
       "stream": "stdout",
       "text": [
        "\n",
        "**potter**\n",
        "harri potter voldemort wizard snape death magic jame love spell time rowl eater lili travel seri hous hand hogwart three wormtail muggl find slytherin kill secret hallow lord deathli order"
       ]
      },
      {
       "output_type": "stream",
       "stream": "stdout",
       "text": [
        "\n",
        "**vader**\n",
        "vader luke emperor darth palpatin anakin sith skywalk sidiou apprentic empir luca side star son forc turn kill death rule suit father question jedi command tarkin obi dark plan wan"
       ]
      },
      {
       "output_type": "stream",
       "stream": "stdout",
       "text": [
        "\n",
        "**power**\n",
        "power ring abil energi mutant superman human magic time forc capabl sauron steam physic control marvel creat demon allow weapon strength earth level requir univers destroi kill limit thing sourc"
       ]
      },
      {
       "output_type": "stream",
       "stream": "stdout",
       "text": [
        "\n",
        "**frodo**\n",
        "ring gandalf frodo hobbit sam head aragorn song king bilbo sauron gollum legola merri battl pippin tell vi sing leav rhyme return elv attack meet ent shire long land fellowship"
       ]
      },
      {
       "output_type": "stream",
       "stream": "stdout",
       "text": [
        "\n",
        "\n",
        "SENDING UPDATES TO SOLR\n",
        "done"
       ]
      },
      {
       "output_type": "stream",
       "stream": "stdout",
       "text": [
        "\n"
       ]
      }
     ],
     "prompt_number": 23
    },
    {
     "cell_type": "code",
     "collapsed": false,
     "input": [
      "stvc = SolrTermVectorCollector(field=field,feature='tf',batchSize=1000)"
     ],
     "language": "python",
     "metadata": {},
     "outputs": [],
     "prompt_number": 24
    },
    {
     "cell_type": "code",
     "collapsed": false,
     "input": [
      "stvc.solrTvrhUrl"
     ],
     "language": "python",
     "metadata": {},
     "outputs": [
      {
       "metadata": {},
       "output_type": "pyout",
       "prompt_number": 25,
       "text": [
        "'http://localhost:8983/solr/collection1/tvrh'"
       ]
      }
     ],
     "prompt_number": 25
    },
    {
     "cell_type": "code",
     "collapsed": false,
     "input": [
      "tdc = TermDocCollection(source=stvc,numTopics=150)"
     ],
     "language": "python",
     "metadata": {},
     "outputs": [],
     "prompt_number": 26
    },
    {
     "cell_type": "code",
     "collapsed": false,
     "input": [
      "len(tdc._termVectors)"
     ],
     "language": "python",
     "metadata": {},
     "outputs": [
      {
       "metadata": {},
       "output_type": "pyout",
       "prompt_number": 27,
       "text": [
        "18275"
       ]
      }
     ],
     "prompt_number": 27
    },
    {
     "cell_type": "code",
     "collapsed": false,
     "input": [
      "tdc._termVectors[:2]"
     ],
     "language": "python",
     "metadata": {},
     "outputs": [
      {
       "metadata": {},
       "output_type": "pyout",
       "prompt_number": 28,
       "text": [
        "[(0,\n",
        "  {0: 1,\n",
        "   1: 2,\n",
        "   2: 4,\n",
        "   3: 1,\n",
        "   4: 4,\n",
        "   5: 1,\n",
        "   6: 2,\n",
        "   7: 1,\n",
        "   8: 2,\n",
        "   9: 1,\n",
        "   10: 1,\n",
        "   11: 1,\n",
        "   12: 2,\n",
        "   13: 1,\n",
        "   14: 1,\n",
        "   15: 1,\n",
        "   16: 1,\n",
        "   17: 1,\n",
        "   18: 1,\n",
        "   19: 1,\n",
        "   20: 1,\n",
        "   21: 1,\n",
        "   22: 2,\n",
        "   23: 1,\n",
        "   24: 1}),\n",
        " (1,\n",
        "  {2: 3,\n",
        "   4: 2,\n",
        "   10: 1,\n",
        "   25: 1,\n",
        "   26: 1,\n",
        "   27: 1,\n",
        "   28: 1,\n",
        "   29: 1,\n",
        "   30: 1,\n",
        "   31: 1,\n",
        "   32: 1,\n",
        "   33: 1,\n",
        "   34: 1,\n",
        "   35: 2,\n",
        "   36: 1,\n",
        "   37: 1,\n",
        "   38: 1,\n",
        "   39: 1,\n",
        "   40: 1,\n",
        "   41: 1,\n",
        "   42: 3,\n",
        "   43: 2,\n",
        "   44: 1,\n",
        "   45: 2,\n",
        "   46: 1,\n",
        "   47: 1,\n",
        "   48: 1,\n",
        "   49: 2,\n",
        "   50: 2,\n",
        "   51: 1,\n",
        "   52: 1,\n",
        "   53: 1,\n",
        "   54: 2,\n",
        "   55: 1,\n",
        "   56: 1})]"
       ]
      }
     ],
     "prompt_number": 28
    },
    {
     "cell_type": "markdown",
     "metadata": {},
     "source": [
      "term \u5728 matrix \u7684\u7de8\u865f"
     ]
    },
    {
     "cell_type": "code",
     "collapsed": false,
     "input": [
      "tdc._termDict.stringDict.items()[:10]"
     ],
     "language": "python",
     "metadata": {},
     "outputs": [
      {
       "metadata": {},
       "output_type": "pyout",
       "prompt_number": 29,
       "text": [
        "[(u'fawn', 32842),\n",
        " (u'circuitri', 8472),\n",
        " (u'fawk', 7547),\n",
        " (u'woodi', 19804),\n",
        " (u'tilton', 9967),\n",
        " (u'berlinghoff', 26030),\n",
        " (u'suzann', 3615),\n",
        " (u'bedknob', 15118),\n",
        " (u'17.01.2009', 32771),\n",
        " (u'hogswatch', 30041)]"
       ]
      }
     ],
     "prompt_number": 29
    },
    {
     "cell_type": "markdown",
     "metadata": {},
     "source": [
      "doc \u5728 matrix \u7684\u7de8\u865f"
     ]
    },
    {
     "cell_type": "code",
     "collapsed": false,
     "input": [
      "tdc._docDict.stringDict.items()[:10]"
     ],
     "language": "python",
     "metadata": {},
     "outputs": [
      {
       "metadata": {},
       "output_type": "pyout",
       "prompt_number": 30,
       "text": [
        "[(u'20057', 17106),\n",
        " (u'3480', 7222),\n",
        " (u'19719', 16802),\n",
        " (u'21094', 18051),\n",
        " (u'20051', 17100),\n",
        " (u'11542', 1448),\n",
        " (u'11543', 1449),\n",
        " (u'11540', 1446),\n",
        " (u'11541', 1447),\n",
        " (u'11546', 1452)]"
       ]
      }
     ],
     "prompt_number": 30
    },
    {
     "cell_type": "markdown",
     "metadata": {},
     "source": [
      "\u5f97\u5230\u7a00\u758f\u77e9\u9663, 35748 \u500bterm, 18275\u7bc7\u6587\u7ae0"
     ]
    },
    {
     "cell_type": "code",
     "collapsed": false,
     "input": [
      "tdc._getCscMatrix()"
     ],
     "language": "python",
     "metadata": {},
     "outputs": [
      {
       "metadata": {},
       "output_type": "pyout",
       "prompt_number": 31,
       "text": [
        "<35748x18275 sparse matrix of type '<type 'numpy.int64'>'\n",
        "\twith 715013 stored elements in Compressed Sparse Column format>"
       ]
      }
     ],
     "prompt_number": 31
    },
    {
     "cell_type": "markdown",
     "metadata": {},
     "source": [
      "svd\u5206\u89e3"
     ]
    },
    {
     "cell_type": "code",
     "collapsed": false,
     "input": [
      "U, S, V = tdc._getSvd()"
     ],
     "language": "python",
     "metadata": {},
     "outputs": [],
<<<<<<< HEAD
     "prompt_number": 59
=======
     "prompt_number": 32
>>>>>>> 9e681a044784d2d01548402b61f3ea80c1607db9
    },
    {
     "cell_type": "markdown",
     "metadata": {},
     "source": [
      "term , topic matrix"
     ]
    },
    {
     "cell_type": "code",
     "collapsed": false,
     "input": [
      "U.shape"
     ],
     "language": "python",
     "metadata": {},
     "outputs": [
      {
       "metadata": {},
       "output_type": "pyout",
<<<<<<< HEAD
       "prompt_number": 60,
=======
       "prompt_number": 33,
>>>>>>> 9e681a044784d2d01548402b61f3ea80c1607db9
       "text": [
        "(150, 35748)"
       ]
      }
     ],
<<<<<<< HEAD
     "prompt_number": 60
=======
     "prompt_number": 33
>>>>>>> 9e681a044784d2d01548402b61f3ea80c1607db9
    },
    {
     "cell_type": "markdown",
     "metadata": {},
     "source": [
      "weight matrix"
     ]
    },
    {
     "cell_type": "code",
     "collapsed": false,
     "input": [
      "S.shape"
     ],
     "language": "python",
     "metadata": {},
     "outputs": [
      {
       "metadata": {},
       "output_type": "pyout",
<<<<<<< HEAD
       "prompt_number": 61,
=======
       "prompt_number": 34,
>>>>>>> 9e681a044784d2d01548402b61f3ea80c1607db9
       "text": [
        "(150,)"
       ]
      }
     ],
<<<<<<< HEAD
     "prompt_number": 61
=======
     "prompt_number": 34
>>>>>>> 9e681a044784d2d01548402b61f3ea80c1607db9
    },
    {
     "cell_type": "markdown",
     "metadata": {},
     "source": [
      "doc, topic matrix"
     ]
    },
    {
     "cell_type": "code",
     "collapsed": false,
     "input": [
      "V.shape"
     ],
     "language": "python",
     "metadata": {},
     "outputs": [
      {
       "metadata": {},
       "output_type": "pyout",
<<<<<<< HEAD
       "prompt_number": 62,
=======
       "prompt_number": 35,
>>>>>>> 9e681a044784d2d01548402b61f3ea80c1607db9
       "text": [
        "(150, 18275)"
       ]
      }
     ],
<<<<<<< HEAD
     "prompt_number": 62
=======
     "prompt_number": 35
>>>>>>> 9e681a044784d2d01548402b61f3ea80c1607db9
    },
    {
     "cell_type": "markdown",
     "metadata": {},
     "source": [
      "\u5f97\u5230 U'"
     ]
    },
    {
     "cell_type": "code",
     "collapsed": false,
     "input": [
      "tdc._getUprime().shape"
     ],
     "language": "python",
     "metadata": {},
     "outputs": [
      {
       "metadata": {},
       "output_type": "pyout",
       "prompt_number": 36,
       "text": [
        "(35748, 150)"
       ]
      }
     ],
     "prompt_number": 36
    },
    {
     "cell_type": "code",
     "collapsed": false,
     "input": [
      "tdc._getUprime()[:10]"
     ],
     "language": "python",
     "metadata": {},
     "outputs": [
      {
       "metadata": {},
       "output_type": "pyout",
       "prompt_number": 37,
       "text": [
        "array([[  4.13881548e+00,  -1.04423245e+01,  -5.07307185e+00, ...,\n",
        "         -1.02975914e+00,  -1.42660867e+00,  -8.33641325e-01],\n",
        "       [  2.27347405e-01,  -2.46971955e+01,  -7.38614076e+00, ...,\n",
        "         -2.57424150e-01,  -8.46157557e-01,  -1.11337387e+00],\n",
        "       [  1.12191076e-03,  -1.03868853e-01,  -4.31928249e-02, ...,\n",
        "         -1.11876086e-02,  -7.58574198e-02,  -1.87460110e-02],\n",
        "       ..., \n",
        "       [  3.94677169e-02,  -3.97104729e+00,  -1.52459519e+00, ...,\n",
        "          6.84723769e-02,  -4.79641674e-01,  -2.84436467e-01],\n",
        "       [  2.34394456e+00,  -3.21919551e+01,  -1.21626137e+01, ...,\n",
        "          1.09635267e+00,  -2.59567282e-01,   1.16638997e+00],\n",
        "       [  4.60777664e-02,  -4.75430054e+00,  -1.90324885e+00, ...,\n",
        "          5.12692088e-01,   3.06496637e-01,   4.46819623e-01]])"
       ]
      }
     ],
     "prompt_number": 37
    },
    {
     "cell_type": "markdown",
     "metadata": {},
     "source": [
      "\u5f97\u5230\u7b2c 20710\u7bc7\u6587\u7ae0 topic \u76f8\u95dc\u7684 term"
     ]
    },
    {
     "cell_type": "code",
     "collapsed": false,
     "input": [
      "tdc.getBlurredTerms('20710',0.2)[1][:5]"
     ],
     "language": "python",
     "metadata": {},
     "outputs": [
      {
       "metadata": {},
       "output_type": "pyout",
       "prompt_number": 38,
       "text": [
        "[u'call', u'film', u'secret', u'live', u'plan']"
       ]
      }
     ],
     "prompt_number": 38
    },
    {
     "cell_type": "markdown",
     "metadata": {},
     "source": [
      "\u6d41\u7a0b\u89e3\u91cb"
     ]
    },
    {
     "cell_type": "code",
     "collapsed": false,
     "input": [
<<<<<<< HEAD
      "blurredField = numpy.dot(tdc._getUprime(), V[:,tdc._docDict['20710']])"
=======
      "blurredField = numpy.dot(tdc._getUprime(), tdc._getSvd()[2][:,tdc._docDict['20710']])"
>>>>>>> 9e681a044784d2d01548402b61f3ea80c1607db9
     ],
     "language": "python",
     "metadata": {},
     "outputs": [],
<<<<<<< HEAD
     "prompt_number": 63
=======
     "prompt_number": 39
>>>>>>> 9e681a044784d2d01548402b61f3ea80c1607db9
    },
    {
     "cell_type": "code",
     "collapsed": false,
     "input": [
      "blurredField.shape"
     ],
     "language": "python",
     "metadata": {},
     "outputs": [
      {
       "metadata": {},
       "output_type": "pyout",
<<<<<<< HEAD
       "prompt_number": 64,
=======
       "prompt_number": 40,
>>>>>>> 9e681a044784d2d01548402b61f3ea80c1607db9
       "text": [
        "(35748,)"
       ]
      }
     ],
<<<<<<< HEAD
     "prompt_number": 64
=======
     "prompt_number": 40
>>>>>>> 9e681a044784d2d01548402b61f3ea80c1607db9
    },
    {
     "cell_type": "code",
     "collapsed": false,
     "input": [
      "blurredField"
     ],
     "language": "python",
     "metadata": {},
     "outputs": [
      {
       "metadata": {},
       "output_type": "pyout",
<<<<<<< HEAD
       "prompt_number": 65,
=======
       "prompt_number": 41,
>>>>>>> 9e681a044784d2d01548402b61f3ea80c1607db9
       "text": [
        "array([-0.19465188, -0.04007188,  0.00315176, ..., -0.00036164,\n",
        "       -0.00036164, -0.00111533])"
       ]
      }
     ],
<<<<<<< HEAD
     "prompt_number": 65
=======
     "prompt_number": 41
>>>>>>> 9e681a044784d2d01548402b61f3ea80c1607db9
    },
    {
     "cell_type": "code",
     "collapsed": false,
     "input": [
      "tokenIds = numpy.where(blurredField > 0.2)[0]"
     ],
     "language": "python",
     "metadata": {},
     "outputs": [],
     "prompt_number": 42
    },
    {
     "cell_type": "code",
     "collapsed": false,
     "input": [
      "tokenIds"
     ],
     "language": "python",
     "metadata": {},
     "outputs": [
      {
       "metadata": {},
       "output_type": "pyout",
       "prompt_number": 43,
       "text": [
        "array([   11,    34,    41,    57,    59,   143,   196,   222,   233,\n",
        "         281,   286,   319,   325,   344,   394,   448,   494,   544,\n",
        "         580,   634,   727,   762,   770,   784,   786,   792,   795,\n",
        "         798,   807,   824,   968,  1010,  1122,  1162,  1233,  1608,\n",
        "        1653,  1686,  1914,  2139,  2141,  2208,  2218,  2444,  2451,\n",
        "        2486,  3152,  3523,  3722,  4184,  6357,  6369,  7006,  9108,\n",
        "        9214, 15422])"
       ]
      }
     ],
     "prompt_number": 43
    },
    {
     "cell_type": "code",
     "collapsed": false,
     "input": [
      "tokens = [tdc._termDict[id] for id in tokenIds]"
     ],
     "language": "python",
     "metadata": {},
     "outputs": [],
     "prompt_number": 44
    },
    {
     "cell_type": "code",
     "collapsed": false,
     "input": [
      "tokens[:20]"
     ],
     "language": "python",
     "metadata": {},
     "outputs": [
      {
       "metadata": {},
       "output_type": "pyout",
       "prompt_number": 45,
       "text": [
        "[u'call',\n",
        " u'film',\n",
        " u'secret',\n",
        " u'live',\n",
        " u'plan',\n",
        " u'refer',\n",
        " u'matter',\n",
        " u'star',\n",
        " u'person',\n",
        " u'reason',\n",
        " u'rule',\n",
        " u'form',\n",
        " u'side',\n",
        " u'luca',\n",
        " u'doctor',\n",
        " u'read',\n",
        " u'master',\n",
        " u'lord',\n",
        " u'weapon',\n",
        " u'jame']"
       ]
      }
     ],
     "prompt_number": 45
    },
    {
     "cell_type": "markdown",
     "metadata": {},
     "source": [
      "\u5f97\u5230\u8207 'potter' \u76f8\u95dc\u7684\u5b57"
     ]
    },
    {
     "cell_type": "code",
     "collapsed": false,
     "input": [
      "tdc.getRelatedTerms('potter',20)"
     ],
     "language": "python",
     "metadata": {},
     "outputs": [
      {
       "metadata": {},
       "output_type": "pyout",
       "prompt_number": 46,
       "text": [
        "[u'harri',\n",
        " u'potter',\n",
        " u'voldemort',\n",
        " u'wizard',\n",
        " u'snape',\n",
        " u'death',\n",
        " u'magic',\n",
        " u'jame',\n",
        " u'love',\n",
        " u'spell',\n",
        " u'time',\n",
        " u'rowl',\n",
        " u'eater',\n",
        " u'lili',\n",
        " u'travel',\n",
        " u'seri',\n",
        " u'hous',\n",
        " u'hand',\n",
        " u'hogwart',\n",
        " u'three']"
       ]
      }
     ],
     "prompt_number": 46
    },
    {
     "cell_type": "markdown",
     "metadata": {},
     "source": [
      "\u6d41\u7a0b\u89e3\u91cb"
     ]
    },
    {
     "cell_type": "code",
     "collapsed": false,
     "input": [
      "uP = tdc._getUprime()\n",
      "termDict = tdc._termDict\n",
      "u,_,_ = tdc._getSvd()\n"
     ],
     "language": "python",
     "metadata": {},
     "outputs": [],
     "prompt_number": 47
    },
    {
     "cell_type": "code",
     "collapsed": false,
     "input": [
      "strength_and_indices = sorted( zip(numpy.dot(uP[termDict['potter']],u),range(len(uP))) , reverse=True )"
     ],
     "language": "python",
     "metadata": {},
     "outputs": [],
     "prompt_number": 49
    },
    {
     "cell_type": "code",
     "collapsed": false,
     "input": [
      "termDict['potter']"
     ],
     "language": "python",
     "metadata": {},
     "outputs": [
      {
       "metadata": {},
       "output_type": "pyout",
       "prompt_number": 50,
       "text": [
        "1162"
       ]
      }
     ],
     "prompt_number": 50
    },
    {
     "cell_type": "code",
     "collapsed": false,
     "input": [
      "uP.shape"
     ],
     "language": "python",
     "metadata": {},
     "outputs": [
      {
       "metadata": {},
       "output_type": "pyout",
       "prompt_number": 51,
       "text": [
        "(35748, 150)"
       ]
      }
     ],
     "prompt_number": 51
    },
    {
     "cell_type": "code",
     "collapsed": false,
     "input": [
      "u.shape"
     ],
     "language": "python",
     "metadata": {},
     "outputs": [
      {
       "metadata": {},
       "output_type": "pyout",
       "prompt_number": 52,
       "text": [
        "(150, 35748)"
       ]
      }
     ],
     "prompt_number": 52
    },
    {
     "cell_type": "code",
     "collapsed": false,
     "input": [
      "numpy.dot(uP[termDict['potter']],u).shape"
     ],
     "language": "python",
     "metadata": {},
     "outputs": [
      {
       "metadata": {},
       "output_type": "pyout",
       "prompt_number": 53,
       "text": [
        "(35748,)"
       ]
      }
     ],
     "prompt_number": 53
    },
    {
     "cell_type": "code",
     "collapsed": false,
     "input": [
      "strength_and_indices = sorted(zip(numpy.dot(uP[termDict['potter']],u),range(len(uP))), reverse=True )"
     ],
     "language": "python",
     "metadata": {},
     "outputs": [],
     "prompt_number": 54
    },
    {
     "cell_type": "code",
     "collapsed": false,
     "input": [
      "strength_and_indices[:10]"
     ],
     "language": "python",
     "metadata": {},
     "outputs": [
      {
       "metadata": {},
       "output_type": "pyout",
       "prompt_number": 55,
       "text": [
        "[(16.647551751760037, 1168),\n",
        " (7.8745213744589524, 1162),\n",
        " (5.7496677486627004, 1396),\n",
        " (4.9897869758662328, 1156),\n",
        " (3.9837886456370151, 2413),\n",
        " (3.7192422677169574, 446),\n",
        " (3.6300472211962447, 698),\n",
        " (3.3548897440497609, 634),\n",
        " (3.2545176051565932, 1026),\n",
        " (3.1914878222287304, 693)]"
       ]
      }
     ],
     "prompt_number": 55
    },
    {
     "cell_type": "code",
     "collapsed": false,
     "input": [
      "method = lambda i: termDict[i[1]]"
     ],
     "language": "python",
     "metadata": {},
     "outputs": [],
     "prompt_number": 56
    },
    {
     "cell_type": "code",
     "collapsed": false,
     "input": [
      "[ method(i) for i in strength_and_indices[:5] ]"
     ],
     "language": "python",
     "metadata": {},
     "outputs": [
      {
       "metadata": {},
       "output_type": "pyout",
       "prompt_number": 57,
       "text": [
        "[u'harri', u'potter', u'voldemort', u'wizard', u'snape']"
       ]
      }
     ],
     "prompt_number": 57
    },
    {
     "cell_type": "code",
     "collapsed": false,
     "input": [
      "strength_and_indices[:5] "
     ],
     "language": "python",
     "metadata": {},
     "outputs": [
      {
       "metadata": {},
       "output_type": "pyout",
       "prompt_number": 58,
       "text": [
        "[(16.647551751760037, 1168),\n",
        " (7.8745213744589524, 1162),\n",
        " (5.7496677486627004, 1396),\n",
        " (4.9897869758662328, 1156),\n",
        " (3.9837886456370151, 2413)]"
       ]
      }
     ],
     "prompt_number": 58
    },
    {
     "cell_type": "code",
     "collapsed": false,
     "input": [],
     "language": "python",
     "metadata": {},
     "outputs": [],
     "prompt_number": 58
    },
    {
     "cell_type": "code",
     "collapsed": false,
     "input": [],
     "language": "python",
     "metadata": {},
     "outputs": []
    },
    {
     "cell_type": "code",
     "collapsed": false,
     "input": [],
     "language": "python",
     "metadata": {},
     "outputs": []
    }
   ],
   "metadata": {}
  }
 ]
}
