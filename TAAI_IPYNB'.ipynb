{
 "metadata": {
  "name": "",
  "signature": "sha256:0758ec5b3c396ab8a82cfa1dcb3edff5ee78eb10c599f33894592b8c51e9cba4"
 },
 "nbformat": 3,
 "nbformat_minor": 0,
 "worksheets": [
  {
   "cells": [
    {
     "cell_type": "code",
     "collapsed": false,
     "input": [
      "import blaze as blz"
     ],
     "language": "python",
     "metadata": {},
     "outputs": [],
     "prompt_number": 1
    },
    {
     "cell_type": "code",
     "collapsed": false,
     "input": [
      "import pandas as pd"
     ],
     "language": "python",
     "metadata": {},
     "outputs": [],
     "prompt_number": 2
    },
    {
     "cell_type": "code",
     "collapsed": false,
     "input": [
      "import nltk"
     ],
     "language": "python",
     "metadata": {},
     "outputs": [],
     "prompt_number": 3
    },
    {
     "cell_type": "code",
     "collapsed": false,
     "input": [
      "articles_df,articles_push_df  = pd.read_pickle('/home/dboyliao/PlaYnlp-Corpus/PTT___movie.pickle')"
     ],
     "language": "python",
     "metadata": {},
     "outputs": [],
     "prompt_number": 4
    },
    {
     "cell_type": "code",
     "collapsed": false,
     "input": [
      "articles_df.shape"
     ],
     "language": "python",
     "metadata": {},
     "outputs": [
      {
       "metadata": {},
       "output_type": "pyout",
       "prompt_number": 5,
       "text": [
        "(26132, 9)"
       ]
      }
     ],
     "prompt_number": 5
    },
    {
     "cell_type": "code",
     "collapsed": false,
     "input": [
      "articles_push_df.shape"
     ],
     "language": "python",
     "metadata": {},
     "outputs": [
      {
       "metadata": {},
       "output_type": "pyout",
       "prompt_number": 6,
       "text": [
        "(627710, 6)"
       ]
      }
     ],
     "prompt_number": 6
    },
    {
     "cell_type": "code",
     "collapsed": false,
     "input": [
      "articles_df.head()"
     ],
     "language": "python",
     "metadata": {},
     "outputs": [
      {
       "html": [
        "<div style=\"max-height:1000px;max-width:1500px;overflow:auto;\">\n",
        "<table border=\"1\" class=\"dataframe\">\n",
        "  <thead>\n",
        "    <tr style=\"text-align: right;\">\n",
        "      <th></th>\n",
        "      <th>Board</th>\n",
        "      <th>_id</th>\n",
        "      <th>text</th>\n",
        "      <th>time</th>\n",
        "      <th>title</th>\n",
        "      <th>url</th>\n",
        "      <th>user</th>\n",
        "      <th>user_id</th>\n",
        "      <th>user_nickname</th>\n",
        "    </tr>\n",
        "  </thead>\n",
        "  <tbody>\n",
        "    <tr>\n",
        "      <th>0</th>\n",
        "      <td> movie</td>\n",
        "      <td> 52f3dd8e74798d1630998356</td>\n",
        "      <td>   \\n\\n\u6545\u4e8b\u7684\u9023\u7d50\u5f88\u8584\u5f31\uff0c\u526a\u63a5\u6b65\u8abf\u7de9\u6162\uff0c\u662f\u4e00\u90e8\u6c92\u6709\u8868\u60c5\u7684\u96fb\u5f71\uff0c\\n\u4f46\u6211\u771f\u7684\u5f88\u611b\u90a3\u500b\u7f8e\u8853\u3002...</td>\n",
        "      <td>  \u4e2d\u592e\u60c5\u5831\u5c40 (Wed May 26 10:28:19 2004)</td>\n",
        "      <td>     \u770b\u5b8c\u300a\u5973\u795e\u9677\u9631\u300b\u7684\u788e\u788e\u5538..........</td>\n",
        "      <td>   http://www.ptt.cc/bbs/movie/M.1085596329.A.html</td>\n",
        "      <td> Comer.bbs@cia.hinet.net (SMILE!X_X),</td>\n",
        "      <td> Comer.bbs@cia.hinet.net</td>\n",
        "      <td> SMILE!X_X)</td>\n",
        "    </tr>\n",
        "    <tr>\n",
        "      <th>1</th>\n",
        "      <td> movie</td>\n",
        "      <td> 52f3dd9074798d30533cc6c5</td>\n",
        "      <td>   \\n[\u4e09\u90e8\u66f2\u4e4b\u9b25\u6cd5]\\n\u6b50\u6d32\u5f71\u58c7\u3001\u7372\u734e\u7121\u6578\\n\u88ab\u8b7d\u70ba\u7e7c\u5947\u58eb\u52de\u65af\u57fa\u300c\u85cd\u3001\u767d\u3001\u7d05\u300d\u4e4b\u5f8c\\n\u6700...</td>\n",
        "      <td>          Wed May 12 03:17:03 2004</td>\n",
        "      <td>                [\u5fc3\u5f97] \u4e09\u90e8\u66f2\u4e4b\u9b25\u6cd5</td>\n",
        "      <td> http://www.ptt.cc/bbs/movie/M.1084331792.A.C96...</td>\n",
        "      <td>                         cyrille (\u5c0f\u5049)</td>\n",
        "      <td>                 cyrille</td>\n",
        "      <td>         \u5c0f\u5049</td>\n",
        "    </tr>\n",
        "    <tr>\n",
        "      <th>2</th>\n",
        "      <td> movie</td>\n",
        "      <td> 52f3dd9374798d30583cc7fc</td>\n",
        "      <td>   \\n\u203b \u5f15\u8ff0\u300afruit.bbs@bbs.au.edu.tw (\u5927\u4e09\u4e0d\u52aa\u529b?\u7b49\u7576\u5175?\u8822)...</td>\n",
        "      <td> KKCITY (Sun Jan 11 22:29:04 2004)</td>\n",
        "      <td>             Re: \u6211\u53c8\u518d\u770b\u795e\u9b3c\u50b3\u59471\u4e86</td>\n",
        "      <td>   http://www.ptt.cc/bbs/movie/M.1073844095.A.html</td>\n",
        "      <td>             demona@kkcity.com.tw (),</td>\n",
        "      <td>    demona@kkcity.com.tw</td>\n",
        "      <td>          )</td>\n",
        "    </tr>\n",
        "    <tr>\n",
        "      <th>3</th>\n",
        "      <td> movie</td>\n",
        "      <td> 52f3dd9674798d30533cc6c6</td>\n",
        "      <td>   \\n\u56e0\u70ba\u525b\u770b\u5b8c\u7570\u578b\u6230\u5834\\n\u611f\u89ba\u61c9\u8a72\u6709\u5f88\u591a\u4eba\u4e0d\u77e5\u9053\u6700\u5f8c\u8a95\u751f\u7684\u90a3\u96bb\u662f\u4ec0\u9ebc\\n\u4e7e\u8106\u4f86\u4ecb\u7d39\u4e00\u4e0b\u7570...</td>\n",
        "      <td>          Sat Aug 28 23:16:49 2004</td>\n",
        "      <td>                   \u95dc\u65bc\u7570\u5f62\u7684\u5c0f\u5e38\u8b58</td>\n",
        "      <td> http://www.ptt.cc/bbs/movie/M.1093706165.A.6F6...</td>\n",
        "      <td>                            A1an (\u518d\u8aaa)</td>\n",
        "      <td>                    A1an</td>\n",
        "      <td>         \u518d\u8aaa</td>\n",
        "    </tr>\n",
        "    <tr>\n",
        "      <th>4</th>\n",
        "      <td> movie</td>\n",
        "      <td> 52f3dd9a74798d162c99863e</td>\n",
        "      <td>   \\nCarrie (1976\u5e74) \u6e2f\u8b6f\uff1a\u9b54\u5973\u5609\u9e97 / \u53f0\u8b6f\uff1a\u51f6\u9748\\n\u25c6 \u5c0e\u3000\u3000\u6f14\uff1a\u5e03\u840a\u6069...</td>\n",
        "      <td>          Sat Aug  7 18:37:43 2004</td>\n",
        "      <td> [\u5fc3\u5f97] Movie~\u9b54\u5973\u5609\u9e97--\u7121\u6cd5\u64fa\u812b\u7684\u6821\u5712\u60b2\u5287</td>\n",
        "      <td> http://www.ptt.cc/bbs/movie/M.1091874869.A.FA5...</td>\n",
        "      <td>                      bushman (weery)</td>\n",
        "      <td>                 bushman</td>\n",
        "      <td>      weery</td>\n",
        "    </tr>\n",
        "  </tbody>\n",
        "</table>\n",
        "</div>"
       ],
       "metadata": {},
       "output_type": "pyout",
       "prompt_number": 7,
       "text": [
        "   Board                       _id  \\\n",
        "0  movie  52f3dd8e74798d1630998356   \n",
        "1  movie  52f3dd9074798d30533cc6c5   \n",
        "2  movie  52f3dd9374798d30583cc7fc   \n",
        "3  movie  52f3dd9674798d30533cc6c6   \n",
        "4  movie  52f3dd9a74798d162c99863e   \n",
        "\n",
        "                                                text  \\\n",
        "0    \\n\\n\u6545\u4e8b\u7684\u9023\u7d50\u5f88\u8584\u5f31\uff0c\u526a\u63a5\u6b65\u8abf\u7de9\u6162\uff0c\u662f\u4e00\u90e8\u6c92\u6709\u8868\u60c5\u7684\u96fb\u5f71\uff0c\\n\u4f46\u6211\u771f\u7684\u5f88\u611b\u90a3\u500b\u7f8e\u8853\u3002...   \n",
        "1    \\n[\u4e09\u90e8\u66f2\u4e4b\u9b25\u6cd5]\\n\u6b50\u6d32\u5f71\u58c7\u3001\u7372\u734e\u7121\u6578\\n\u88ab\u8b7d\u70ba\u7e7c\u5947\u58eb\u52de\u65af\u57fa\u300c\u85cd\u3001\u767d\u3001\u7d05\u300d\u4e4b\u5f8c\\n\u6700...   \n",
        "2    \\n\u203b \u5f15\u8ff0\u300afruit.bbs@bbs.au.edu.tw (\u5927\u4e09\u4e0d\u52aa\u529b?\u7b49\u7576\u5175?\u8822)...   \n",
        "3    \\n\u56e0\u70ba\u525b\u770b\u5b8c\u7570\u578b\u6230\u5834\\n\u611f\u89ba\u61c9\u8a72\u6709\u5f88\u591a\u4eba\u4e0d\u77e5\u9053\u6700\u5f8c\u8a95\u751f\u7684\u90a3\u96bb\u662f\u4ec0\u9ebc\\n\u4e7e\u8106\u4f86\u4ecb\u7d39\u4e00\u4e0b\u7570...   \n",
        "4    \\nCarrie (1976\u5e74) \u6e2f\u8b6f\uff1a\u9b54\u5973\u5609\u9e97 / \u53f0\u8b6f\uff1a\u51f6\u9748\\n\u25c6 \u5c0e\u3000\u3000\u6f14\uff1a\u5e03\u840a\u6069...   \n",
        "\n",
        "                                time                       title  \\\n",
        "0   \u4e2d\u592e\u60c5\u5831\u5c40 (Wed May 26 10:28:19 2004)      \u770b\u5b8c\u300a\u5973\u795e\u9677\u9631\u300b\u7684\u788e\u788e\u5538..........   \n",
        "1           Wed May 12 03:17:03 2004                 [\u5fc3\u5f97] \u4e09\u90e8\u66f2\u4e4b\u9b25\u6cd5   \n",
        "2  KKCITY (Sun Jan 11 22:29:04 2004)              Re: \u6211\u53c8\u518d\u770b\u795e\u9b3c\u50b3\u59471\u4e86   \n",
        "3           Sat Aug 28 23:16:49 2004                    \u95dc\u65bc\u7570\u5f62\u7684\u5c0f\u5e38\u8b58   \n",
        "4           Sat Aug  7 18:37:43 2004  [\u5fc3\u5f97] Movie~\u9b54\u5973\u5609\u9e97--\u7121\u6cd5\u64fa\u812b\u7684\u6821\u5712\u60b2\u5287   \n",
        "\n",
        "                                                 url  \\\n",
        "0    http://www.ptt.cc/bbs/movie/M.1085596329.A.html   \n",
        "1  http://www.ptt.cc/bbs/movie/M.1084331792.A.C96...   \n",
        "2    http://www.ptt.cc/bbs/movie/M.1073844095.A.html   \n",
        "3  http://www.ptt.cc/bbs/movie/M.1093706165.A.6F6...   \n",
        "4  http://www.ptt.cc/bbs/movie/M.1091874869.A.FA5...   \n",
        "\n",
        "                                   user                  user_id user_nickname  \n",
        "0  Comer.bbs@cia.hinet.net (SMILE!X_X),  Comer.bbs@cia.hinet.net    SMILE!X_X)  \n",
        "1                          cyrille (\u5c0f\u5049)                  cyrille            \u5c0f\u5049  \n",
        "2              demona@kkcity.com.tw (),     demona@kkcity.com.tw             )  \n",
        "3                             A1an (\u518d\u8aaa)                     A1an            \u518d\u8aaa  \n",
        "4                       bushman (weery)                  bushman         weery  "
       ]
      }
     ],
     "prompt_number": 7
    },
    {
     "cell_type": "code",
     "collapsed": false,
     "input": [
      "articles_df['text']"
     ],
     "language": "python",
     "metadata": {},
     "outputs": [
      {
       "metadata": {},
       "output_type": "pyout",
       "prompt_number": 8,
       "text": [
        "0       \\n\\n\u6545\u4e8b\u7684\u9023\u7d50\u5f88\u8584\u5f31\uff0c\u526a\u63a5\u6b65\u8abf\u7de9\u6162\uff0c\u662f\u4e00\u90e8\u6c92\u6709\u8868\u60c5\u7684\u96fb\u5f71\uff0c\\n\u4f46\u6211\u771f\u7684\u5f88\u611b\u90a3\u500b\u7f8e\u8853\u3002...\n",
        "1       \\n[\u4e09\u90e8\u66f2\u4e4b\u9b25\u6cd5]\\n\u6b50\u6d32\u5f71\u58c7\u3001\u7372\u734e\u7121\u6578\\n\u88ab\u8b7d\u70ba\u7e7c\u5947\u58eb\u52de\u65af\u57fa\u300c\u85cd\u3001\u767d\u3001\u7d05\u300d\u4e4b\u5f8c\\n\u6700...\n",
        "2       \\n\u203b \u5f15\u8ff0\u300afruit.bbs@bbs.au.edu.tw (\u5927\u4e09\u4e0d\u52aa\u529b?\u7b49\u7576\u5175?\u8822)...\n",
        "3       \\n\u56e0\u70ba\u525b\u770b\u5b8c\u7570\u578b\u6230\u5834\\n\u611f\u89ba\u61c9\u8a72\u6709\u5f88\u591a\u4eba\u4e0d\u77e5\u9053\u6700\u5f8c\u8a95\u751f\u7684\u90a3\u96bb\u662f\u4ec0\u9ebc\\n\u4e7e\u8106\u4f86\u4ecb\u7d39\u4e00\u4e0b\u7570...\n",
        "4       \\nCarrie (1976\u5e74) \u6e2f\u8b6f\uff1a\u9b54\u5973\u5609\u9e97 / \u53f0\u8b6f\uff1a\u51f6\u9748\\n\u25c6 \u5c0e\u3000\u3000\u6f14\uff1a\u5e03\u840a\u6069...\n",
        "5       \\n\u203b \u5f15\u8ff0\u300amama520 (\u6975\u5ea6\u96e3\u904e.....)\u300b\u4e4b\u9298\u8a00\uff1a:    \uc120 \u4ed6\u61c9\u8a72\u662f\u5e7b\u60f3...\n",
        "6       \\n        Dark Fury \u662f\u661f\u969b\u5085\u5947\u8ddf\u8d85\u4e16\u7d00\u6230\u8b66\u9593\u90a3\u6bb5\u7a7a\u767d\u6240\u767c\u751f\u7684\u4e8b\uff0c\u662f\u4e00...\n",
        "7       \\n\u4eca\u5929\u4e0b\u5348\u770b\u4e86\u300c\u7d42\u6975\u6230\u58eb2\u300d\u5c0d\u7167\u524d\u5e7e\u5929\u770b\u7684\u300c\u7570\u5f62\u6230\u5834\u300d\u767c\u73fe\u5e7e\u4ef6\u4e8b\uff0c\\n2004\u5e74\u7684P\u6bd4...\n",
        "8       \\n\\n\u6069\uff5e\u4e4b\u524d\u6709\u4eba\u5728\u554f\u897f\u73ed\u7259FLAMENCO\u96fb\u5f71\uff0c\\n\\n\u6700\u6709\u540d\u4e14\u7b97\u662f\u5f88\u4ee3\u8868flame...\n",
        "9       \\n\\n\u5be6\u5728\u4e0d\u592a\u6562\u53bb\u96fb\u5f71\u9662\u770b\u963f\u98c4\u7247\\n\\n\u60f3\u8aaa\u904e\u5e74\u4e00\u500b\u4eba\u6440\u8457\u8033\u6735\u770b\u96fb\u5f71\\n\\n\u61c9\u8a72\u9084\u597d ...\n",
        "10      \\nFranka Potente...\u4e00\u500b\u5f88\u68d2\u7684\u6f14\u54e1\uff0c\u662f\u9019\u9f63\u6232\u7684\u9748\u9b42\u3002\\n\\n\u96d6\u7136\u9019\u662f\u4e00...\n",
        "11      \\n\u96d6\u7136\u5df2\u7d93\u505a\u597d\u5fc3\u7406\u6e96\u5099\u6703\u88ab\u96f7\u5f97\u6158\u6158\u6158\\n\\n\u4f46\u662f\u6c92\u60f3\u5230\u6703\u9019\u9ebc\u8a87\u5f35\u2026\u2026\\n\\n\u5c31\u8ddf\u6211\u770b\u5b8c...\n",
        "12      \\n\u6d88\u9632\u7684\u96fb\u5f71\u4e5f\u4e0d\u662f\u5275\u65b0\u984c\u6750\uff0c\u592a\u967d\u5e95\u4e0b\u6c92\u65b0\u9bae\u4e8b\uff0c\u53ea\u597d\u627e\u65b0\u89d2\u5ea6\u8aaa\u6545\u4e8b\u3002\\n\u9019\u6b21\u300a\u6551\u706b\u82f1\u96c4\u300b...\n",
        "13      \\n\\n\u9019\u90e8\u7247..\\n\\n30%\u7684\u5167\u5bb9\u5728\u722d\u5435\u5230\u5e95\u8981\u4e0d\u8981\u627e\u8840\u862d\u82b1\\n\\n30%\u5728\u8d70\u8def\u3001\u8d95\u8def...\n",
        "14      \\n\\n\u4ee5\u4e3b\u984c\u66f2\u201dMOON RIVER\u201d\uff0c\u505a\u70ba\u958b\u982d\uff0c\u5c31\u7d66\u6211\u7b2c\u4e00\u6b21\u7684\u9a5a\u559c\uff1b\u9019\u9996\u6b4c\u66f2\\n\u662f\u5343...\n",
        "...\n",
        "26117      \\n\u672c\u8eab\u662f\u500b\u96fb\u5f71\u5496\\n\u53ea\u8981\u770b\u5230\u9810\u544a\u4e0d\u932f\u7684\u96fb\u5f71\u90fd\u6703\u60f3\u53bb\u96fb\u5f71\u9662\u770b\u4e00\u4e0b\\n\u6240\u4ee5\u5f88\u5e38\u770b\u4e86\u4e00\u4e9b\u53ea\u6709...\n",
        "26118      \\n\u9632\u96f7\\n\\n\\n\\n\\n\\n\\n\\n\\n\\n\\n\\n\\n\\n\\n\\n\\n\\n\\n\\n...\n",
        "26119      \\n\u9632\u96f7\\n\\n\\n\\n\\n\\n\\n\\n\\n\\n\\n\\n\u524d\u5e7e\u5929\u770b\u5b8c\u51b0\u96ea \u611f\u89ba\u5c31\u50cf\u4e2d\u6bd2\u4e00\u6a23...\n",
        "26120      \\n\u53ea\u8a18\u5f97\u4e00\u53e5\u53f0\u8a5e\\n\\n\u597d\u50cf\u662f\u4e00\u7fa4\u79d1\u5b78\u5bb6\u627e\u5230\u67d0\u500b\u661f\u7403\\n\\n\u843d\u5730\u5f8c\u5224\u5b9a\u6c92\u554f\u984c\u8981\u628a\u9762\u7f69\u62ff...\n",
        "26121      \\n\u7db2\u8a8c\u7248\uff1ahttp://marc-w.blogspot.tw/2014/02/blog...\n",
        "26122      \\n\u88d5\u9686\u6c7d\u8eca\u90a3\u500b\u4f8b\u5b50  \u6709\u677f\u53cb\u63d0\u51fa\u4f86\\n\u8b1b\u5f97\u5f88\u6e05\u695a\u4e86...\u6709\u4fdd\u8b77\u6709\u8b8atoyota\u55ce? \u66f4...\n",
        "26123      \\n\u6c92\u60f3\u5230\u6709\u9019\u9ebc\u591a\u4eba\u60f3\u6cd5\u504f\u5dee\u7684\u9019\u9ebc\u56b4\u91cd....\\n\u5c45\u7136\u80fd\u8aaa\u51fa\u597d\u840a\u5862\u96fb\u5f71\u9019\u9ebc\u5f37\uff0c\u570b\u7247\u9019\u9ebc\u721b...\n",
        "26124      \\n\u203b \u5f15\u8ff0\u300asheldor (\u79c0\u767b)\u300b\u4e4b\u9298\u8a00\uff1a\\n: \u53ea\u662f\u73fe\u5728\u5f88\u591a\u53f0\u4eba \u770b\u5230\u570b\u7247\u5c31\u633a\\...\n",
        "26125      \\n: \u7d55\u5927\u90e8\u5206\u53f0\u7063\u4eba\u5c0d\u570b\u7247\u5c31\u50cf\u5c0d\u81ea\u5df1\u7684\u5c0f\u5b69 \u518d\u58de\u90fd\u662f\u81ea\u5df1\u7684\u5c0f\u5b69: \u4f60\u8aaa\u5916\u570b\u96fb\u5f71\u591a\u597d\u591a\u597d...\n",
        "26126      \\n\u5c0f\u6642\u5019\u770b\u904e\u7684\u4e00\u90e8\u7f8e\u570b\u6050\u6016\u7247\\n\u4e0d\u77e5\u9053\u6709\u6c92\u670920\u5e74\u9019\u9ebc\u4e45\u4e86\\n\u61c9\u8a72\u6c92\u4ec0\u9ebc\u5927\u5496\u660e\u661f\\n\\...\n",
        "26127      \\n\\n\u5168\u6587\u6700\u5f8c\u4e00\u6bb5\u6709 \u300a\u5730\u6d77\u6230\u8a18\u300b\u7684\u3002\\n-------\\n\\n\u25cf \u6545\u4e8b\u7684\u958b\u7aef \u25cf\\n...\n",
        "26128      \\n\u203b \u5f15\u8ff0\u300arhonda117 (Rhonda)\u300b\u4e4b\u9298\u8a00\uff1a: 1. \u8acb\u63cf\u8ff0\u6b32\u5c0b\u627e\u96fb\u5f71\u7684...\n",
        "26129      \\n\\n\\n\\n\u83ab\u975e\u6574\u500b\u8eab\u9ad4\u4e00\u6bb5\u4e00\u6bb5\u5206\u958b\\n\\n\u8996\u89ba\u6548\u679c\u662f\u633a\u9707\u64bc\u7684\\n\\n\u4e0d\u904e\u6211\u60f3\u5230\\n...\n",
        "26130      \\n\u51b0\u96ea\u5947\u7de3\u7d50\u5c40\u7570\u60f3\\n\\n\\n\u6211\u627f\u8a8d\u6211\u5f88\u7121\u804a\u800c\u4e14RPG\u73a9\u592a\u591a\u4e86..\\n\u4ee5\u4e0b\u6709\u96f7\\n--...\n",
        "26131      \\n\u7b2c\u4e00\u6b21movie po\u6587 \u9055\u898f\u8acb\u544a\u77e5\\n\\nhttp://ppt.cc/R8kY\\n...\n",
        "Name: text, Length: 26132, dtype: object"
       ]
      }
     ],
     "prompt_number": 8
    },
    {
     "cell_type": "code",
     "collapsed": false,
     "input": [
      "import jieba"
     ],
     "language": "python",
     "metadata": {},
     "outputs": [],
     "prompt_number": 9
    },
    {
     "cell_type": "code",
     "collapsed": false,
     "input": [
      "print nltk.clean_html(articles_df['text'][0])"
     ],
     "language": "python",
     "metadata": {},
     "outputs": [
      {
       "output_type": "stream",
       "stream": "stdout",
       "text": [
        "\u6545\u4e8b\u7684\u9023\u7d50\u5f88\u8584\u5f31\uff0c\u526a\u63a5\u6b65\u8abf\u7de9\u6162\uff0c\u662f\u4e00\u90e8\u6c92\u6709\u8868\u60c5\u7684\u96fb\u5f71\uff0c\n",
        "\u4f46\u6211\u771f\u7684\u5f88\u611b\u90a3\u500b\u7f8e\u8853\u3002\u5efa\u7bc9\u92ea\u9673\u7cbe\u7f8e\uff0c\u6709\u9ede\u53ef\u60dc\uff0c\n",
        "\u56e0\u70ba\u69cb\u5716\u4e0a\u611f\u89ba\u4e0d\u5230\u7d93\u904e\u8a2d\u8a08\u7684\u7528\u5fc3\uff0c\u4eba\u7269\u7684\u52d5\u4f5c\u4e5f\u5341\u5206\u5446\u677f\u3002\n",
        "\n",
        "\u6700\u7cdf\u7cd5\u7684\u662f\u8072\u97f3\uff0c\u5f88\u5dee\uff0c\u4e0d\u8ad6\u662f\u4e0d\u662f\u914d\u97f3\uff0c\u6f14\u54e1\u7684\u8a9e\u8abf\u90fd\u6c92\u6709\u8868\u60c5\uff0c\u5e73\u6de1\u5230\u4e86\u6975\u9ede\uff1b\n",
        "\u97f3\u6548\u65b9\u9762\u9ad4\u6703\u4e0d\u51fa\u7a7a\u9593\u611f\uff0c\u66f4\u53ef\u6015\u7684\u662f\u6c92\u6709\u74b0\u5883\u97f3\u7684\u611f\u89ba........\u5982\u679c\u662f\u4e00\u90e8\u8981\u8ddf\n",
        "\u597d\u840a\u5862\u7af6\u722d\u7684\u5f71\u7247\u5149\u662f\u8072\u97f3\u5c31\u8db3\u4ee5\u6253\u5165\u51b7\u5bae.........\uff08\u4e5f\u53ef\u80fd\u662f\u6232\u9662\uff1f\uff09\u914d\u6a02\u4e5f\u76f8\n",
        "\u7576\u4ee4\u4eba\u5931\u671b\uff0c\u9664\u4e86\u7db2\u7ad9\u4e0a\u4e00\u6bb5\u5e7e\u500b\u5c0f\u7bc0\u7684loop\u807d\u4f86\u7a0d\u6709\u795e\u79d8\u611f\u4ee5\u5916\uff0c\u5168\u7247\u7684\u914d\u6a02\u6de1\u5230\n",
        "\u4e0d\u884c\uff0c\u53ef\u60dc\u4e86\u4effBlade Runner(\u9280\u7ffc\u6bba\u624b)\u7684\u57ce\u5e02\u7d50\u69cb\uff08\u5509\u90a3\u6f02\u6d6e\u91d1\u5b57\u5854\u7adf\u7136\u4e00\u9ede\u7279\u6b8a\n",
        "\u4f5c\u7528\u90fd\u6c92\u6709\uff09\u3002\n",
        "\n",
        "\u9664\u4e86\u8ffd\u9010\u90a3\u4e00\u6bb5\u7684\u526a\u63a5\u7a0d\u6709\u4f7f\u4e0a\u529b\u6c23\u5e36\u9ede\u7bc0\u594f\uff0c\u5168\u7247\u5e7e\u4e4e\u90fd\u5728\u62d6\u6ce5\u5e36\u6c34\n",
        "\uff08\u4e0d\u904e\u9019\u662f\u5df2\u7d93\u7fd2\u6163\u79d1\u5e7b\u7247\u7e3d\u6709\u8907\u96dc\u5206\u93e1\u7684\u95dc\u4fc2\u5427\uff1f\uff09\n",
        "\n",
        "\u6211\u4e26\u4e0d\u4ecb\u610f3D\u90e8\u4efd\u8207\u771f\u4eba\u76f8\u6bd4\u4e4b\u4e0b\u7684\"\u865b\u5047\"\n",
        "\uff08\u554a\u4ed6\u5011\u672c\u4f86\u5c31\u662fCG\u54a9\uff0c\u6c92\u4eba\u898f\u5b9aCG\u5c31\u5f97\u6bcf\u500b\u90fd\u505a\u5230\u50cf\u300a\u865b\u64ec\u6b4c\u624b\u300b\u5e2d\u5922\u90a3\u6a23\u5504\uff1f\uff09\n",
        "\uff08\u8001\u5be6\u8aaa\u672a\u4f86\u7684\u6a5f\u5668\u4eba\u5982\u679c\u592a\u8b1b\u7a76\u76ae\u819a\u8cea\u611f\u90a3\u5c31\u771f\u7684\u6703\u51fa\u73fe\"\u8aa4\u5c07\u771f\u4eba\u5831\u5ee2\"\u7684\u60c5\u6cc1\u5427\uff09\n",
        "\n",
        "\u6f14\u6280\u65b9\u9762\u5c31\u771f\u7684\u5f88\u83ab\u540d\u5176\u5999\u3002\u4e3b\u8981\u662f\u56e0\u70ba\u5f71\u7247\u4e26\u6c92\u6709\u5f88\u6e05\u695a\u4ea4\u4ee3\u9019\u500b\u4e16\u754c\u7684\"\u908f\u8f2f\"\u8207\n",
        "\u904a\u6232\u898f\u5247\uff0c\u6240\u4ee5\u5c0d\u6211\u4f86\u8aaaJill\u61c9\u8a72\u8981\u5411\u5916\u8868\u4e00\u6a23\u51b7\u9177\uff0c\u6f14\u54e1\u7684\u8868\u6f14\u65b9\u5f0f\u537b\u9817\u70ba\u666e\u901a\uff0c\n",
        "\u66f4\u5225\u63d0Nikopol\u5f8c\u9762\u5c45\u7136\u8aaa\u51fa\u300c\u6211\u80fd\u900f\u904e\u85cd\u8272\u611f\u53d7\u5230\u4f60\u7684\u6182\u9b31\u300d\u9019\u53e5\u96f6\u5206\u53f0\u8a5e\uff08\u6211\u4e5f\u5f88\n",
        "\u5e0c\u671b\u5979\u662f\u6182\u9b31\u51b0\u51b7\u7684\u5440..........\uff09\u6f14\u54e1\u88e1\u9762\u6bd4\u8f03ok\u7684\u53ea\u6709\u5973\u91ab\u5e2b\u800c\u5df2\u3002\n",
        "\n",
        "\u6211\u662f\u771f\u7684\u5f88\u611b\u9019\u90e8\u7247\u7684\u7f8e\u8853\uff0c\u4e5f\u53ef\u4ee5\u8aaa\u662f\u70ba\u4e86\u770b\u5973\u795e\u800c\u4f86......\u6240\u4ee5\u96d6\u7136\u6280\u8853\u4e0a\u6709\u8a31\u591a\n",
        "\u4e0d\u6eff\u610f\u7684\u5730\u65b9\uff0c\u4f46\u4e26\u4e0d\u61a4\u6012\uff0c\u56e0\u70ba\u8996\u89ba\u4e0a\u6709\u4eab\u53d7\u5230\u3002\u81f3\u65bc\u6545\u4e8b\u561b\uff0c\u53ea\u80fd\u8aaa\u5927\u5bb6\u5225\u592a\u8caa\u5fc3\uff0c\n",
        "120\u5206\u9418\u5167\u8981\u4ea4\u4ee3\u4e09\u90e8\u66f2\u7684\u6545\u4e8b\u672c\u4f86\u5c31\u6709\u9ede\u6488\u672c\u7684\u5473\u9053\u3002\n",
        "\n",
        "\n",
        "\n",
        "\u5f8c\u8a18\uff1a\u95dc\u65bc\u300c\u6bcf\u90e8\u7247\u90fd\u6709\u4ed6\u7684\u963f\u7956\u300d\u9019\u9ede\uff0cImmortal\u5f88\u660e\u986f\u5730\u627f\u8972\u4e86\u79d1\u5e7b\u7684\u7d93\u5178\u8840\u8108\uff1a\n",
        "\u300a\u7b2c\u4e94\u5143\u7d20\u300b\u3001\u300a\u9280\u7ffc\u6bba\u624b\u300b\u53ca\u300a\u5927\u90fd\u6703\u300b\uff08\u4e45\u9060\u5230\u53ef\u4ee5\u4f9b\u8d77\u4f86\u62dc\u4e86..............\uff09\n",
        "\u5c24\u5176\u662f\u5927\u578b\u96fb\u5b50\u770b\u677f\u4e0a\u7684\u6771\u65b9\u5973\u5b50\u9762\u5b54\uff0c\u4e82\u773c\u719f\u7684\u3002\u6211\u5011\u53ef\u4ee5\u4fe1\u8cf4\u73fe\u4eca\u52d5\u756b\u6280\u8853\u7684\u4e0d\u65b7\n",
        "\u9032\u6b65\u53ef\u4ee5\u4e00\u76f4\u70ba\u6211\u5011\u7684\u8996\u89ba\u5e36\u4f86\u65b0\u7684\u523a\u6fc0\uff0c\u4f46\u8eab\u70ba\u4e00\u500b\u559c\u65b0\u53ad\u820a\u7684\u89c0\u773e\uff0c\u6211\u66f4\u9700\u8981\u7684\u662f\n",
        "\u80fd\u5920\u64bc\u6b7b\u8166\u7d30\u80de\u7684\u65b0\u5275\u610f\u54e9\uff01\n",
        "\n",
        "\n",
        "--\n",
        "\n",
        "Chopin saved me.\n",
        "Chopin killed me.\n",
        "--\n",
        "\u258c \u2581\u258c\u258c\u2581\u258c|\u60c5\u5831\u54e1\u6a19\u865f: 140.131.30.193|\u5c40\u4e2d|\u25e4\n",
        "\u258c\u258c\u258c\u2583\u258c|\u96b8\u5c6c\u2606\u55ae\u4f4d: \u4e2d\u592e\u60c5\u5831\u5c40 (bbs.e-cia.net)|\u9091\u60c5|\u25e3\n",
        "\u2192 Rajia :\u5efa\u8b70\u770b\u7e6a\u672c 04/10 17:52\u63a8 Hateson :\u883b\u597d\u770b\u7684 12/16 16:10\u63a8 WooMonkey : 07/30 21:20\u63a8 WooMonkey : 07/30 21:22\u2192 wenvsjye : 08/05 16:54\u63a8 bpf1980 :\u6211\u4e5f\u6709\u8cb7\u6f2b\u756b\u7e6a\u672c\uff5e\u7576\u521d\u6211\u4e5f\u975e\u5e38\u671f\u5f85\uff0c\u540c\u6a23\u7684\u770b\u5b8c\u4e5f\u975e\u5e38 09/26 16:46\u63a8 bpf1980 :\u5931\u671b 09/26 19:18\n"
       ]
      }
     ],
     "prompt_number": 10
    },
    {
     "cell_type": "code",
     "collapsed": false,
     "input": [
      "#articles_df['text'] = articles_df['text'].apply(nltk.clean_html)"
     ],
     "language": "python",
     "metadata": {},
     "outputs": [],
     "prompt_number": 11
    },
    {
     "cell_type": "code",
     "collapsed": false,
     "input": [
      "def segment(w):\n",
      "    return list(jieba.cut(nltk.clean_html(w)))"
     ],
     "language": "python",
     "metadata": {},
     "outputs": [],
     "prompt_number": 12
    },
    {
     "cell_type": "code",
     "collapsed": false,
     "input": [
      "jieba.enable_parallel(8)"
     ],
     "language": "python",
     "metadata": {},
     "outputs": [
      {
       "output_type": "stream",
       "stream": "stderr",
       "text": [
        "Building prefix dict from /home/dboyliao/.pyenv/versions/anaconda-2.0.1/lib/python2.7/site-packages/jieba/dict.txt ...\n"
       ]
      },
      {
       "output_type": "stream",
       "stream": "stderr",
       "text": [
        "DEBUG:jieba:Building prefix dict from /home/dboyliao/.pyenv/versions/anaconda-2.0.1/lib/python2.7/site-packages/jieba/dict.txt ...\n"
       ]
      },
      {
       "output_type": "stream",
       "stream": "stderr",
       "text": [
        "Loading model from cache /tmp/jieba.cache\n"
       ]
      },
      {
       "output_type": "stream",
       "stream": "stderr",
       "text": [
        "DEBUG:jieba:Loading model from cache /tmp/jieba.cache\n"
       ]
      },
      {
       "output_type": "stream",
       "stream": "stderr",
       "text": [
        "Loading model cost 0.493434906006 seconds.\n"
       ]
      },
      {
       "output_type": "stream",
       "stream": "stderr",
       "text": [
        "DEBUG:jieba:Loading model cost 0.493434906006 seconds.\n"
       ]
      },
      {
       "output_type": "stream",
       "stream": "stderr",
       "text": [
        "Prefix dict has been built succesfully.\n"
       ]
      },
      {
       "output_type": "stream",
       "stream": "stderr",
       "text": [
        "DEBUG:jieba:Prefix dict has been built succesfully.\n"
       ]
      }
     ],
     "prompt_number": 13
    },
    {
     "cell_type": "code",
     "collapsed": false,
     "input": [
      "X = articles_df['text'][:5000].apply(segment)"
     ],
     "language": "python",
     "metadata": {},
     "outputs": [],
     "prompt_number": 14
    },
    {
     "cell_type": "code",
     "collapsed": false,
     "input": [
      "X"
     ],
     "language": "python",
     "metadata": {},
     "outputs": [
      {
       "metadata": {},
       "output_type": "pyout",
       "prompt_number": 15,
       "text": [
        "0     [\u6545\u4e8b, \u7684, \u9023\u7d50, \u5f88, \u8584\u5f31, \uff0c, \u526a\u63a5, \u6b65\u8abf, \u7de9\u6162, \uff0c, \u662f, \u4e00\u90e8, \u6c92\u6709...\n",
        "1     [[, \u4e09\u90e8\u66f2, \u4e4b\u9b25\u6cd5, ], \\n, \u6b50\u6d32, \u5f71\u58c7, \u3001, \u7372\u734e, \u7121\u6578, \\n, \u88ab\u8b7d...\n",
        "2     [\u203b,  , \u5f15\u8ff0, \u300a, fruit, ., bbs, @, bbs, ., au, .,...\n",
        "3     [\u56e0\u70ba, \u525b\u770b, \u5b8c\u7570\u578b, \u6230\u5834, \\n, \u611f\u89ba, \u61c9\u8a72, \u6709, \u5f88\u591a, \u4eba, \u4e0d, \u77e5\u9053,...\n",
        "4     [Carrie,  , (, 1976, \u5e74, ),  , \u6e2f\u8b6f, \uff1a, \u9b54\u5973, \u5609\u9e97,  ...\n",
        "5     [\u203b,  , \u5f15\u8ff0, \u300a, mama520,  , (, \u6975\u5ea6, \u96e3\u904e, ....., ),...\n",
        "6     [Dark,  , Fury,  , \u662f, \u661f\u969b, \u5085\u5947, \u8ddf, \u8d85\u4e16\u7d00, \u6230\u8b66\u9593, \u90a3\u6bb5,...\n",
        "7     [\u4eca\u5929\u4e0b\u5348, \u770b, \u4e86, \u300c, \u7d42\u6975, \u6230\u58eb, 2, \u300d, \u5c0d\u7167, \u524d, \u5e7e\u5929, \u770b, \u7684,...\n",
        "8     [\u6069, \uff5e, \u4e4b\u524d, \u6709\u4eba, \u5728\u554f, \u897f\u73ed\u7259, FLAMENCO, \u96fb\u5f71, \uff0c, \\n, \\...\n",
        "9     [\u5be6\u5728, \u4e0d\u592a\u6562, \u53bb\u96fb, \u5f71\u9662, \u770b, \u963f\u98c4\u7247, \\n, \\n, \u60f3, \u8aaa, \u904e\u5e74, \u4e00\u500b...\n",
        "10    [Franka,  , Potente, ..., \u4e00\u500b, \u5f88\u68d2, \u7684, \u6f14\u54e1, \uff0c, \u662f,...\n",
        "11    [\u96d6\u7136, \u5df2\u7d93, \u505a\u597d, \u5fc3\u7406, \u6e96\u5099, \u6703, \u88ab, \u96f7\u5f97\u6158, \u6158\u6158, \\n, \\n, \u4f46\u662f...\n",
        "12    [\u6d88\u9632, \u7684, \u96fb\u5f71, \u4e5f, \u4e0d\u662f, \u5275\u65b0\u984c, \u6750, \uff0c, \u592a\u967d, \u5e95\u4e0b, \u6c92\u65b0, \u9bae\u4e8b, ...\n",
        "13    [\u9019\u90e8\u7247, .., \\n, \\n, 30, %, \u7684, \u5167\u5bb9, \u5728, \u722d\u5435, \u5230\u5e95, \u8981, ...\n",
        "14    [\u4ee5\u4e3b\u984c, \u66f2, \u201d, MOON,  , RIVER, \u201d, \uff0c, \u505a, \u70ba, \u958b\u982d, \uff0c,...\n",
        "...\n",
        "4985    [\u203b,  , [, \u672c\u6587, \u8f49\u9304, \u81ea,  , Gossiping,  , \u770b, \u677f,  ,...\n",
        "4986    [[, \u65b0\u589e, \u677f\u4e3b, ],  , movie,  , \u677f,  , canser, \\n, ...\n",
        "4987    [http, :, /, /, hypesphere, ., com, /, ?, p, =...\n",
        "4988    [\u5716, \u6587\u7248, \u8acb\u9ede\u95b1, \\n, http, :, /, /, blossomear, .,...\n",
        "4989    [[, \u677f\u4e3b\u8fad, \u8077, ],  , movie, \u677f,  , weitzern, \\n, \\...\n",
        "4990    [\u807d\u5230, \uff1c, \u9006\u8f49, \u4eba\u751f, \uff1e, \u9019, \u4e2d\u6587, \u7247\u540d, \u6642, \u4e0d\u77e5, \u6240\u4ee5, \uff0c, \u96d6\u7136...\n",
        "4991    [\u300c, \u9006\u5149, \u98db\u7fd4, \u300d, \u4e2d, \u4e32\u8d77, \u5168\u90e8, \u4e3b\u984c, \u7684, \u4e00\u9846, \u95dc\u9375, \u93e1\u982d, \uff0c...\n",
        "4992    [[, \u677f\u4e3b\u8fad, \u8077, ],  , movie, \u677f,  , Ihsuma, \\n, \\n,...\n",
        "4993    [http, :, /, /, blog, ., yam, ., com, /, persi...\n",
        "4994    [\uff0a,  , \u767c\u554f, \u524d, \u770b\u677f\u898f, \u3001, \u7f6e, \u5e95\u6587, \u3001, \u722c\u6587, \u662f, \u6700, \u6700\u6700, ...\n",
        "4995    [1, .,  , \u8acb, \u63cf\u8ff0, \u6b32, \u5c0b\u627e, \u96fb\u5f71, \u7684, \u985e\u578b, \u6216, \u7279\u5fb5, \uff08, \u8acb...\n",
        "4996    [\u4ee5\u4e0b, \u5fc3\u5f97, \u6709\u96f7, ..., \\n, \\n, \\n, \\n, \\n, \\n, \\n, ...\n",
        "4997    [2013, \u7b2c\u4e03, \u5c46\u4e9e\u6d32, \u96fb\u5f71, \u5927\u734e, \u7372\u734e, \u540d\u55ae, \\n, \\n, Best, ...\n",
        "4998    [\u50cf, \u300a, \u81e5\u864e\u85cf\u9f8d, \u300b, \u9019\u6a23, \u7684, \u96fb\u5f71, \uff0c, \u5230\u5e95, \u8981, \u600e\u9ebc, \u770b, \uff1f,...\n",
        "4999    [\uff08, \u4e09\u5e74, \u524d, po, \u5728, \u7248, \u4e0a, \u7684, \u6587\u7ae0, \u73fe\u5728, \u53ea, \u5269, \u7cbe\u83ef\u5340, ...\n",
        "Name: text, Length: 5000, dtype: object"
       ]
      }
     ],
     "prompt_number": 15
    },
    {
     "cell_type": "code",
     "collapsed": false,
     "input": [
      "jieba.analyse.textrank(articles_df['text'][1])"
     ],
     "language": "python",
     "metadata": {},
     "outputs": [
      {
       "ename": "AttributeError",
       "evalue": "'module' object has no attribute 'textrank'",
       "output_type": "pyerr",
       "traceback": [
        "\u001b[1;31m---------------------------------------------------------------------------\u001b[0m\n\u001b[1;31mAttributeError\u001b[0m                            Traceback (most recent call last)",
        "\u001b[1;32m<ipython-input-36-459101bc67a5>\u001b[0m in \u001b[0;36m<module>\u001b[1;34m()\u001b[0m\n\u001b[1;32m----> 1\u001b[1;33m \u001b[0mjieba\u001b[0m\u001b[1;33m.\u001b[0m\u001b[0manalyse\u001b[0m\u001b[1;33m.\u001b[0m\u001b[0mtextrank\u001b[0m\u001b[1;33m(\u001b[0m\u001b[0marticles_df\u001b[0m\u001b[1;33m[\u001b[0m\u001b[1;34m'text'\u001b[0m\u001b[1;33m]\u001b[0m\u001b[1;33m[\u001b[0m\u001b[1;36m1\u001b[0m\u001b[1;33m]\u001b[0m\u001b[1;33m)\u001b[0m\u001b[1;33m\u001b[0m\u001b[0m\n\u001b[0m",
        "\u001b[1;31mAttributeError\u001b[0m: 'module' object has no attribute 'textrank'"
       ]
      }
     ],
     "prompt_number": 36
    },
    {
     "cell_type": "code",
     "collapsed": false,
     "input": [
      "jieba.__version__"
     ],
     "language": "python",
     "metadata": {},
     "outputs": [
      {
       "metadata": {},
       "output_type": "pyout",
       "prompt_number": 34,
       "text": [
        "'0.34'"
       ]
      }
     ],
     "prompt_number": 34
    },
    {
     "cell_type": "code",
     "collapsed": false,
     "input": [
      "import jieba.analyse"
     ],
     "language": "python",
     "metadata": {},
     "outputs": [],
     "prompt_number": 35
    }
   ],
   "metadata": {}
  }
 ]
}