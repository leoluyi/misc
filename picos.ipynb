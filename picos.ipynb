{
 "metadata": {
  "name": "",
  "signature": "sha256:0d7a65257bca55d718f91ad49318c2a12e26521f0fd919544c830a3878dfef72"
 },
 "nbformat": 3,
 "nbformat_minor": 0,
 "worksheets": [
  {
   "cells": [
    {
     "cell_type": "code",
     "collapsed": false,
     "input": [
      ">>> import picos as pic\n",
      ">>> import cvxopt as cvx "
     ],
     "language": "python",
     "metadata": {},
     "outputs": [],
     "prompt_number": 2
    },
    {
     "cell_type": "code",
     "collapsed": false,
     "input": [
      ">>> pairs = [(0,2), (1,4), (1,3), (3,2), (0,4),(2,4)]  #a list of pairs\n",
      ">>> A = []\n",
      ">>> b = ( [0 ,2 ,0 ,3 ],                               #a tuple of 5 lists, each of length 4\n",
      "...       [1 ,1 ,0 ,5 ],\n",
      "...       [-1,0 ,2 ,4 ],\n",
      "...       [0 ,0 ,-2,-1],\n",
      "...       [1 ,1 ,0 ,0 ]\n",
      "...     )\n",
      ">>> for i in range(5):\n",
      "...     A.append(cvx.matrix(range(i-3,i+5),(2,4)))     #A is a list of 2x4 matrices\n",
      ">>> D={'Peter': 12,\n",
      "...    'Bob'  : 4,\n",
      "...    'Betty': 7,\n",
      "...    'Elisa': 14\n",
      "...    }\n",
      " "
     ],
     "language": "python",
     "metadata": {},
     "outputs": [],
     "prompt_number": 3
    },
    {
     "cell_type": "code",
     "collapsed": false,
     "input": [
      ">>> prob = pic.Problem()   "
     ],
     "language": "python",
     "metadata": {},
     "outputs": [],
     "prompt_number": 4
    },
    {
     "cell_type": "code",
     "collapsed": false,
     "input": [
      ">>> t = prob.add_variable('t',1) #a scalar\n",
      ">>> x = prob.add_variable('x',4) #a column vector\n",
      ">>> Y = prob.add_variable('Y',(2,4)) #a matrix\n",
      ">>> Z = []\n",
      ">>> for i in range(5):\n",
      "...     Z.append( prob.add_variable('Z[{0}]'.format(i),(4,2))  )# a list of 5 matrices\n",
      ">>> w={}\n",
      ">>> for p in pairs:   #a dictionary of (scalar) binary variables, indexed by our pairs\n",
      "...     w[p] = prob.add_variable('w[{0}]'.format(p),1 , vtype='binary')\n",
      " "
     ],
     "language": "python",
     "metadata": {},
     "outputs": [],
     "prompt_number": 5
    },
    {
     "cell_type": "code",
     "collapsed": false,
     "input": [
      "t"
     ],
     "language": "python",
     "metadata": {},
     "outputs": [
      {
       "metadata": {},
       "output_type": "pyout",
       "prompt_number": 6,
       "text": [
        "# variable t:(1 x 1),continuous #"
       ]
      }
     ],
     "prompt_number": 6
    },
    {
     "cell_type": "code",
     "collapsed": false,
     "input": [
      "Z"
     ],
     "language": "python",
     "metadata": {},
     "outputs": [
      {
       "metadata": {},
       "output_type": "pyout",
       "prompt_number": 8,
       "text": [
        "[# variable Z[0]:(4 x 2),continuous #,\n",
        " # variable Z[1]:(4 x 2),continuous #,\n",
        " # variable Z[2]:(4 x 2),continuous #,\n",
        " # variable Z[3]:(4 x 2),continuous #,\n",
        " # variable Z[4]:(4 x 2),continuous #]"
       ]
      }
     ],
     "prompt_number": 8
    },
    {
     "cell_type": "code",
     "collapsed": false,
     "input": [
      "'Z[{0},{1}]'.format(1,5)"
     ],
     "language": "python",
     "metadata": {},
     "outputs": [
      {
       "metadata": {},
       "output_type": "pyout",
       "prompt_number": 9,
       "text": [
        "'Z[1,5]'"
       ]
      }
     ],
     "prompt_number": 9
    },
    {
     "cell_type": "code",
     "collapsed": false,
     "input": [
      "w"
     ],
     "language": "python",
     "metadata": {},
     "outputs": [
      {
       "metadata": {},
       "output_type": "pyout",
       "prompt_number": 10,
       "text": [
        "{(0, 2): # variable w[(0, 2)]:(1 x 1),binary #,\n",
        " (0, 4): # variable w[(0, 4)]:(1 x 1),binary #,\n",
        " (1, 3): # variable w[(1, 3)]:(1 x 1),binary #,\n",
        " (1, 4): # variable w[(1, 4)]:(1 x 1),binary #,\n",
        " (2, 4): # variable w[(2, 4)]:(1 x 1),binary #,\n",
        " (3, 2): # variable w[(3, 2)]:(1 x 1),binary #}"
       ]
      }
     ],
     "prompt_number": 10
    },
    {
     "cell_type": "code",
     "collapsed": false,
     "input": [
      "w[2,4]"
     ],
     "language": "python",
     "metadata": {},
     "outputs": [
      {
       "metadata": {},
       "output_type": "pyout",
       "prompt_number": 12,
       "text": [
        "# variable w[(2, 4)]:(1 x 1),binary #"
       ]
      }
     ],
     "prompt_number": 12
    },
    {
     "cell_type": "code",
     "collapsed": false,
     "input": [
      "type(w)"
     ],
     "language": "python",
     "metadata": {},
     "outputs": [
      {
       "metadata": {},
       "output_type": "pyout",
       "prompt_number": 13,
       "text": [
        "dict"
       ]
      }
     ],
     "prompt_number": 13
    },
    {
     "cell_type": "code",
     "collapsed": false,
     "input": [
      "w[0,2]"
     ],
     "language": "python",
     "metadata": {},
     "outputs": [
      {
       "metadata": {},
       "output_type": "pyout",
       "prompt_number": 15,
       "text": [
        "# variable w[(0, 2)]:(1 x 1),binary #"
       ]
      }
     ],
     "prompt_number": 15
    },
    {
     "cell_type": "code",
     "collapsed": false,
     "input": [
      ">>> w[2,4].vtype\n",
      "'binary'\n",
      ">>> x.vtype\n",
      "'continuous'\n",
      ">>> x.vtype='integer'\n",
      ">>> x\n",
      "# variable x:(4 x 1),integer #\n",
      ">>> x.size\n",
      "(4, 1)\n",
      ">>> Z[1].value = A[0].T\n",
      ">>> Z[0].is_valued()\n",
      "False\n",
      ">>> Z[1].is_valued()\n",
      "True\n",
      ">>> Z[2].name\n",
      "'Z[2]'\n",
      " "
     ],
     "language": "python",
     "metadata": {},
     "outputs": [
      {
       "metadata": {},
       "output_type": "pyout",
       "prompt_number": 16,
       "text": [
        "'Z[2]'"
       ]
      }
     ],
     "prompt_number": 16
    },
    {
     "cell_type": "code",
     "collapsed": false,
     "input": [
      "Z"
     ],
     "language": "python",
     "metadata": {},
     "outputs": [
      {
       "metadata": {},
       "output_type": "pyout",
       "prompt_number": 17,
       "text": [
        "[# variable Z[0]:(4 x 2),continuous #,\n",
        " # variable Z[1]:(4 x 2),continuous #,\n",
        " # variable Z[2]:(4 x 2),continuous #,\n",
        " # variable Z[3]:(4 x 2),continuous #,\n",
        " # variable Z[4]:(4 x 2),continuous #]"
       ]
      }
     ],
     "prompt_number": 17
    },
    {
     "cell_type": "code",
     "collapsed": false,
     "input": [
      "z = Z[0]"
     ],
     "language": "python",
     "metadata": {},
     "outputs": [],
     "prompt_number": 19
    },
    {
     "cell_type": "code",
     "collapsed": false,
     "input": [
      "z.is_valued()"
     ],
     "language": "python",
     "metadata": {},
     "outputs": [
      {
       "metadata": {},
       "output_type": "pyout",
       "prompt_number": 21,
       "text": [
        "False"
       ]
      }
     ],
     "prompt_number": 21
    },
    {
     "cell_type": "code",
     "collapsed": false,
     "input": [
      "map(lambda z: z.is_valued(), Z)"
     ],
     "language": "python",
     "metadata": {},
     "outputs": [
      {
       "metadata": {},
       "output_type": "pyout",
       "prompt_number": 23,
       "text": [
        "[False, True, False, False, False]"
       ]
      }
     ],
     "prompt_number": 23
    },
    {
     "cell_type": "code",
     "collapsed": false,
     "input": [
      ">>> Z[0]+Z[3]\n",
      "# (4 x 2)-affine expression: Z[0] + Z[3] #\n",
      " "
     ],
     "language": "python",
     "metadata": {},
     "outputs": [
      {
       "metadata": {},
       "output_type": "pyout",
       "prompt_number": 24,
       "text": [
        "# (4 x 2)-affine expression: Z[0] + Z[3] #"
       ]
      }
     ],
     "prompt_number": 24
    },
    {
     "cell_type": "code",
     "collapsed": false,
     "input": [
      ">>> x\n",
      "# variable x:(4 x 1),integer #\n",
      ">>> x.T\n",
      "# (1 x 4)-affine expression: x.T #\n",
      " "
     ],
     "language": "python",
     "metadata": {},
     "outputs": [
      {
       "metadata": {},
       "output_type": "pyout",
       "prompt_number": 25,
       "text": [
        "# (1 x 4)-affine expression: x.T #"
       ]
      }
     ],
     "prompt_number": 25
    },
    {
     "cell_type": "code",
     "collapsed": false,
     "input": [
      "x"
     ],
     "language": "python",
     "metadata": {},
     "outputs": [
      {
       "metadata": {},
       "output_type": "pyout",
       "prompt_number": 26,
       "text": [
        "# variable x:(4 x 1),integer #"
       ]
      }
     ],
     "prompt_number": 26
    },
    {
     "cell_type": "code",
     "collapsed": false,
     "input": [
      "x.T"
     ],
     "language": "python",
     "metadata": {},
     "outputs": [
      {
       "metadata": {},
       "output_type": "pyout",
       "prompt_number": 27,
       "text": [
        "# (1 x 4)-affine expression: x.T #"
       ]
      }
     ],
     "prompt_number": 27
    },
    {
     "cell_type": "code",
     "collapsed": false,
     "input": [],
     "language": "python",
     "metadata": {},
     "outputs": []
    }
   ],
   "metadata": {}
  }
 ]
}