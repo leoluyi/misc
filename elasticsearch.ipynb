{
 "metadata": {
  "name": "",
  "signature": "sha256:b0fdf0d136fdc22cf0ab37b423d1ca92f9288dcf9eddc75c5cf17fe7732a9ca8"
 },
 "nbformat": 3,
 "nbformat_minor": 0,
 "worksheets": [
  {
   "cells": [
    {
     "cell_type": "code",
     "collapsed": false,
     "input": [
      "%doctest_mode"
     ],
     "language": "python",
     "metadata": {},
     "outputs": [
      {
       "output_type": "stream",
       "stream": "stdout",
       "text": [
        "Exception reporting mode: Plain\n",
        "Doctest mode is: ON\n"
       ]
      }
     ],
     "prompt_number": 1
    },
    {
     "cell_type": "code",
     "collapsed": false,
     "input": [
      ">>> from datetime import datetime\n",
      ">>> from elasticsearch import Elasticsearch\n",
      "\n",
      "# by default we connect to localhost:9200\n",
      ">>> es = Elasticsearch()\n",
      "\n",
      "# datetimes will be serialized\n",
      ">>> es.index(index=\"my-index\", doc_type=\"test-type\", id=42, body={\"any\": \"data\", \"timestamp\": datetime.now()})\n",
      "{u'_id': u'42', u'_index': u'my-index', u'_type': u'test-type', u'_version': 1, u'ok': True}"
     ],
     "language": "python",
     "metadata": {},
     "outputs": [
      {
       "metadata": {},
       "output_type": "pyout",
       "prompt_number": 2,
       "text": [
        "{u'_type': u'test-type', u'_id': u'42', u'ok': True, u'_version': 1, u'_index': u'my-index'}"
       ]
      }
     ],
     "prompt_number": 2
    },
    {
     "cell_type": "code",
     "collapsed": false,
     "input": [
      ">>> es.get(index=\"my-index\", doc_type=\"test-type\", id=42)['_source']\n",
      "{u'any': u'data', u'timestamp': u'2013-05-12T19:45:31.804229'}\n"
     ],
     "language": "python",
     "metadata": {},
     "outputs": [
      {
       "metadata": {},
       "output_type": "pyout",
       "prompt_number": 3,
       "text": [
        "{u'timestamp': u'2013-05-12T19:45:31.804229', u'any': u'data'}"
       ]
      }
     ],
     "prompt_number": 3
    },
    {
     "cell_type": "code",
     "collapsed": false,
     "input": [
      "from pyes import *"
     ],
     "language": "python",
     "metadata": {},
     "outputs": [],
     "prompt_number": 1
    },
    {
     "cell_type": "code",
     "collapsed": false,
     "input": [
      "conn = ES('127.0.0.1:9200') # Use HTTP"
     ],
     "language": "python",
     "metadata": {},
     "outputs": [],
     "prompt_number": 2
    },
    {
     "cell_type": "code",
     "collapsed": false,
     "input": [
      "conn.indices.create_index(\"test-index\")"
     ],
     "language": "python",
     "metadata": {},
     "outputs": [
      {
       "metadata": {},
       "output_type": "pyout",
       "prompt_number": 3,
       "text": [
        "{'acknowledged': True}"
       ]
      }
     ],
     "prompt_number": 3
    },
    {
     "cell_type": "code",
     "collapsed": false,
     "input": [
      "conn.index({\"name\":\"Joe Tester\", \"parsedtext\":\"Joe Testere nice guy\", \"uuid\":\"11111\", \"position\":1}, \"test-index\", \"test-type\", 1)"
     ],
     "language": "python",
     "metadata": {},
     "outputs": [
      {
       "metadata": {},
       "output_type": "pyout",
       "prompt_number": 4,
       "text": [
        "{'_id': '1',\n",
        " '_index': 'test-index',\n",
        " '_type': 'test-type',\n",
        " '_version': 1,\n",
        " 'created': True}"
       ]
      }
     ],
     "prompt_number": 4
    },
    {
     "cell_type": "code",
     "collapsed": false,
     "input": [
      "conn.index({\"name\":\"Bill Baloney\", \"parsedtext\":\"Joe Testere nice guy\", \"uuid\":\"22222\", \"position\":2}, \"test-index\", \"test-type\", 2)\n"
     ],
     "language": "python",
     "metadata": {},
     "outputs": [
      {
       "metadata": {},
       "output_type": "pyout",
       "prompt_number": 5,
       "text": [
        "{'_id': '2',\n",
        " '_index': 'test-index',\n",
        " '_type': 'test-type',\n",
        " '_version': 1,\n",
        " 'created': True}"
       ]
      }
     ],
     "prompt_number": 5
    },
    {
     "cell_type": "code",
     "collapsed": false,
     "input": [
      "conn.index({\"name\":\"Bill Baloney\", \"parsedtext\":\"Joe Testere nice guy\", \"uuid\":\"22222\", \"position\":2, \"test1\":1}, \"test-index\", \"test-type\", 2)\n"
     ],
     "language": "python",
     "metadata": {},
     "outputs": [
      {
       "metadata": {},
       "output_type": "pyout",
       "prompt_number": 18,
       "text": [
        "{'_id': '2',\n",
        " '_index': 'test-index',\n",
        " '_type': 'test-type',\n",
        " '_version': 4,\n",
        " 'created': False}"
       ]
      }
     ],
     "prompt_number": 18
    },
    {
     "cell_type": "code",
     "collapsed": false,
     "input": [
      "conn.index({\"position\":2, \"test2\":2}, \"test-index\", \"test-type\", 3)\n"
     ],
     "language": "python",
     "metadata": {},
     "outputs": [
      {
       "metadata": {},
       "output_type": "pyout",
       "prompt_number": 22,
       "text": [
        "{'_id': '3',\n",
        " '_index': 'test-index',\n",
        " '_type': 'test-type',\n",
        " '_version': 1,\n",
        " 'created': True}"
       ]
      }
     ],
     "prompt_number": 22
    },
    {
     "cell_type": "code",
     "collapsed": false,
     "input": [
      "conn.indices.refresh(\"test-index\") # Single index."
     ],
     "language": "python",
     "metadata": {},
     "outputs": [
      {
       "metadata": {},
       "output_type": "pyout",
       "prompt_number": 8,
       "text": [
        "{'_shards': {'failed': 0, 'successful': 5, 'total': 10}}"
       ]
      }
     ],
     "prompt_number": 8
    },
    {
     "cell_type": "code",
     "collapsed": false,
     "input": [
      "q = TermQuery(\"name\", \"joe\")"
     ],
     "language": "python",
     "metadata": {},
     "outputs": [],
     "prompt_number": 9
    },
    {
     "cell_type": "code",
     "collapsed": false,
     "input": [
      "results = conn.search(query = q)"
     ],
     "language": "python",
     "metadata": {},
     "outputs": [],
     "prompt_number": 10
    },
    {
     "cell_type": "code",
     "collapsed": false,
     "input": [
      "for r in results:\n",
      "    print r"
     ],
     "language": "python",
     "metadata": {},
     "outputs": [
      {
       "output_type": "stream",
       "stream": "stdout",
       "text": [
        "{'position': 1, 'parsedtext': 'Joe Testere nice guy', 'name': 'Joe Tester', 'uuid': '11111'}\n"
       ]
      }
     ],
     "prompt_number": 11
    },
    {
     "cell_type": "code",
     "collapsed": false,
     "input": [
      "q = TermQuery(\"test2\", 2)"
     ],
     "language": "python",
     "metadata": {},
     "outputs": [],
     "prompt_number": 23
    },
    {
     "cell_type": "code",
     "collapsed": false,
     "input": [
      "results = conn.search(query = q)"
     ],
     "language": "python",
     "metadata": {},
     "outputs": [],
     "prompt_number": 24
    },
    {
     "cell_type": "code",
     "collapsed": false,
     "input": [
      "for r in results:\n",
      "    print r"
     ],
     "language": "python",
     "metadata": {},
     "outputs": [
      {
       "output_type": "stream",
       "stream": "stdout",
       "text": [
        "{'position': 2, 'test2': 2}\n"
       ]
      }
     ],
     "prompt_number": 25
    },
    {
     "cell_type": "code",
     "collapsed": false,
     "input": [
      "from pyes.queryset import generate_model"
     ],
     "language": "python",
     "metadata": {},
     "outputs": [],
     "prompt_number": 37
    },
    {
     "cell_type": "code",
     "collapsed": false,
     "input": [
      "model = generate_model(\"test-index\", \"test-type\")"
     ],
     "language": "python",
     "metadata": {},
     "outputs": [],
     "prompt_number": 38
    },
    {
     "cell_type": "code",
     "collapsed": false,
     "input": [
      "results = model.objects.all()"
     ],
     "language": "python",
     "metadata": {},
     "outputs": [],
     "prompt_number": 39
    },
    {
     "cell_type": "code",
     "collapsed": false,
     "input": [
      "results"
     ],
     "language": "python",
     "metadata": {},
     "outputs": [
      {
       "metadata": {},
       "output_type": "pyout",
       "prompt_number": 42,
       "text": [
        "[{'position': 1, 'parsedtext': 'Joe Testere nice guy', 'name': 'Joe Tester', 'uuid': '11111'}]"
       ]
      }
     ],
     "prompt_number": 42
    },
    {
     "cell_type": "code",
     "collapsed": false,
     "input": [
      "results = model.objects.filter(name=\"joe\")"
     ],
     "language": "python",
     "metadata": {},
     "outputs": [],
     "prompt_number": 40
    },
    {
     "cell_type": "code",
     "collapsed": false,
     "input": [
      "results"
     ],
     "language": "python",
     "metadata": {},
     "outputs": [
      {
       "metadata": {},
       "output_type": "pyout",
       "prompt_number": 41,
       "text": [
        "[{'position': 1, 'parsedtext': 'Joe Testere nice guy', 'name': 'Joe Tester', 'uuid': '11111'}]"
       ]
      }
     ],
     "prompt_number": 41
    },
    {
     "cell_type": "code",
     "collapsed": false,
     "input": [
      "%doctest_mode"
     ],
     "language": "python",
     "metadata": {},
     "outputs": [
      {
       "output_type": "stream",
       "stream": "stdout",
       "text": [
        "Exception reporting mode: Plain\n",
        "Doctest mode is: ON\n"
       ]
      }
     ],
     "prompt_number": 32
    },
    {
     "cell_type": "code",
     "collapsed": false,
     "input": [
      ">>> conn.index({\"name\":\"Joe Tester\", \"parsedtext\":\"Joe Testere nice guy\", \"uuid\":\"11111\", \"position\":1}, \"test-index\", \"test-type\", 1)\n",
      ">>> conn.index({\"name\":\"data1\", \"value\":\"value1\"}, \"test-index\", \"test-type2\", 1, parent=1)\n",
      ">>> conn.index({\"name\":\"Bill Baloney\", \"parsedtext\":\"Bill Testere nice guy\", \"uuid\":\"22222\", \"position\":2}, \"test-index\", \"test-type\", 2)\n",
      ">>> conn.index({\"name\":\"data2\", \"value\":\"value2\"}, \"test-index\", \"test-type2\", 2, parent=2)\n",
      ">>> conn.index({\"name\":\"Bill Clinton\", \"parsedtext\":\"\"\"Bill is not nice guy\"\"\", \"uuid\":\"33333\", \"position\":3}, \"test-index\", \"test-type\", 3)\n"
     ],
     "language": "python",
     "metadata": {},
     "outputs": [
      {
       "ename": "ElasticSearchException",
       "evalue": "ElasticsearchIllegalArgumentException[Can't specify parent if no parent field has been configured]",
       "output_type": "pyerr",
       "traceback": [
        "Traceback \u001b[1;36m(most recent call last)\u001b[0m:\n",
        "  File \u001b[0;32m\"<ipython-input-34-691223d97d99>\"\u001b[0m, line \u001b[0;32m2\u001b[0m, in \u001b[0;35m<module>\u001b[0m\n    conn.index({\"name\":\"data1\", \"value\":\"value1\"}, \"test-index\", \"test-type2\", 1, parent=1)\n",
        "  File \u001b[0;32m\"/home/dboyliao/.pyenv/versions/anaconda-2.0.1/lib/python2.7/site-packages/pyes/es.py\"\u001b[0m, line \u001b[0;32m764\u001b[0m, in \u001b[0;35mindex\u001b[0m\n    return self._send_request(request_method, path, doc, querystring_args)\n",
        "  File \u001b[0;32m\"/home/dboyliao/.pyenv/versions/anaconda-2.0.1/lib/python2.7/site-packages/pyes/es.py\"\u001b[0m, line \u001b[0;32m477\u001b[0m, in \u001b[0;35m_send_request\u001b[0m\n    raise_if_error(response.status, decoded)\n",
        "\u001b[1;36m  File \u001b[1;32m\"/home/dboyliao/.pyenv/versions/anaconda-2.0.1/lib/python2.7/site-packages/pyes/convert_errors.py\"\u001b[1;36m, line \u001b[1;32m94\u001b[1;36m, in \u001b[1;35mraise_if_error\u001b[1;36m\u001b[0m\n\u001b[1;33m    raise exceptions.ElasticSearchException(error, status, result, request)\u001b[0m\n",
        "\u001b[1;31mElasticSearchException\u001b[0m\u001b[1;31m:\u001b[0m ElasticsearchIllegalArgumentException[Can't specify parent if no parent field has been configured]\n"
       ]
      }
     ],
     "prompt_number": 34
    },
    {
     "cell_type": "code",
     "collapsed": false,
     "input": [
      "conn.index({\"name\":\"Joe Tester\", \"parsedtext\":\"Joe Testere nice guy\", \"uuid\":\"11111\", \"position\":1}, \"test-index\", \"test-type\", 1)"
     ],
     "language": "python",
     "metadata": {},
     "outputs": [
      {
       "metadata": {},
       "output_type": "pyout",
       "prompt_number": 35,
       "text": [
        "{'_type': 'test-type', '_id': '1', 'created': False, '_version': 4, '_index': 'test-index'}"
       ]
      }
     ],
     "prompt_number": 35
    },
    {
     "cell_type": "code",
     "collapsed": false,
     "input": [],
     "language": "python",
     "metadata": {},
     "outputs": []
    }
   ],
   "metadata": {}
  }
 ]
}