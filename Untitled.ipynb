{
 "cells": [
  {
   "cell_type": "code",
   "execution_count": 1,
   "metadata": {
    "collapsed": true
   },
   "outputs": [],
   "source": [
    "import pandas as pd\n",
    "import numpy as np\n",
    "from datetime import datetime\n",
    "import time\n",
    "import urlparse\n",
    "import urllib\n",
    "import re\n",
    "from gensim import corpora, models, similarities\n",
    "from sklearn.feature_extraction.text import CountVectorizer "
   ]
  },
  {
   "cell_type": "code",
   "execution_count": 2,
   "metadata": {
    "collapsed": false
   },
   "outputs": [
    {
     "data": {
      "text/plain": [
       "'0.15.2'"
      ]
     },
     "execution_count": 2,
     "metadata": {},
     "output_type": "execute_result"
    }
   ],
   "source": [
    "pd.__version__"
   ]
  },
  {
   "cell_type": "code",
   "execution_count": 3,
   "metadata": {
    "collapsed": true
   },
   "outputs": [],
   "source": [
    "%matplotlib inline"
   ]
  },
  {
   "cell_type": "code",
   "execution_count": 4,
   "metadata": {
    "collapsed": false
   },
   "outputs": [
    {
     "name": "stdout",
     "output_type": "stream",
     "text": [
      "CPU times: user 133 ms, sys: 8.05 ms, total: 141 ms\n",
      "Wall time: 140 ms\n"
     ]
    }
   ],
   "source": [
    "%time orig = pd.read_csv('sample_20150117.log', sep='\\t', header=None, names=['ip', 'date', 'method', 'page', 'status', 'refer'])"
   ]
  },
  {
   "cell_type": "code",
   "execution_count": 5,
   "metadata": {
    "collapsed": true
   },
   "outputs": [],
   "source": [
    "#member_log = orig.ix[:5000, :]\n",
    "member_log = orig"
   ]
  },
  {
   "cell_type": "code",
   "execution_count": 6,
   "metadata": {
    "collapsed": false
   },
   "outputs": [],
   "source": [
    "member_log['date'] = member_log['date'].apply(lambda row: time.mktime(datetime.strptime(row, '%d/%b/%Y:%H:%M:%S').timetuple()))"
   ]
  },
  {
   "cell_type": "code",
   "execution_count": 7,
   "metadata": {
    "collapsed": true
   },
   "outputs": [],
   "source": [
    "g = member_log.groupby('ip')"
   ]
  },
  {
   "cell_type": "code",
   "execution_count": 8,
   "metadata": {
    "collapsed": false
   },
   "outputs": [],
   "source": [
    "member_log['session'] = g['date'].apply(lambda s: (s - s.shift(1) > 3).fillna(0).cumsum(skipna=False))"
   ]
  },
  {
   "cell_type": "code",
   "execution_count": 9,
   "metadata": {
    "collapsed": false
   },
   "outputs": [
    {
     "data": {
      "text/html": [
       "<div style=\"max-height:1000px;max-width:1500px;overflow:auto;\">\n",
       "<table border=\"1\" class=\"dataframe\">\n",
       "  <thead>\n",
       "    <tr style=\"text-align: right;\">\n",
       "      <th></th>\n",
       "      <th>ip</th>\n",
       "      <th>date</th>\n",
       "      <th>method</th>\n",
       "      <th>page</th>\n",
       "      <th>status</th>\n",
       "      <th>refer</th>\n",
       "      <th>session</th>\n",
       "    </tr>\n",
       "  </thead>\n",
       "  <tbody>\n",
       "    <tr>\n",
       "      <th>0    </th>\n",
       "      <td>   59.115.29.190</td>\n",
       "      <td> 1421423999</td>\n",
       "      <td>  GET</td>\n",
       "      <td> /user/login.htm?refer=http%3A%2F%2Fmybid.ruten...</td>\n",
       "      <td> 200</td>\n",
       "      <td>           http://mybid.ruten.com.tw/master/my.php</td>\n",
       "      <td>  0</td>\n",
       "    </tr>\n",
       "    <tr>\n",
       "      <th>1    </th>\n",
       "      <td>     49.214.1.70</td>\n",
       "      <td> 1421423999</td>\n",
       "      <td>  GET</td>\n",
       "      <td>                               /user/image_key.php</td>\n",
       "      <td> 200</td>\n",
       "      <td>        https://member.ruten.com.tw/user/login.htm</td>\n",
       "      <td>  0</td>\n",
       "    </tr>\n",
       "    <tr>\n",
       "      <th>2    </th>\n",
       "      <td>    140.113.5.85</td>\n",
       "      <td> 1421424000</td>\n",
       "      <td>  GET</td>\n",
       "      <td>                                /images/icon2c.gif</td>\n",
       "      <td> 200</td>\n",
       "      <td> https://member.ruten.com.tw/user/pdsc_confirm....</td>\n",
       "      <td>  0</td>\n",
       "    </tr>\n",
       "    <tr>\n",
       "      <th>3    </th>\n",
       "      <td>    125.230.3.47</td>\n",
       "      <td> 1421424000</td>\n",
       "      <td>  GET</td>\n",
       "      <td> /user/image.php?key=3fcc55f13c6739982d6d653781...</td>\n",
       "      <td> 200</td>\n",
       "      <td> https://member.ruten.com.tw/user/login.htm?ref...</td>\n",
       "      <td>  0</td>\n",
       "    </tr>\n",
       "    <tr>\n",
       "      <th>4    </th>\n",
       "      <td>     49.214.8.31</td>\n",
       "      <td> 1421424000</td>\n",
       "      <td>  GET</td>\n",
       "      <td> /user/login.htm?refer=http%3A%2F%2Fmybid.ruten...</td>\n",
       "      <td> 200</td>\n",
       "      <td>                                                - </td>\n",
       "      <td>  0</td>\n",
       "    </tr>\n",
       "    <tr>\n",
       "      <th>5    </th>\n",
       "      <td>   59.115.29.190</td>\n",
       "      <td> 1421424000</td>\n",
       "      <td>  GET</td>\n",
       "      <td>                           /ahd/500x300_150114.jpg</td>\n",
       "      <td> 200</td>\n",
       "      <td> https://member.ruten.com.tw/user/login.htm?ref...</td>\n",
       "      <td>  0</td>\n",
       "    </tr>\n",
       "    <tr>\n",
       "      <th>6    </th>\n",
       "      <td>    114.26.4.252</td>\n",
       "      <td> 1421424000</td>\n",
       "      <td>  GET</td>\n",
       "      <td> /user/image.php?key=88971150dcd888a9eadbda0494...</td>\n",
       "      <td> 200</td>\n",
       "      <td>        https://member.ruten.com.tw/user/login.htm</td>\n",
       "      <td>  0</td>\n",
       "    </tr>\n",
       "    <tr>\n",
       "      <th>7    </th>\n",
       "      <td>   59.115.29.190</td>\n",
       "      <td> 1421424000</td>\n",
       "      <td>  GET</td>\n",
       "      <td>                               /user/image_key.php</td>\n",
       "      <td> 200</td>\n",
       "      <td> https://member.ruten.com.tw/user/login.htm?ref...</td>\n",
       "      <td>  0</td>\n",
       "    </tr>\n",
       "    <tr>\n",
       "      <th>8    </th>\n",
       "      <td>   59.115.29.190</td>\n",
       "      <td> 1421424000</td>\n",
       "      <td>  GET</td>\n",
       "      <td> /user/image.php?key=683a435bd06340da84c9703072...</td>\n",
       "      <td> 200</td>\n",
       "      <td> https://member.ruten.com.tw/user/login.htm?ref...</td>\n",
       "      <td>  0</td>\n",
       "    </tr>\n",
       "    <tr>\n",
       "      <th>9    </th>\n",
       "      <td>  36.231.233.124</td>\n",
       "      <td> 1421424000</td>\n",
       "      <td>  GET</td>\n",
       "      <td>                               /user/image_key.php</td>\n",
       "      <td> 200</td>\n",
       "      <td> https://member.ruten.com.tw/user/login.htm?ref...</td>\n",
       "      <td>  0</td>\n",
       "    </tr>\n",
       "    <tr>\n",
       "      <th>10   </th>\n",
       "      <td> 111.253.116.111</td>\n",
       "      <td> 1421424000</td>\n",
       "      <td>  GET</td>\n",
       "      <td>                               /user/image_key.php</td>\n",
       "      <td> 200</td>\n",
       "      <td> https://member.ruten.com.tw/user/login.htm?ref...</td>\n",
       "      <td>  0</td>\n",
       "    </tr>\n",
       "    <tr>\n",
       "      <th>11   </th>\n",
       "      <td>  36.231.233.124</td>\n",
       "      <td> 1421424000</td>\n",
       "      <td>  GET</td>\n",
       "      <td> /user/image.php?key=ace05fcd32c2a43683ec32179e...</td>\n",
       "      <td> 200</td>\n",
       "      <td> https://member.ruten.com.tw/user/login.htm?ref...</td>\n",
       "      <td>  0</td>\n",
       "    </tr>\n",
       "    <tr>\n",
       "      <th>12   </th>\n",
       "      <td> 111.253.116.111</td>\n",
       "      <td> 1421424000</td>\n",
       "      <td>  GET</td>\n",
       "      <td> /user/image.php?key=575d4914885a4ebd0a952aefbf...</td>\n",
       "      <td> 200</td>\n",
       "      <td> https://member.ruten.com.tw/user/login.htm?ref...</td>\n",
       "      <td>  0</td>\n",
       "    </tr>\n",
       "    <tr>\n",
       "      <th>13   </th>\n",
       "      <td>  110.26.177.117</td>\n",
       "      <td> 1421424000</td>\n",
       "      <td>  GET</td>\n",
       "      <td>                                  /user/logout.php</td>\n",
       "      <td> 200</td>\n",
       "      <td>       http://mybid.ruten.com.tw/point/myorder.htm</td>\n",
       "      <td>  0</td>\n",
       "    </tr>\n",
       "    <tr>\n",
       "      <th>14   </th>\n",
       "      <td>    1.164.42.245</td>\n",
       "      <td> 1421424000</td>\n",
       "      <td>  GET</td>\n",
       "      <td> /user/image.php?key=347f4a49cac50234081aeb5554...</td>\n",
       "      <td> 200</td>\n",
       "      <td>        https://member.ruten.com.tw/user/login.htm</td>\n",
       "      <td>  0</td>\n",
       "    </tr>\n",
       "    <tr>\n",
       "      <th>15   </th>\n",
       "      <td> 118.233.136.126</td>\n",
       "      <td> 1421424000</td>\n",
       "      <td>  GET</td>\n",
       "      <td>                               /user/image_key.php</td>\n",
       "      <td> 200</td>\n",
       "      <td>        https://member.ruten.com.tw/user/login.htm</td>\n",
       "      <td>  0</td>\n",
       "    </tr>\n",
       "    <tr>\n",
       "      <th>16   </th>\n",
       "      <td>  124.155.182.70</td>\n",
       "      <td> 1421424000</td>\n",
       "      <td> POST</td>\n",
       "      <td> /user/login.php?refer=https%3A%2F%2Fmember.rut...</td>\n",
       "      <td> 200</td>\n",
       "      <td>        https://member.ruten.com.tw/user/login.htm</td>\n",
       "      <td>  0</td>\n",
       "    </tr>\n",
       "    <tr>\n",
       "      <th>17   </th>\n",
       "      <td>   36.227.75.166</td>\n",
       "      <td> 1421424000</td>\n",
       "      <td>  GET</td>\n",
       "      <td> /user/login.htm?refer=http%3A%2F%2Fmybid.ruten...</td>\n",
       "      <td> 200</td>\n",
       "      <td>           http://mybid.ruten.com.tw/master/my.php</td>\n",
       "      <td>  0</td>\n",
       "    </tr>\n",
       "    <tr>\n",
       "      <th>18   </th>\n",
       "      <td>   36.227.75.166</td>\n",
       "      <td> 1421424000</td>\n",
       "      <td>  GET</td>\n",
       "      <td>                      /ahd/500300-1_1419407643.jpg</td>\n",
       "      <td> 200</td>\n",
       "      <td> https://member.ruten.com.tw/user/login.htm?ref...</td>\n",
       "      <td>  0</td>\n",
       "    </tr>\n",
       "    <tr>\n",
       "      <th>19   </th>\n",
       "      <td>   223.137.43.25</td>\n",
       "      <td> 1421424000</td>\n",
       "      <td>  GET</td>\n",
       "      <td> /ivr/ivr_ajax.php?seq=11379774&amp;act=reg&amp;t=14214...</td>\n",
       "      <td> 200</td>\n",
       "      <td> https://member.ruten.com.tw/ivr/ivr.php?act=re...</td>\n",
       "      <td>  0</td>\n",
       "    </tr>\n",
       "    <tr>\n",
       "      <th>20   </th>\n",
       "      <td>  114.43.184.199</td>\n",
       "      <td> 1421424000</td>\n",
       "      <td> POST</td>\n",
       "      <td> /user/login.php?refer=http%3A%2F%2Fmybid.ruten...</td>\n",
       "      <td> 200</td>\n",
       "      <td> https://member.ruten.com.tw/user/login.htm?ref...</td>\n",
       "      <td>  0</td>\n",
       "    </tr>\n",
       "    <tr>\n",
       "      <th>21   </th>\n",
       "      <td> 123.195.213.173</td>\n",
       "      <td> 1421424000</td>\n",
       "      <td> POST</td>\n",
       "      <td> /user/login.php?refer=http%3A%2F%2Fmybid.ruten...</td>\n",
       "      <td> 200</td>\n",
       "      <td> https://member.ruten.com.tw/user/login.htm?ref...</td>\n",
       "      <td>  0</td>\n",
       "    </tr>\n",
       "    <tr>\n",
       "      <th>22   </th>\n",
       "      <td>   111.255.30.21</td>\n",
       "      <td> 1421424000</td>\n",
       "      <td>  GET</td>\n",
       "      <td>                               /user/image_key.php</td>\n",
       "      <td> 200</td>\n",
       "      <td> https://member.ruten.com.tw/user/login.htm?ref...</td>\n",
       "      <td>  0</td>\n",
       "    </tr>\n",
       "    <tr>\n",
       "      <th>23   </th>\n",
       "      <td>  110.27.137.205</td>\n",
       "      <td> 1421424000</td>\n",
       "      <td> POST</td>\n",
       "      <td> /user/login.php?refer=http%3A%2F%2Fgoods.ruten...</td>\n",
       "      <td> 200</td>\n",
       "      <td>        https://member.ruten.com.tw/user/login.htm</td>\n",
       "      <td>  0</td>\n",
       "    </tr>\n",
       "    <tr>\n",
       "      <th>24   </th>\n",
       "      <td>  101.12.237.108</td>\n",
       "      <td> 1421424000</td>\n",
       "      <td>  GET</td>\n",
       "      <td>                                  /user/logout.php</td>\n",
       "      <td> 200</td>\n",
       "      <td>           http://mybid.ruten.com.tw/master/my.php</td>\n",
       "      <td>  0</td>\n",
       "    </tr>\n",
       "    <tr>\n",
       "      <th>25   </th>\n",
       "      <td>  119.14.123.186</td>\n",
       "      <td> 1421424000</td>\n",
       "      <td>  GET</td>\n",
       "      <td>                                   /user/login.htm</td>\n",
       "      <td> 200</td>\n",
       "      <td>                          http://www.ruten.com.tw/</td>\n",
       "      <td>  0</td>\n",
       "    </tr>\n",
       "    <tr>\n",
       "      <th>26   </th>\n",
       "      <td>  220.129.238.55</td>\n",
       "      <td> 1421424000</td>\n",
       "      <td>  GET</td>\n",
       "      <td> /user/login.htm?refer=http%3A%2F%2Fmybid.ruten...</td>\n",
       "      <td> 200</td>\n",
       "      <td> http://mybid.ruten.com.tw/deliver/invoice.php?...</td>\n",
       "      <td>  0</td>\n",
       "    </tr>\n",
       "    <tr>\n",
       "      <th>27   </th>\n",
       "      <td>   111.255.30.21</td>\n",
       "      <td> 1421424000</td>\n",
       "      <td>  GET</td>\n",
       "      <td> /user/image.php?key=45d9c2d66cc9c75d4ba32f41a8...</td>\n",
       "      <td> 200</td>\n",
       "      <td> https://member.ruten.com.tw/user/login.htm?ref...</td>\n",
       "      <td>  0</td>\n",
       "    </tr>\n",
       "    <tr>\n",
       "      <th>28   </th>\n",
       "      <td>   180.217.19.88</td>\n",
       "      <td> 1421424000</td>\n",
       "      <td>  GET</td>\n",
       "      <td> /user/login.htm?refer=http%3A%2F%2Fmybid.ruten...</td>\n",
       "      <td> 200</td>\n",
       "      <td>           http://mybid.ruten.com.tw/master/my.php</td>\n",
       "      <td>  0</td>\n",
       "    </tr>\n",
       "    <tr>\n",
       "      <th>29   </th>\n",
       "      <td>  119.14.123.186</td>\n",
       "      <td> 1421424000</td>\n",
       "      <td>  GET</td>\n",
       "      <td>                                /images/spacer.gif</td>\n",
       "      <td> 200</td>\n",
       "      <td>        https://member.ruten.com.tw/user/login.htm</td>\n",
       "      <td>  0</td>\n",
       "    </tr>\n",
       "    <tr>\n",
       "      <th>...</th>\n",
       "      <td>...</td>\n",
       "      <td>...</td>\n",
       "      <td>...</td>\n",
       "      <td>...</td>\n",
       "      <td>...</td>\n",
       "      <td>...</td>\n",
       "      <td>...</td>\n",
       "    </tr>\n",
       "    <tr>\n",
       "      <th>49970</th>\n",
       "      <td>   27.244.14.189</td>\n",
       "      <td> 1421424813</td>\n",
       "      <td>  GET</td>\n",
       "      <td> /user/image.php?key=4316f8cea26076fe1f9d147fad...</td>\n",
       "      <td> 200</td>\n",
       "      <td> https://member.ruten.com.tw/user/login.htm?ref...</td>\n",
       "      <td>  0</td>\n",
       "    </tr>\n",
       "    <tr>\n",
       "      <th>49971</th>\n",
       "      <td>  36.234.158.212</td>\n",
       "      <td> 1421424813</td>\n",
       "      <td>  GET</td>\n",
       "      <td> /user/image.php?key=e7289523c89f0dfaae49d66c86...</td>\n",
       "      <td> 200</td>\n",
       "      <td> https://member.ruten.com.tw/user/login.htm?ref...</td>\n",
       "      <td>  0</td>\n",
       "    </tr>\n",
       "    <tr>\n",
       "      <th>49972</th>\n",
       "      <td>  101.12.155.194</td>\n",
       "      <td> 1421424813</td>\n",
       "      <td>  GET</td>\n",
       "      <td>                               /user/image_key.php</td>\n",
       "      <td> 200</td>\n",
       "      <td>        https://member.ruten.com.tw/user/login.htm</td>\n",
       "      <td>  1</td>\n",
       "    </tr>\n",
       "    <tr>\n",
       "      <th>49973</th>\n",
       "      <td>    61.228.37.30</td>\n",
       "      <td> 1421424813</td>\n",
       "      <td>  GET</td>\n",
       "      <td>                               /user/image_key.php</td>\n",
       "      <td> 200</td>\n",
       "      <td>                                                - </td>\n",
       "      <td>  0</td>\n",
       "    </tr>\n",
       "    <tr>\n",
       "      <th>49974</th>\n",
       "      <td>  123.194.179.48</td>\n",
       "      <td> 1421424813</td>\n",
       "      <td>  GET</td>\n",
       "      <td> /user/login.htm?err_code=1&amp;refer=http%3A%2F%2F...</td>\n",
       "      <td> 200</td>\n",
       "      <td>        https://member.ruten.com.tw/user/login.htm</td>\n",
       "      <td>  3</td>\n",
       "    </tr>\n",
       "    <tr>\n",
       "      <th>49975</th>\n",
       "      <td>  123.194.179.48</td>\n",
       "      <td> 1421424813</td>\n",
       "      <td>  GET</td>\n",
       "      <td>                                /images/spacer.gif</td>\n",
       "      <td> 304</td>\n",
       "      <td> https://member.ruten.com.tw/user/login.htm?err...</td>\n",
       "      <td>  3</td>\n",
       "    </tr>\n",
       "    <tr>\n",
       "      <th>49976</th>\n",
       "      <td>    101.11.84.67</td>\n",
       "      <td> 1421424813</td>\n",
       "      <td>  GET</td>\n",
       "      <td>                               /user/image_key.php</td>\n",
       "      <td> 200</td>\n",
       "      <td>        https://member.ruten.com.tw/user/login.htm</td>\n",
       "      <td>  0</td>\n",
       "    </tr>\n",
       "    <tr>\n",
       "      <th>49977</th>\n",
       "      <td>  101.12.155.194</td>\n",
       "      <td> 1421424813</td>\n",
       "      <td>  GET</td>\n",
       "      <td> /user/image.php?key=47bf5ca01d6b0292616e4b672f...</td>\n",
       "      <td> 200</td>\n",
       "      <td>        https://member.ruten.com.tw/user/login.htm</td>\n",
       "      <td>  1</td>\n",
       "    </tr>\n",
       "    <tr>\n",
       "      <th>49978</th>\n",
       "      <td>  114.46.203.132</td>\n",
       "      <td> 1421424813</td>\n",
       "      <td>  GET</td>\n",
       "      <td> /ivr/ivr_ajax.php?seq=11379976&amp;act=upload&amp;t=14...</td>\n",
       "      <td> 200</td>\n",
       "      <td> https://member.ruten.com.tw/ivr/ivr.php?act=up...</td>\n",
       "      <td> 27</td>\n",
       "    </tr>\n",
       "    <tr>\n",
       "      <th>49979</th>\n",
       "      <td>   58.114.127.77</td>\n",
       "      <td> 1421424813</td>\n",
       "      <td> POST</td>\n",
       "      <td> /user/login.php?refer=http%3A%2F%2Fmybid.ruten...</td>\n",
       "      <td> 200</td>\n",
       "      <td> https://member.ruten.com.tw/user/login.htm?ref...</td>\n",
       "      <td>  2</td>\n",
       "    </tr>\n",
       "    <tr>\n",
       "      <th>49980</th>\n",
       "      <td>     39.8.11.140</td>\n",
       "      <td> 1421424813</td>\n",
       "      <td>  GET</td>\n",
       "      <td> /user/mlogin.php?refer=http%3A%2F%2Fm.ruten.co...</td>\n",
       "      <td> 200</td>\n",
       "      <td>       http://m.ruten.com.tw/mybid/secret_list.php</td>\n",
       "      <td>  0</td>\n",
       "    </tr>\n",
       "    <tr>\n",
       "      <th>49981</th>\n",
       "      <td>    101.11.84.67</td>\n",
       "      <td> 1421424813</td>\n",
       "      <td>  GET</td>\n",
       "      <td> /user/image.php?key=594d011efdb6a49dc6d72cff26...</td>\n",
       "      <td> 200</td>\n",
       "      <td>        https://member.ruten.com.tw/user/login.htm</td>\n",
       "      <td>  0</td>\n",
       "    </tr>\n",
       "    <tr>\n",
       "      <th>49982</th>\n",
       "      <td>  223.137.142.30</td>\n",
       "      <td> 1421424813</td>\n",
       "      <td>  GET</td>\n",
       "      <td>                                  /css/auction.css</td>\n",
       "      <td> 200</td>\n",
       "      <td>        https://member.ruten.com.tw/user/login.htm</td>\n",
       "      <td>  1</td>\n",
       "    </tr>\n",
       "    <tr>\n",
       "      <th>49983</th>\n",
       "      <td>    1.172.106.13</td>\n",
       "      <td> 1421424813</td>\n",
       "      <td> POST</td>\n",
       "      <td> /user/login.php?refer=http%3A%2F%2Fmybid.ruten...</td>\n",
       "      <td> 200</td>\n",
       "      <td> https://member.ruten.com.tw/user/login.htm?ref...</td>\n",
       "      <td>  0</td>\n",
       "    </tr>\n",
       "    <tr>\n",
       "      <th>49984</th>\n",
       "      <td>  223.137.142.30</td>\n",
       "      <td> 1421424813</td>\n",
       "      <td>  GET</td>\n",
       "      <td>                                       /js/form.js</td>\n",
       "      <td> 304</td>\n",
       "      <td>        https://member.ruten.com.tw/user/login.htm</td>\n",
       "      <td>  1</td>\n",
       "    </tr>\n",
       "    <tr>\n",
       "      <th>49985</th>\n",
       "      <td>  223.137.142.30</td>\n",
       "      <td> 1421424813</td>\n",
       "      <td>  GET</td>\n",
       "      <td>                           /js/jquery-1.7.1.min.js</td>\n",
       "      <td> 200</td>\n",
       "      <td>        https://member.ruten.com.tw/user/login.htm</td>\n",
       "      <td>  1</td>\n",
       "    </tr>\n",
       "    <tr>\n",
       "      <th>49986</th>\n",
       "      <td>    61.228.37.30</td>\n",
       "      <td> 1421424813</td>\n",
       "      <td>  GET</td>\n",
       "      <td> /user/image.php?key=0b76320ef7a076796c9229e546...</td>\n",
       "      <td> 200</td>\n",
       "      <td>        https://member.ruten.com.tw/user/login.htm</td>\n",
       "      <td>  0</td>\n",
       "    </tr>\n",
       "    <tr>\n",
       "      <th>49987</th>\n",
       "      <td>  223.137.142.30</td>\n",
       "      <td> 1421424813</td>\n",
       "      <td>  GET</td>\n",
       "      <td>                                  /images/logo.gif</td>\n",
       "      <td> 304</td>\n",
       "      <td>        https://member.ruten.com.tw/user/login.htm</td>\n",
       "      <td>  1</td>\n",
       "    </tr>\n",
       "    <tr>\n",
       "      <th>49988</th>\n",
       "      <td>  223.137.142.30</td>\n",
       "      <td> 1421424813</td>\n",
       "      <td>  GET</td>\n",
       "      <td>                            /js/show_login_time.js</td>\n",
       "      <td> 304</td>\n",
       "      <td>        https://member.ruten.com.tw/user/login.htm</td>\n",
       "      <td>  1</td>\n",
       "    </tr>\n",
       "    <tr>\n",
       "      <th>49989</th>\n",
       "      <td>  223.137.142.30</td>\n",
       "      <td> 1421424813</td>\n",
       "      <td>  GET</td>\n",
       "      <td>                                      /css/new.css</td>\n",
       "      <td> 304</td>\n",
       "      <td>        https://member.ruten.com.tw/user/login.htm</td>\n",
       "      <td>  1</td>\n",
       "    </tr>\n",
       "    <tr>\n",
       "      <th>49990</th>\n",
       "      <td>    1.164.56.201</td>\n",
       "      <td> 1421424813</td>\n",
       "      <td>  GET</td>\n",
       "      <td> /user/image.php?key=0837974266599232d6cbc299b9...</td>\n",
       "      <td> 200</td>\n",
       "      <td>        https://member.ruten.com.tw/user/login.htm</td>\n",
       "      <td>  7</td>\n",
       "    </tr>\n",
       "    <tr>\n",
       "      <th>49991</th>\n",
       "      <td>  123.194.179.48</td>\n",
       "      <td> 1421424813</td>\n",
       "      <td>  GET</td>\n",
       "      <td>                               /user/image_key.php</td>\n",
       "      <td> 200</td>\n",
       "      <td> https://member.ruten.com.tw/user/login.htm?err...</td>\n",
       "      <td>  3</td>\n",
       "    </tr>\n",
       "    <tr>\n",
       "      <th>49992</th>\n",
       "      <td> 118.167.133.238</td>\n",
       "      <td> 1421424813</td>\n",
       "      <td>  GET</td>\n",
       "      <td> /ivr/ivr_ajax.php?seq=11230391&amp;act=upload&amp;t=14...</td>\n",
       "      <td> 200</td>\n",
       "      <td> https://member.ruten.com.tw/ivr/ivr.php?act=up...</td>\n",
       "      <td> 14</td>\n",
       "    </tr>\n",
       "    <tr>\n",
       "      <th>49993</th>\n",
       "      <td>  123.194.179.48</td>\n",
       "      <td> 1421424813</td>\n",
       "      <td>  GET</td>\n",
       "      <td> /user/image.php?key=0de1db730f8617f93ced1d7924...</td>\n",
       "      <td> 200</td>\n",
       "      <td> https://member.ruten.com.tw/user/login.htm?err...</td>\n",
       "      <td>  3</td>\n",
       "    </tr>\n",
       "    <tr>\n",
       "      <th>49994</th>\n",
       "      <td>  114.40.196.251</td>\n",
       "      <td> 1421424813</td>\n",
       "      <td> POST</td>\n",
       "      <td> /user/login.php?refer=http%3A%2F%2Fmybid.ruten...</td>\n",
       "      <td> 200</td>\n",
       "      <td> https://member.ruten.com.tw/user/login.htm?ref...</td>\n",
       "      <td>  0</td>\n",
       "    </tr>\n",
       "    <tr>\n",
       "      <th>49995</th>\n",
       "      <td>  223.137.142.30</td>\n",
       "      <td> 1421424813</td>\n",
       "      <td>  GET</td>\n",
       "      <td>                                /images/spacer.gif</td>\n",
       "      <td> 304</td>\n",
       "      <td>        https://member.ruten.com.tw/user/login.htm</td>\n",
       "      <td>  1</td>\n",
       "    </tr>\n",
       "    <tr>\n",
       "      <th>49996</th>\n",
       "      <td>    1.164.74.243</td>\n",
       "      <td> 1421424813</td>\n",
       "      <td>  GET</td>\n",
       "      <td>                               /user/image_key.php</td>\n",
       "      <td> 200</td>\n",
       "      <td>                                                - </td>\n",
       "      <td>  2</td>\n",
       "    </tr>\n",
       "    <tr>\n",
       "      <th>49997</th>\n",
       "      <td>   59.104.251.21</td>\n",
       "      <td> 1421424813</td>\n",
       "      <td>  GET</td>\n",
       "      <td> /user/login.htm?refer=http%3A%2F%2Fmybid.ruten...</td>\n",
       "      <td> 200</td>\n",
       "      <td> http://mybid.ruten.com.tw/master/my.php?l_type...</td>\n",
       "      <td>  0</td>\n",
       "    </tr>\n",
       "    <tr>\n",
       "      <th>49998</th>\n",
       "      <td>    101.8.200.59</td>\n",
       "      <td> 1421424813</td>\n",
       "      <td> POST</td>\n",
       "      <td> /user/login.php?refer=https%3A%2F%2Fmember.rut...</td>\n",
       "      <td> 200</td>\n",
       "      <td>        https://member.ruten.com.tw/user/login.htm</td>\n",
       "      <td>  0</td>\n",
       "    </tr>\n",
       "    <tr>\n",
       "      <th>49999</th>\n",
       "      <td> 223.143.168.192</td>\n",
       "      <td> 1421424814</td>\n",
       "      <td>  GET</td>\n",
       "      <td>                                    /user/temp.gif</td>\n",
       "      <td> 200</td>\n",
       "      <td> https://member.ruten.com.tw/user/login.htm?ref...</td>\n",
       "      <td>  0</td>\n",
       "    </tr>\n",
       "  </tbody>\n",
       "</table>\n",
       "<p>50000 rows × 7 columns</p>\n",
       "</div>"
      ],
      "text/plain": [
       "                    ip        date method  \\\n",
       "0        59.115.29.190  1421423999    GET   \n",
       "1          49.214.1.70  1421423999    GET   \n",
       "2         140.113.5.85  1421424000    GET   \n",
       "3         125.230.3.47  1421424000    GET   \n",
       "4          49.214.8.31  1421424000    GET   \n",
       "5        59.115.29.190  1421424000    GET   \n",
       "6         114.26.4.252  1421424000    GET   \n",
       "7        59.115.29.190  1421424000    GET   \n",
       "8        59.115.29.190  1421424000    GET   \n",
       "9       36.231.233.124  1421424000    GET   \n",
       "10     111.253.116.111  1421424000    GET   \n",
       "11      36.231.233.124  1421424000    GET   \n",
       "12     111.253.116.111  1421424000    GET   \n",
       "13      110.26.177.117  1421424000    GET   \n",
       "14        1.164.42.245  1421424000    GET   \n",
       "15     118.233.136.126  1421424000    GET   \n",
       "16      124.155.182.70  1421424000   POST   \n",
       "17       36.227.75.166  1421424000    GET   \n",
       "18       36.227.75.166  1421424000    GET   \n",
       "19       223.137.43.25  1421424000    GET   \n",
       "20      114.43.184.199  1421424000   POST   \n",
       "21     123.195.213.173  1421424000   POST   \n",
       "22       111.255.30.21  1421424000    GET   \n",
       "23      110.27.137.205  1421424000   POST   \n",
       "24      101.12.237.108  1421424000    GET   \n",
       "25      119.14.123.186  1421424000    GET   \n",
       "26      220.129.238.55  1421424000    GET   \n",
       "27       111.255.30.21  1421424000    GET   \n",
       "28       180.217.19.88  1421424000    GET   \n",
       "29      119.14.123.186  1421424000    GET   \n",
       "...                ...         ...    ...   \n",
       "49970    27.244.14.189  1421424813    GET   \n",
       "49971   36.234.158.212  1421424813    GET   \n",
       "49972   101.12.155.194  1421424813    GET   \n",
       "49973     61.228.37.30  1421424813    GET   \n",
       "49974   123.194.179.48  1421424813    GET   \n",
       "49975   123.194.179.48  1421424813    GET   \n",
       "49976     101.11.84.67  1421424813    GET   \n",
       "49977   101.12.155.194  1421424813    GET   \n",
       "49978   114.46.203.132  1421424813    GET   \n",
       "49979    58.114.127.77  1421424813   POST   \n",
       "49980      39.8.11.140  1421424813    GET   \n",
       "49981     101.11.84.67  1421424813    GET   \n",
       "49982   223.137.142.30  1421424813    GET   \n",
       "49983     1.172.106.13  1421424813   POST   \n",
       "49984   223.137.142.30  1421424813    GET   \n",
       "49985   223.137.142.30  1421424813    GET   \n",
       "49986     61.228.37.30  1421424813    GET   \n",
       "49987   223.137.142.30  1421424813    GET   \n",
       "49988   223.137.142.30  1421424813    GET   \n",
       "49989   223.137.142.30  1421424813    GET   \n",
       "49990     1.164.56.201  1421424813    GET   \n",
       "49991   123.194.179.48  1421424813    GET   \n",
       "49992  118.167.133.238  1421424813    GET   \n",
       "49993   123.194.179.48  1421424813    GET   \n",
       "49994   114.40.196.251  1421424813   POST   \n",
       "49995   223.137.142.30  1421424813    GET   \n",
       "49996     1.164.74.243  1421424813    GET   \n",
       "49997    59.104.251.21  1421424813    GET   \n",
       "49998     101.8.200.59  1421424813   POST   \n",
       "49999  223.143.168.192  1421424814    GET   \n",
       "\n",
       "                                                    page  status  \\\n",
       "0      /user/login.htm?refer=http%3A%2F%2Fmybid.ruten...     200   \n",
       "1                                    /user/image_key.php     200   \n",
       "2                                     /images/icon2c.gif     200   \n",
       "3      /user/image.php?key=3fcc55f13c6739982d6d653781...     200   \n",
       "4      /user/login.htm?refer=http%3A%2F%2Fmybid.ruten...     200   \n",
       "5                                /ahd/500x300_150114.jpg     200   \n",
       "6      /user/image.php?key=88971150dcd888a9eadbda0494...     200   \n",
       "7                                    /user/image_key.php     200   \n",
       "8      /user/image.php?key=683a435bd06340da84c9703072...     200   \n",
       "9                                    /user/image_key.php     200   \n",
       "10                                   /user/image_key.php     200   \n",
       "11     /user/image.php?key=ace05fcd32c2a43683ec32179e...     200   \n",
       "12     /user/image.php?key=575d4914885a4ebd0a952aefbf...     200   \n",
       "13                                      /user/logout.php     200   \n",
       "14     /user/image.php?key=347f4a49cac50234081aeb5554...     200   \n",
       "15                                   /user/image_key.php     200   \n",
       "16     /user/login.php?refer=https%3A%2F%2Fmember.rut...     200   \n",
       "17     /user/login.htm?refer=http%3A%2F%2Fmybid.ruten...     200   \n",
       "18                          /ahd/500300-1_1419407643.jpg     200   \n",
       "19     /ivr/ivr_ajax.php?seq=11379774&act=reg&t=14214...     200   \n",
       "20     /user/login.php?refer=http%3A%2F%2Fmybid.ruten...     200   \n",
       "21     /user/login.php?refer=http%3A%2F%2Fmybid.ruten...     200   \n",
       "22                                   /user/image_key.php     200   \n",
       "23     /user/login.php?refer=http%3A%2F%2Fgoods.ruten...     200   \n",
       "24                                      /user/logout.php     200   \n",
       "25                                       /user/login.htm     200   \n",
       "26     /user/login.htm?refer=http%3A%2F%2Fmybid.ruten...     200   \n",
       "27     /user/image.php?key=45d9c2d66cc9c75d4ba32f41a8...     200   \n",
       "28     /user/login.htm?refer=http%3A%2F%2Fmybid.ruten...     200   \n",
       "29                                    /images/spacer.gif     200   \n",
       "...                                                  ...     ...   \n",
       "49970  /user/image.php?key=4316f8cea26076fe1f9d147fad...     200   \n",
       "49971  /user/image.php?key=e7289523c89f0dfaae49d66c86...     200   \n",
       "49972                                /user/image_key.php     200   \n",
       "49973                                /user/image_key.php     200   \n",
       "49974  /user/login.htm?err_code=1&refer=http%3A%2F%2F...     200   \n",
       "49975                                 /images/spacer.gif     304   \n",
       "49976                                /user/image_key.php     200   \n",
       "49977  /user/image.php?key=47bf5ca01d6b0292616e4b672f...     200   \n",
       "49978  /ivr/ivr_ajax.php?seq=11379976&act=upload&t=14...     200   \n",
       "49979  /user/login.php?refer=http%3A%2F%2Fmybid.ruten...     200   \n",
       "49980  /user/mlogin.php?refer=http%3A%2F%2Fm.ruten.co...     200   \n",
       "49981  /user/image.php?key=594d011efdb6a49dc6d72cff26...     200   \n",
       "49982                                   /css/auction.css     200   \n",
       "49983  /user/login.php?refer=http%3A%2F%2Fmybid.ruten...     200   \n",
       "49984                                        /js/form.js     304   \n",
       "49985                            /js/jquery-1.7.1.min.js     200   \n",
       "49986  /user/image.php?key=0b76320ef7a076796c9229e546...     200   \n",
       "49987                                   /images/logo.gif     304   \n",
       "49988                             /js/show_login_time.js     304   \n",
       "49989                                       /css/new.css     304   \n",
       "49990  /user/image.php?key=0837974266599232d6cbc299b9...     200   \n",
       "49991                                /user/image_key.php     200   \n",
       "49992  /ivr/ivr_ajax.php?seq=11230391&act=upload&t=14...     200   \n",
       "49993  /user/image.php?key=0de1db730f8617f93ced1d7924...     200   \n",
       "49994  /user/login.php?refer=http%3A%2F%2Fmybid.ruten...     200   \n",
       "49995                                 /images/spacer.gif     304   \n",
       "49996                                /user/image_key.php     200   \n",
       "49997  /user/login.htm?refer=http%3A%2F%2Fmybid.ruten...     200   \n",
       "49998  /user/login.php?refer=https%3A%2F%2Fmember.rut...     200   \n",
       "49999                                     /user/temp.gif     200   \n",
       "\n",
       "                                                   refer  session  \n",
       "0                http://mybid.ruten.com.tw/master/my.php        0  \n",
       "1             https://member.ruten.com.tw/user/login.htm        0  \n",
       "2      https://member.ruten.com.tw/user/pdsc_confirm....        0  \n",
       "3      https://member.ruten.com.tw/user/login.htm?ref...        0  \n",
       "4                                                     -         0  \n",
       "5      https://member.ruten.com.tw/user/login.htm?ref...        0  \n",
       "6             https://member.ruten.com.tw/user/login.htm        0  \n",
       "7      https://member.ruten.com.tw/user/login.htm?ref...        0  \n",
       "8      https://member.ruten.com.tw/user/login.htm?ref...        0  \n",
       "9      https://member.ruten.com.tw/user/login.htm?ref...        0  \n",
       "10     https://member.ruten.com.tw/user/login.htm?ref...        0  \n",
       "11     https://member.ruten.com.tw/user/login.htm?ref...        0  \n",
       "12     https://member.ruten.com.tw/user/login.htm?ref...        0  \n",
       "13           http://mybid.ruten.com.tw/point/myorder.htm        0  \n",
       "14            https://member.ruten.com.tw/user/login.htm        0  \n",
       "15            https://member.ruten.com.tw/user/login.htm        0  \n",
       "16            https://member.ruten.com.tw/user/login.htm        0  \n",
       "17               http://mybid.ruten.com.tw/master/my.php        0  \n",
       "18     https://member.ruten.com.tw/user/login.htm?ref...        0  \n",
       "19     https://member.ruten.com.tw/ivr/ivr.php?act=re...        0  \n",
       "20     https://member.ruten.com.tw/user/login.htm?ref...        0  \n",
       "21     https://member.ruten.com.tw/user/login.htm?ref...        0  \n",
       "22     https://member.ruten.com.tw/user/login.htm?ref...        0  \n",
       "23            https://member.ruten.com.tw/user/login.htm        0  \n",
       "24               http://mybid.ruten.com.tw/master/my.php        0  \n",
       "25                              http://www.ruten.com.tw/        0  \n",
       "26     http://mybid.ruten.com.tw/deliver/invoice.php?...        0  \n",
       "27     https://member.ruten.com.tw/user/login.htm?ref...        0  \n",
       "28               http://mybid.ruten.com.tw/master/my.php        0  \n",
       "29            https://member.ruten.com.tw/user/login.htm        0  \n",
       "...                                                  ...      ...  \n",
       "49970  https://member.ruten.com.tw/user/login.htm?ref...        0  \n",
       "49971  https://member.ruten.com.tw/user/login.htm?ref...        0  \n",
       "49972         https://member.ruten.com.tw/user/login.htm        1  \n",
       "49973                                                 -         0  \n",
       "49974         https://member.ruten.com.tw/user/login.htm        3  \n",
       "49975  https://member.ruten.com.tw/user/login.htm?err...        3  \n",
       "49976         https://member.ruten.com.tw/user/login.htm        0  \n",
       "49977         https://member.ruten.com.tw/user/login.htm        1  \n",
       "49978  https://member.ruten.com.tw/ivr/ivr.php?act=up...       27  \n",
       "49979  https://member.ruten.com.tw/user/login.htm?ref...        2  \n",
       "49980        http://m.ruten.com.tw/mybid/secret_list.php        0  \n",
       "49981         https://member.ruten.com.tw/user/login.htm        0  \n",
       "49982         https://member.ruten.com.tw/user/login.htm        1  \n",
       "49983  https://member.ruten.com.tw/user/login.htm?ref...        0  \n",
       "49984         https://member.ruten.com.tw/user/login.htm        1  \n",
       "49985         https://member.ruten.com.tw/user/login.htm        1  \n",
       "49986         https://member.ruten.com.tw/user/login.htm        0  \n",
       "49987         https://member.ruten.com.tw/user/login.htm        1  \n",
       "49988         https://member.ruten.com.tw/user/login.htm        1  \n",
       "49989         https://member.ruten.com.tw/user/login.htm        1  \n",
       "49990         https://member.ruten.com.tw/user/login.htm        7  \n",
       "49991  https://member.ruten.com.tw/user/login.htm?err...        3  \n",
       "49992  https://member.ruten.com.tw/ivr/ivr.php?act=up...       14  \n",
       "49993  https://member.ruten.com.tw/user/login.htm?err...        3  \n",
       "49994  https://member.ruten.com.tw/user/login.htm?ref...        0  \n",
       "49995         https://member.ruten.com.tw/user/login.htm        1  \n",
       "49996                                                 -         2  \n",
       "49997  http://mybid.ruten.com.tw/master/my.php?l_type...        0  \n",
       "49998         https://member.ruten.com.tw/user/login.htm        0  \n",
       "49999  https://member.ruten.com.tw/user/login.htm?ref...        0  \n",
       "\n",
       "[50000 rows x 7 columns]"
      ]
     },
     "execution_count": 9,
     "metadata": {},
     "output_type": "execute_result"
    }
   ],
   "source": [
    "member_log"
   ]
  },
  {
   "cell_type": "code",
   "execution_count": 10,
   "metadata": {
    "collapsed": false
   },
   "outputs": [],
   "source": [
    "member_log['page'] = member_log.page.apply(lambda p: urlparse.urlparse(p).path)"
   ]
  },
  {
   "cell_type": "code",
   "execution_count": 11,
   "metadata": {
    "collapsed": false
   },
   "outputs": [],
   "source": [
    "ix = member_log.page.apply(lambda p: re.search(r'htm$|php$', p) != None)"
   ]
  },
  {
   "cell_type": "code",
   "execution_count": 12,
   "metadata": {
    "collapsed": false
   },
   "outputs": [],
   "source": [
    "member_log = member_log.ix[ix, :]"
   ]
  },
  {
   "cell_type": "code",
   "execution_count": 13,
   "metadata": {
    "collapsed": false
   },
   "outputs": [],
   "source": [
    "tmp = member_log.groupby(['ip', 'session'])['page']"
   ]
  },
  {
   "cell_type": "code",
   "execution_count": 14,
   "metadata": {
    "collapsed": false
   },
   "outputs": [],
   "source": [
    "v = dict(list(tmp)).values()"
   ]
  },
  {
   "cell_type": "code",
   "execution_count": 15,
   "metadata": {
    "collapsed": false
   },
   "outputs": [
    {
     "data": {
      "text/plain": [
       "28609        /user/login.htm\n",
       "28757    /user/image_key.php\n",
       "28758        /user/image.php\n",
       "Name: page, dtype: object"
      ]
     },
     "execution_count": 15,
     "metadata": {},
     "output_type": "execute_result"
    }
   ],
   "source": [
    "v[1]"
   ]
  },
  {
   "cell_type": "code",
   "execution_count": 16,
   "metadata": {
    "collapsed": false
   },
   "outputs": [],
   "source": [
    "vectorizer = CountVectorizer(min_df=1)"
   ]
  },
  {
   "cell_type": "code",
   "execution_count": 17,
   "metadata": {
    "collapsed": false
   },
   "outputs": [],
   "source": [
    "dictionary = corpora.Dictionary(v) "
   ]
  },
  {
   "cell_type": "code",
   "execution_count": 18,
   "metadata": {
    "collapsed": true
   },
   "outputs": [],
   "source": [
    "corpus = [dictionary.doc2bow(text) for text in v]"
   ]
  },
  {
   "cell_type": "code",
   "execution_count": 19,
   "metadata": {
    "collapsed": true
   },
   "outputs": [],
   "source": [
    "tfidf = models.TfidfModel(corpus)"
   ]
  },
  {
   "cell_type": "code",
   "execution_count": 20,
   "metadata": {
    "collapsed": false
   },
   "outputs": [],
   "source": [
    "corpus_tfidf = tfidf[corpus]"
   ]
  },
  {
   "cell_type": "code",
   "execution_count": 21,
   "metadata": {
    "collapsed": false
   },
   "outputs": [],
   "source": [
    "lsi = models.LsiModel(corpus_tfidf, id2word=dictionary, num_topics=3)  "
   ]
  },
  {
   "cell_type": "code",
   "execution_count": 22,
   "metadata": {
    "collapsed": true
   },
   "outputs": [],
   "source": [
    "corpus_lsi = lsi[corpus_tfidf] "
   ]
  },
  {
   "cell_type": "code",
   "execution_count": 23,
   "metadata": {
    "collapsed": false
   },
   "outputs": [],
   "source": [
    "topics = lsi.print_topics(5)\n",
    " "
   ]
  },
  {
   "cell_type": "code",
   "execution_count": 24,
   "metadata": {
    "collapsed": false
   },
   "outputs": [
    {
     "data": {
      "text/plain": [
       "u'0.523*\"/user/login.htm\" + 0.522*\"/user/image_key.php\" + 0.512*\"/user/image.php\" + 0.438*\"/user/login.php\" + 0.015*\"/user/logout.php\" + 0.007*\"/totp/login_validation.php\" + 0.005*\"/user/mlogin.php\" + 0.003*\"/safe_pc/welcome.php\" + 0.002*\"/ivr/ivr.php\" + 0.002*\"/user/confirm_email.htm\"'"
      ]
     },
     "execution_count": 24,
     "metadata": {},
     "output_type": "execute_result"
    }
   ],
   "source": [
    "topics[0]"
   ]
  },
  {
   "cell_type": "code",
   "execution_count": 25,
   "metadata": {
    "collapsed": false
   },
   "outputs": [
    {
     "data": {
      "text/plain": [
       "u'-0.898*\"/user/login.php\" + 0.273*\"/user/login.htm\" + 0.245*\"/user/image_key.php\" + 0.241*\"/user/image.php\" + -0.018*\"/user/mlogin.php\" + 0.008*\"/user/logout.php\" + -0.006*\"/totp/login_validation.php\" + -0.006*\"/safe_pc/welcome.php\" + -0.002*\"/ivr/ivr.php\" + -0.001*\"/user/confirm_email.htm\"'"
      ]
     },
     "execution_count": 25,
     "metadata": {},
     "output_type": "execute_result"
    }
   ],
   "source": [
    "topics[1]"
   ]
  },
  {
   "cell_type": "code",
   "execution_count": 26,
   "metadata": {
    "collapsed": false
   },
   "outputs": [
    {
     "data": {
      "text/plain": [
       "u'0.999*\"/ivr/ivr_ajax.php\" + 0.043*\"/ivr/ivr.php\" + 0.013*\"/user/register_bidok.php\" + 0.006*\"/user/confirm_email.htm\" + 0.003*\"/user/temp_password.php\" + 0.003*\"/user/password_process.php\" + 0.001*\"/user/forgotpwd_step2.php\" + 0.001*\"/totp/do_ivr_recovery_login.php\" + 0.000*\"/user/chk_usernick.php\" + 0.000*\"/user/action.php\"'"
      ]
     },
     "execution_count": 26,
     "metadata": {},
     "output_type": "execute_result"
    }
   ],
   "source": [
    "topics[2]"
   ]
  },
  {
   "cell_type": "code",
   "execution_count": null,
   "metadata": {
    "collapsed": true
   },
   "outputs": [],
   "source": []
  },
  {
   "cell_type": "code",
   "execution_count": null,
   "metadata": {
    "collapsed": true
   },
   "outputs": [],
   "source": []
  },
  {
   "cell_type": "code",
   "execution_count": 27,
   "metadata": {
    "collapsed": false
   },
   "outputs": [
    {
     "data": {
      "text/html": [
       "<div style=\"max-height:1000px;max-width:1500px;overflow:auto;\">\n",
       "<table border=\"1\" class=\"dataframe\">\n",
       "  <thead>\n",
       "    <tr style=\"text-align: right;\">\n",
       "      <th></th>\n",
       "      <th>ip</th>\n",
       "      <th>date</th>\n",
       "      <th>method</th>\n",
       "      <th>page</th>\n",
       "      <th>status</th>\n",
       "      <th>refer</th>\n",
       "      <th>session</th>\n",
       "    </tr>\n",
       "  </thead>\n",
       "  <tbody>\n",
       "    <tr>\n",
       "      <th>0 </th>\n",
       "      <td>   59.115.29.190</td>\n",
       "      <td> 1421423999</td>\n",
       "      <td> GET</td>\n",
       "      <td>     /user/login.htm</td>\n",
       "      <td> 200</td>\n",
       "      <td>           http://mybid.ruten.com.tw/master/my.php</td>\n",
       "      <td> 0</td>\n",
       "    </tr>\n",
       "    <tr>\n",
       "      <th>1 </th>\n",
       "      <td>     49.214.1.70</td>\n",
       "      <td> 1421423999</td>\n",
       "      <td> GET</td>\n",
       "      <td> /user/image_key.php</td>\n",
       "      <td> 200</td>\n",
       "      <td>        https://member.ruten.com.tw/user/login.htm</td>\n",
       "      <td> 0</td>\n",
       "    </tr>\n",
       "    <tr>\n",
       "      <th>3 </th>\n",
       "      <td>    125.230.3.47</td>\n",
       "      <td> 1421424000</td>\n",
       "      <td> GET</td>\n",
       "      <td>     /user/image.php</td>\n",
       "      <td> 200</td>\n",
       "      <td> https://member.ruten.com.tw/user/login.htm?ref...</td>\n",
       "      <td> 0</td>\n",
       "    </tr>\n",
       "    <tr>\n",
       "      <th>4 </th>\n",
       "      <td>     49.214.8.31</td>\n",
       "      <td> 1421424000</td>\n",
       "      <td> GET</td>\n",
       "      <td>     /user/login.htm</td>\n",
       "      <td> 200</td>\n",
       "      <td>                                                - </td>\n",
       "      <td> 0</td>\n",
       "    </tr>\n",
       "    <tr>\n",
       "      <th>6 </th>\n",
       "      <td>    114.26.4.252</td>\n",
       "      <td> 1421424000</td>\n",
       "      <td> GET</td>\n",
       "      <td>     /user/image.php</td>\n",
       "      <td> 200</td>\n",
       "      <td>        https://member.ruten.com.tw/user/login.htm</td>\n",
       "      <td> 0</td>\n",
       "    </tr>\n",
       "    <tr>\n",
       "      <th>7 </th>\n",
       "      <td>   59.115.29.190</td>\n",
       "      <td> 1421424000</td>\n",
       "      <td> GET</td>\n",
       "      <td> /user/image_key.php</td>\n",
       "      <td> 200</td>\n",
       "      <td> https://member.ruten.com.tw/user/login.htm?ref...</td>\n",
       "      <td> 0</td>\n",
       "    </tr>\n",
       "    <tr>\n",
       "      <th>8 </th>\n",
       "      <td>   59.115.29.190</td>\n",
       "      <td> 1421424000</td>\n",
       "      <td> GET</td>\n",
       "      <td>     /user/image.php</td>\n",
       "      <td> 200</td>\n",
       "      <td> https://member.ruten.com.tw/user/login.htm?ref...</td>\n",
       "      <td> 0</td>\n",
       "    </tr>\n",
       "    <tr>\n",
       "      <th>9 </th>\n",
       "      <td>  36.231.233.124</td>\n",
       "      <td> 1421424000</td>\n",
       "      <td> GET</td>\n",
       "      <td> /user/image_key.php</td>\n",
       "      <td> 200</td>\n",
       "      <td> https://member.ruten.com.tw/user/login.htm?ref...</td>\n",
       "      <td> 0</td>\n",
       "    </tr>\n",
       "    <tr>\n",
       "      <th>10</th>\n",
       "      <td> 111.253.116.111</td>\n",
       "      <td> 1421424000</td>\n",
       "      <td> GET</td>\n",
       "      <td> /user/image_key.php</td>\n",
       "      <td> 200</td>\n",
       "      <td> https://member.ruten.com.tw/user/login.htm?ref...</td>\n",
       "      <td> 0</td>\n",
       "    </tr>\n",
       "    <tr>\n",
       "      <th>11</th>\n",
       "      <td>  36.231.233.124</td>\n",
       "      <td> 1421424000</td>\n",
       "      <td> GET</td>\n",
       "      <td>     /user/image.php</td>\n",
       "      <td> 200</td>\n",
       "      <td> https://member.ruten.com.tw/user/login.htm?ref...</td>\n",
       "      <td> 0</td>\n",
       "    </tr>\n",
       "  </tbody>\n",
       "</table>\n",
       "</div>"
      ],
      "text/plain": [
       "                 ip        date method                 page  status  \\\n",
       "0     59.115.29.190  1421423999    GET      /user/login.htm     200   \n",
       "1       49.214.1.70  1421423999    GET  /user/image_key.php     200   \n",
       "3      125.230.3.47  1421424000    GET      /user/image.php     200   \n",
       "4       49.214.8.31  1421424000    GET      /user/login.htm     200   \n",
       "6      114.26.4.252  1421424000    GET      /user/image.php     200   \n",
       "7     59.115.29.190  1421424000    GET  /user/image_key.php     200   \n",
       "8     59.115.29.190  1421424000    GET      /user/image.php     200   \n",
       "9    36.231.233.124  1421424000    GET  /user/image_key.php     200   \n",
       "10  111.253.116.111  1421424000    GET  /user/image_key.php     200   \n",
       "11   36.231.233.124  1421424000    GET      /user/image.php     200   \n",
       "\n",
       "                                                refer  session  \n",
       "0             http://mybid.ruten.com.tw/master/my.php        0  \n",
       "1          https://member.ruten.com.tw/user/login.htm        0  \n",
       "3   https://member.ruten.com.tw/user/login.htm?ref...        0  \n",
       "4                                                  -         0  \n",
       "6          https://member.ruten.com.tw/user/login.htm        0  \n",
       "7   https://member.ruten.com.tw/user/login.htm?ref...        0  \n",
       "8   https://member.ruten.com.tw/user/login.htm?ref...        0  \n",
       "9   https://member.ruten.com.tw/user/login.htm?ref...        0  \n",
       "10  https://member.ruten.com.tw/user/login.htm?ref...        0  \n",
       "11  https://member.ruten.com.tw/user/login.htm?ref...        0  "
      ]
     },
     "execution_count": 27,
     "metadata": {},
     "output_type": "execute_result"
    }
   ],
   "source": [
    "member_log.head(10)"
   ]
  },
  {
   "cell_type": "code",
   "execution_count": 34,
   "metadata": {
    "collapsed": true
   },
   "outputs": [],
   "source": [
    "from pandas import *"
   ]
  },
  {
   "cell_type": "code",
   "execution_count": 35,
   "metadata": {
    "collapsed": false
   },
   "outputs": [],
   "source": [
    "tbl1 = member_log.groupby(['ip', 'session', 'page']).apply(len)"
   ]
  },
  {
   "cell_type": "code",
   "execution_count": 48,
   "metadata": {
    "collapsed": false
   },
   "outputs": [
    {
     "data": {
      "text/plain": [
       "dtype('int64')"
      ]
     },
     "execution_count": 48,
     "metadata": {},
     "output_type": "execute_result"
    }
   ],
   "source": [
    "tbl1.dtype"
   ]
  },
  {
   "cell_type": "code",
   "execution_count": 62,
   "metadata": {
    "collapsed": false
   },
   "outputs": [],
   "source": [
    "x = tbl1.reset_index()"
   ]
  },
  {
   "cell_type": "code",
   "execution_count": 65,
   "metadata": {
    "collapsed": true
   },
   "outputs": [],
   "source": [
    "from numpy.random import randn"
   ]
  },
  {
   "cell_type": "code",
   "execution_count": 66,
   "metadata": {
    "collapsed": true
   },
   "outputs": [],
   "source": [
    "ts = Series(randn(10))"
   ]
  },
  {
   "cell_type": "code",
   "execution_count": 67,
   "metadata": {
    "collapsed": false
   },
   "outputs": [
    {
     "data": {
      "text/plain": [
       "0    0.043651\n",
       "1   -0.183796\n",
       "2    0.359164\n",
       "3    0.710410\n",
       "4    0.367862\n",
       "5    1.876224\n",
       "6   -0.337962\n",
       "7    0.203463\n",
       "8   -0.370863\n",
       "9    0.193375\n",
       "dtype: float64"
      ]
     },
     "execution_count": 67,
     "metadata": {},
     "output_type": "execute_result"
    }
   ],
   "source": [
    "ts"
   ]
  },
  {
   "cell_type": "code",
   "execution_count": 68,
   "metadata": {
    "collapsed": true
   },
   "outputs": [],
   "source": [
    "sts = ts.to_sparse() "
   ]
  },
  {
   "cell_type": "code",
   "execution_count": null,
   "metadata": {
    "collapsed": true
   },
   "outputs": [],
   "source": [
    "sts.to"
   ]
  },
  {
   "cell_type": "code",
   "execution_count": 69,
   "metadata": {
    "collapsed": false
   },
   "outputs": [],
   "source": [
    "x = tbl1.reset_index()"
   ]
  },
  {
   "cell_type": "code",
   "execution_count": 70,
   "metadata": {
    "collapsed": false
   },
   "outputs": [],
   "source": [
    "x = tbl1.reset_index()"
   ]
  },
  {
   "cell_type": "code",
   "execution_count": 71,
   "metadata": {
    "collapsed": false
   },
   "outputs": [],
   "source": [
    "x.columns = ['ip', 'session', 'page', 'count']"
   ]
  },
  {
   "cell_type": "code",
   "execution_count": 101,
   "metadata": {
    "collapsed": false
   },
   "outputs": [],
   "source": [
    "x2 = x.pivot_table(values= 'count', index=['ip', 'session'], columns=['page'])"
   ]
  },
  {
   "cell_type": "code",
   "execution_count": 72,
   "metadata": {
    "collapsed": false
   },
   "outputs": [
    {
     "data": {
      "text/html": [
       "<div style=\"max-height:1000px;max-width:1500px;overflow:auto;\">\n",
       "<table border=\"1\" class=\"dataframe\">\n",
       "  <thead>\n",
       "    <tr style=\"text-align: right;\">\n",
       "      <th></th>\n",
       "      <th>ip</th>\n",
       "      <th>session</th>\n",
       "      <th>page</th>\n",
       "      <th>count</th>\n",
       "    </tr>\n",
       "  </thead>\n",
       "  <tbody>\n",
       "    <tr>\n",
       "      <th>0    </th>\n",
       "      <td>     1.160.0.79</td>\n",
       "      <td> 0</td>\n",
       "      <td>          /user/image.php</td>\n",
       "      <td> 1</td>\n",
       "    </tr>\n",
       "    <tr>\n",
       "      <th>1    </th>\n",
       "      <td>     1.160.0.79</td>\n",
       "      <td> 0</td>\n",
       "      <td>      /user/image_key.php</td>\n",
       "      <td> 1</td>\n",
       "    </tr>\n",
       "    <tr>\n",
       "      <th>2    </th>\n",
       "      <td>     1.160.0.79</td>\n",
       "      <td> 0</td>\n",
       "      <td>          /user/login.htm</td>\n",
       "      <td> 1</td>\n",
       "    </tr>\n",
       "    <tr>\n",
       "      <th>3    </th>\n",
       "      <td>     1.160.0.79</td>\n",
       "      <td> 1</td>\n",
       "      <td>          /user/login.php</td>\n",
       "      <td> 1</td>\n",
       "    </tr>\n",
       "    <tr>\n",
       "      <th>4    </th>\n",
       "      <td>    1.160.1.202</td>\n",
       "      <td> 0</td>\n",
       "      <td>          /user/image.php</td>\n",
       "      <td> 1</td>\n",
       "    </tr>\n",
       "    <tr>\n",
       "      <th>5    </th>\n",
       "      <td>    1.160.1.202</td>\n",
       "      <td> 0</td>\n",
       "      <td>      /user/image_key.php</td>\n",
       "      <td> 1</td>\n",
       "    </tr>\n",
       "    <tr>\n",
       "      <th>6    </th>\n",
       "      <td>    1.160.1.202</td>\n",
       "      <td> 0</td>\n",
       "      <td>          /user/login.htm</td>\n",
       "      <td> 1</td>\n",
       "    </tr>\n",
       "    <tr>\n",
       "      <th>7    </th>\n",
       "      <td>    1.160.1.202</td>\n",
       "      <td> 1</td>\n",
       "      <td>          /user/login.php</td>\n",
       "      <td> 1</td>\n",
       "    </tr>\n",
       "    <tr>\n",
       "      <th>8    </th>\n",
       "      <td>  1.160.118.187</td>\n",
       "      <td> 0</td>\n",
       "      <td>          /user/image.php</td>\n",
       "      <td> 1</td>\n",
       "    </tr>\n",
       "    <tr>\n",
       "      <th>9    </th>\n",
       "      <td>  1.160.118.187</td>\n",
       "      <td> 0</td>\n",
       "      <td>      /user/image_key.php</td>\n",
       "      <td> 1</td>\n",
       "    </tr>\n",
       "    <tr>\n",
       "      <th>10   </th>\n",
       "      <td>  1.160.118.187</td>\n",
       "      <td> 0</td>\n",
       "      <td>          /user/login.htm</td>\n",
       "      <td> 1</td>\n",
       "    </tr>\n",
       "    <tr>\n",
       "      <th>11   </th>\n",
       "      <td>  1.160.118.187</td>\n",
       "      <td> 1</td>\n",
       "      <td>          /user/login.php</td>\n",
       "      <td> 1</td>\n",
       "    </tr>\n",
       "    <tr>\n",
       "      <th>12   </th>\n",
       "      <td>  1.160.120.175</td>\n",
       "      <td> 0</td>\n",
       "      <td>          /user/image.php</td>\n",
       "      <td> 1</td>\n",
       "    </tr>\n",
       "    <tr>\n",
       "      <th>13   </th>\n",
       "      <td>  1.160.120.175</td>\n",
       "      <td> 0</td>\n",
       "      <td>      /user/image_key.php</td>\n",
       "      <td> 1</td>\n",
       "    </tr>\n",
       "    <tr>\n",
       "      <th>14   </th>\n",
       "      <td>  1.160.120.175</td>\n",
       "      <td> 0</td>\n",
       "      <td>          /user/login.htm</td>\n",
       "      <td> 1</td>\n",
       "    </tr>\n",
       "    <tr>\n",
       "      <th>15   </th>\n",
       "      <td>  1.160.120.175</td>\n",
       "      <td> 1</td>\n",
       "      <td>          /user/login.htm</td>\n",
       "      <td> 1</td>\n",
       "    </tr>\n",
       "    <tr>\n",
       "      <th>16   </th>\n",
       "      <td>  1.160.120.175</td>\n",
       "      <td> 2</td>\n",
       "      <td>          /user/login.htm</td>\n",
       "      <td> 2</td>\n",
       "    </tr>\n",
       "    <tr>\n",
       "      <th>17   </th>\n",
       "      <td>  1.160.120.175</td>\n",
       "      <td> 3</td>\n",
       "      <td>          /user/login.htm</td>\n",
       "      <td> 1</td>\n",
       "    </tr>\n",
       "    <tr>\n",
       "      <th>18   </th>\n",
       "      <td>    1.160.120.2</td>\n",
       "      <td> 0</td>\n",
       "      <td>          /user/image.php</td>\n",
       "      <td> 1</td>\n",
       "    </tr>\n",
       "    <tr>\n",
       "      <th>19   </th>\n",
       "      <td>    1.160.120.2</td>\n",
       "      <td> 0</td>\n",
       "      <td>      /user/image_key.php</td>\n",
       "      <td> 1</td>\n",
       "    </tr>\n",
       "    <tr>\n",
       "      <th>20   </th>\n",
       "      <td>    1.160.120.2</td>\n",
       "      <td> 0</td>\n",
       "      <td>          /user/login.htm</td>\n",
       "      <td> 1</td>\n",
       "    </tr>\n",
       "    <tr>\n",
       "      <th>21   </th>\n",
       "      <td>    1.160.120.2</td>\n",
       "      <td> 1</td>\n",
       "      <td>          /user/login.php</td>\n",
       "      <td> 1</td>\n",
       "    </tr>\n",
       "    <tr>\n",
       "      <th>22   </th>\n",
       "      <td>   1.160.160.96</td>\n",
       "      <td> 0</td>\n",
       "      <td>          /user/image.php</td>\n",
       "      <td> 1</td>\n",
       "    </tr>\n",
       "    <tr>\n",
       "      <th>23   </th>\n",
       "      <td>   1.160.160.96</td>\n",
       "      <td> 0</td>\n",
       "      <td>      /user/image_key.php</td>\n",
       "      <td> 1</td>\n",
       "    </tr>\n",
       "    <tr>\n",
       "      <th>24   </th>\n",
       "      <td>   1.160.160.96</td>\n",
       "      <td> 0</td>\n",
       "      <td>          /user/login.htm</td>\n",
       "      <td> 1</td>\n",
       "    </tr>\n",
       "    <tr>\n",
       "      <th>25   </th>\n",
       "      <td>   1.160.160.96</td>\n",
       "      <td> 1</td>\n",
       "      <td>     /safe_pc/welcome.php</td>\n",
       "      <td> 1</td>\n",
       "    </tr>\n",
       "    <tr>\n",
       "      <th>26   </th>\n",
       "      <td>   1.160.160.96</td>\n",
       "      <td> 1</td>\n",
       "      <td>          /user/login.php</td>\n",
       "      <td> 1</td>\n",
       "    </tr>\n",
       "    <tr>\n",
       "      <th>27   </th>\n",
       "      <td>   1.160.161.88</td>\n",
       "      <td> 0</td>\n",
       "      <td>   /user/chk_usernick.php</td>\n",
       "      <td> 1</td>\n",
       "    </tr>\n",
       "    <tr>\n",
       "      <th>28   </th>\n",
       "      <td>   1.160.161.88</td>\n",
       "      <td> 1</td>\n",
       "      <td>   /user/chk_usernick.php</td>\n",
       "      <td> 1</td>\n",
       "    </tr>\n",
       "    <tr>\n",
       "      <th>29   </th>\n",
       "      <td>   1.160.161.88</td>\n",
       "      <td> 1</td>\n",
       "      <td> /user/msg_encode_new.php</td>\n",
       "      <td> 1</td>\n",
       "    </tr>\n",
       "    <tr>\n",
       "      <th>...</th>\n",
       "      <td>...</td>\n",
       "      <td>...</td>\n",
       "      <td>...</td>\n",
       "      <td>...</td>\n",
       "    </tr>\n",
       "    <tr>\n",
       "      <th>37109</th>\n",
       "      <td>   66.249.79.93</td>\n",
       "      <td> 2</td>\n",
       "      <td>          /user/login.htm</td>\n",
       "      <td> 1</td>\n",
       "    </tr>\n",
       "    <tr>\n",
       "      <th>37110</th>\n",
       "      <td>    71.202.28.4</td>\n",
       "      <td> 0</td>\n",
       "      <td>          /user/image.php</td>\n",
       "      <td> 1</td>\n",
       "    </tr>\n",
       "    <tr>\n",
       "      <th>37111</th>\n",
       "      <td>    71.202.28.4</td>\n",
       "      <td> 0</td>\n",
       "      <td>      /user/image_key.php</td>\n",
       "      <td> 1</td>\n",
       "    </tr>\n",
       "    <tr>\n",
       "      <th>37112</th>\n",
       "      <td>    71.202.28.4</td>\n",
       "      <td> 0</td>\n",
       "      <td>          /user/login.htm</td>\n",
       "      <td> 1</td>\n",
       "    </tr>\n",
       "    <tr>\n",
       "      <th>37113</th>\n",
       "      <td>    71.202.28.4</td>\n",
       "      <td> 1</td>\n",
       "      <td>          /user/login.php</td>\n",
       "      <td> 1</td>\n",
       "    </tr>\n",
       "    <tr>\n",
       "      <th>37114</th>\n",
       "      <td>    75.84.19.20</td>\n",
       "      <td> 0</td>\n",
       "      <td>          /user/login.php</td>\n",
       "      <td> 1</td>\n",
       "    </tr>\n",
       "    <tr>\n",
       "      <th>37115</th>\n",
       "      <td>    75.84.19.20</td>\n",
       "      <td> 1</td>\n",
       "      <td>          /user/image.php</td>\n",
       "      <td> 1</td>\n",
       "    </tr>\n",
       "    <tr>\n",
       "      <th>37116</th>\n",
       "      <td>    75.84.19.20</td>\n",
       "      <td> 1</td>\n",
       "      <td>      /user/image_key.php</td>\n",
       "      <td> 1</td>\n",
       "    </tr>\n",
       "    <tr>\n",
       "      <th>37117</th>\n",
       "      <td>    75.84.19.20</td>\n",
       "      <td> 1</td>\n",
       "      <td>          /user/login.htm</td>\n",
       "      <td> 1</td>\n",
       "    </tr>\n",
       "    <tr>\n",
       "      <th>37118</th>\n",
       "      <td>    75.84.19.20</td>\n",
       "      <td> 2</td>\n",
       "      <td>          /user/login.php</td>\n",
       "      <td> 1</td>\n",
       "    </tr>\n",
       "    <tr>\n",
       "      <th>37119</th>\n",
       "      <td>   76.169.48.49</td>\n",
       "      <td> 0</td>\n",
       "      <td>          /user/login.htm</td>\n",
       "      <td> 1</td>\n",
       "    </tr>\n",
       "    <tr>\n",
       "      <th>37120</th>\n",
       "      <td>   76.169.48.49</td>\n",
       "      <td> 1</td>\n",
       "      <td>          /user/image.php</td>\n",
       "      <td> 1</td>\n",
       "    </tr>\n",
       "    <tr>\n",
       "      <th>37121</th>\n",
       "      <td>   76.169.48.49</td>\n",
       "      <td> 1</td>\n",
       "      <td>      /user/image_key.php</td>\n",
       "      <td> 1</td>\n",
       "    </tr>\n",
       "    <tr>\n",
       "      <th>37122</th>\n",
       "      <td>   76.169.48.49</td>\n",
       "      <td> 2</td>\n",
       "      <td>          /user/image.php</td>\n",
       "      <td> 1</td>\n",
       "    </tr>\n",
       "    <tr>\n",
       "      <th>37123</th>\n",
       "      <td>   76.169.48.49</td>\n",
       "      <td> 2</td>\n",
       "      <td>      /user/image_key.php</td>\n",
       "      <td> 1</td>\n",
       "    </tr>\n",
       "    <tr>\n",
       "      <th>37124</th>\n",
       "      <td>   76.169.48.49</td>\n",
       "      <td> 2</td>\n",
       "      <td>          /user/login.htm</td>\n",
       "      <td> 1</td>\n",
       "    </tr>\n",
       "    <tr>\n",
       "      <th>37125</th>\n",
       "      <td>   76.169.48.49</td>\n",
       "      <td> 2</td>\n",
       "      <td>          /user/login.php</td>\n",
       "      <td> 1</td>\n",
       "    </tr>\n",
       "    <tr>\n",
       "      <th>37126</th>\n",
       "      <td>   76.169.48.49</td>\n",
       "      <td> 3</td>\n",
       "      <td>          /user/login.php</td>\n",
       "      <td> 1</td>\n",
       "    </tr>\n",
       "    <tr>\n",
       "      <th>37127</th>\n",
       "      <td> 89.206.243.144</td>\n",
       "      <td> 0</td>\n",
       "      <td>          /user/login.htm</td>\n",
       "      <td> 1</td>\n",
       "    </tr>\n",
       "    <tr>\n",
       "      <th>37128</th>\n",
       "      <td> 89.206.243.144</td>\n",
       "      <td> 1</td>\n",
       "      <td>          /user/image.php</td>\n",
       "      <td> 1</td>\n",
       "    </tr>\n",
       "    <tr>\n",
       "      <th>37129</th>\n",
       "      <td> 89.206.243.144</td>\n",
       "      <td> 1</td>\n",
       "      <td>      /user/image_key.php</td>\n",
       "      <td> 1</td>\n",
       "    </tr>\n",
       "    <tr>\n",
       "      <th>37130</th>\n",
       "      <td> 89.206.243.144</td>\n",
       "      <td> 2</td>\n",
       "      <td>          /user/login.php</td>\n",
       "      <td> 1</td>\n",
       "    </tr>\n",
       "    <tr>\n",
       "      <th>37131</th>\n",
       "      <td>  96.227.221.70</td>\n",
       "      <td> 0</td>\n",
       "      <td>          /user/image.php</td>\n",
       "      <td> 1</td>\n",
       "    </tr>\n",
       "    <tr>\n",
       "      <th>37132</th>\n",
       "      <td>  96.227.221.70</td>\n",
       "      <td> 0</td>\n",
       "      <td>      /user/image_key.php</td>\n",
       "      <td> 1</td>\n",
       "    </tr>\n",
       "    <tr>\n",
       "      <th>37133</th>\n",
       "      <td>  96.227.221.70</td>\n",
       "      <td> 0</td>\n",
       "      <td>          /user/login.htm</td>\n",
       "      <td> 1</td>\n",
       "    </tr>\n",
       "    <tr>\n",
       "      <th>37134</th>\n",
       "      <td>  96.227.221.70</td>\n",
       "      <td> 1</td>\n",
       "      <td>          /user/login.php</td>\n",
       "      <td> 1</td>\n",
       "    </tr>\n",
       "    <tr>\n",
       "      <th>37135</th>\n",
       "      <td>   99.9.100.154</td>\n",
       "      <td> 0</td>\n",
       "      <td>          /user/image.php</td>\n",
       "      <td> 1</td>\n",
       "    </tr>\n",
       "    <tr>\n",
       "      <th>37136</th>\n",
       "      <td>   99.9.100.154</td>\n",
       "      <td> 0</td>\n",
       "      <td>      /user/image_key.php</td>\n",
       "      <td> 1</td>\n",
       "    </tr>\n",
       "    <tr>\n",
       "      <th>37137</th>\n",
       "      <td>   99.9.100.154</td>\n",
       "      <td> 0</td>\n",
       "      <td>          /user/login.htm</td>\n",
       "      <td> 1</td>\n",
       "    </tr>\n",
       "    <tr>\n",
       "      <th>37138</th>\n",
       "      <td>   99.9.100.154</td>\n",
       "      <td> 1</td>\n",
       "      <td>          /user/login.php</td>\n",
       "      <td> 1</td>\n",
       "    </tr>\n",
       "  </tbody>\n",
       "</table>\n",
       "<p>37139 rows × 4 columns</p>\n",
       "</div>"
      ],
      "text/plain": [
       "                   ip  session                      page  count\n",
       "0          1.160.0.79        0           /user/image.php      1\n",
       "1          1.160.0.79        0       /user/image_key.php      1\n",
       "2          1.160.0.79        0           /user/login.htm      1\n",
       "3          1.160.0.79        1           /user/login.php      1\n",
       "4         1.160.1.202        0           /user/image.php      1\n",
       "5         1.160.1.202        0       /user/image_key.php      1\n",
       "6         1.160.1.202        0           /user/login.htm      1\n",
       "7         1.160.1.202        1           /user/login.php      1\n",
       "8       1.160.118.187        0           /user/image.php      1\n",
       "9       1.160.118.187        0       /user/image_key.php      1\n",
       "10      1.160.118.187        0           /user/login.htm      1\n",
       "11      1.160.118.187        1           /user/login.php      1\n",
       "12      1.160.120.175        0           /user/image.php      1\n",
       "13      1.160.120.175        0       /user/image_key.php      1\n",
       "14      1.160.120.175        0           /user/login.htm      1\n",
       "15      1.160.120.175        1           /user/login.htm      1\n",
       "16      1.160.120.175        2           /user/login.htm      2\n",
       "17      1.160.120.175        3           /user/login.htm      1\n",
       "18        1.160.120.2        0           /user/image.php      1\n",
       "19        1.160.120.2        0       /user/image_key.php      1\n",
       "20        1.160.120.2        0           /user/login.htm      1\n",
       "21        1.160.120.2        1           /user/login.php      1\n",
       "22       1.160.160.96        0           /user/image.php      1\n",
       "23       1.160.160.96        0       /user/image_key.php      1\n",
       "24       1.160.160.96        0           /user/login.htm      1\n",
       "25       1.160.160.96        1      /safe_pc/welcome.php      1\n",
       "26       1.160.160.96        1           /user/login.php      1\n",
       "27       1.160.161.88        0    /user/chk_usernick.php      1\n",
       "28       1.160.161.88        1    /user/chk_usernick.php      1\n",
       "29       1.160.161.88        1  /user/msg_encode_new.php      1\n",
       "...               ...      ...                       ...    ...\n",
       "37109    66.249.79.93        2           /user/login.htm      1\n",
       "37110     71.202.28.4        0           /user/image.php      1\n",
       "37111     71.202.28.4        0       /user/image_key.php      1\n",
       "37112     71.202.28.4        0           /user/login.htm      1\n",
       "37113     71.202.28.4        1           /user/login.php      1\n",
       "37114     75.84.19.20        0           /user/login.php      1\n",
       "37115     75.84.19.20        1           /user/image.php      1\n",
       "37116     75.84.19.20        1       /user/image_key.php      1\n",
       "37117     75.84.19.20        1           /user/login.htm      1\n",
       "37118     75.84.19.20        2           /user/login.php      1\n",
       "37119    76.169.48.49        0           /user/login.htm      1\n",
       "37120    76.169.48.49        1           /user/image.php      1\n",
       "37121    76.169.48.49        1       /user/image_key.php      1\n",
       "37122    76.169.48.49        2           /user/image.php      1\n",
       "37123    76.169.48.49        2       /user/image_key.php      1\n",
       "37124    76.169.48.49        2           /user/login.htm      1\n",
       "37125    76.169.48.49        2           /user/login.php      1\n",
       "37126    76.169.48.49        3           /user/login.php      1\n",
       "37127  89.206.243.144        0           /user/login.htm      1\n",
       "37128  89.206.243.144        1           /user/image.php      1\n",
       "37129  89.206.243.144        1       /user/image_key.php      1\n",
       "37130  89.206.243.144        2           /user/login.php      1\n",
       "37131   96.227.221.70        0           /user/image.php      1\n",
       "37132   96.227.221.70        0       /user/image_key.php      1\n",
       "37133   96.227.221.70        0           /user/login.htm      1\n",
       "37134   96.227.221.70        1           /user/login.php      1\n",
       "37135    99.9.100.154        0           /user/image.php      1\n",
       "37136    99.9.100.154        0       /user/image_key.php      1\n",
       "37137    99.9.100.154        0           /user/login.htm      1\n",
       "37138    99.9.100.154        1           /user/login.php      1\n",
       "\n",
       "[37139 rows x 4 columns]"
      ]
     },
     "execution_count": 72,
     "metadata": {},
     "output_type": "execute_result"
    }
   ],
   "source": [
    "x"
   ]
  },
  {
   "cell_type": "code",
   "execution_count": 106,
   "metadata": {
    "collapsed": false
   },
   "outputs": [
    {
     "ename": "ValueError",
     "evalue": "invalid literal for float(): 99.9.100.154",
     "output_type": "error",
     "traceback": [
      "\u001b[1;31m---------------------------------------------------------------------------\u001b[0m",
      "\u001b[1;31mValueError\u001b[0m                                Traceback (most recent call last)",
      "\u001b[1;32m<ipython-input-106-df04f4579077>\u001b[0m in \u001b[0;36m<module>\u001b[1;34m()\u001b[0m\n\u001b[1;32m----> 1\u001b[1;33m \u001b[0mx\u001b[0m\u001b[1;33m.\u001b[0m\u001b[0mto_sparse\u001b[0m\u001b[1;33m(\u001b[0m\u001b[0mfill_value\u001b[0m\u001b[1;33m=\u001b[0m\u001b[1;36m0\u001b[0m\u001b[1;33m)\u001b[0m\u001b[1;33m\u001b[0m\u001b[0m\n\u001b[0m",
      "\u001b[1;32m/home/dboyliao/.pyenv/versions/anaconda-2.0.1/lib/python2.7/site-packages/pandas-0.16.0.dev0-py2.7-linux-x86_64.egg/pandas/core/frame.pyc\u001b[0m in \u001b[0;36mto_sparse\u001b[1;34m(self, fill_value, kind)\u001b[0m\n\u001b[0;32m   1051\u001b[0m         return SparseDataFrame(self._series, index=self.index,\n\u001b[0;32m   1052\u001b[0m                                \u001b[0mdefault_kind\u001b[0m\u001b[1;33m=\u001b[0m\u001b[0mkind\u001b[0m\u001b[1;33m,\u001b[0m\u001b[1;33m\u001b[0m\u001b[0m\n\u001b[1;32m-> 1053\u001b[1;33m                                default_fill_value=fill_value)\n\u001b[0m\u001b[0;32m   1054\u001b[0m \u001b[1;33m\u001b[0m\u001b[0m\n\u001b[0;32m   1055\u001b[0m     \u001b[1;32mdef\u001b[0m \u001b[0mto_panel\u001b[0m\u001b[1;33m(\u001b[0m\u001b[0mself\u001b[0m\u001b[1;33m)\u001b[0m\u001b[1;33m:\u001b[0m\u001b[1;33m\u001b[0m\u001b[0m\n",
      "\u001b[1;32m/home/dboyliao/.pyenv/versions/anaconda-2.0.1/lib/python2.7/site-packages/pandas-0.16.0.dev0-py2.7-linux-x86_64.egg/pandas/sparse/frame.pyc\u001b[0m in \u001b[0;36m__init__\u001b[1;34m(self, data, index, columns, default_kind, default_fill_value, dtype, copy)\u001b[0m\n\u001b[0;32m     83\u001b[0m \u001b[1;33m\u001b[0m\u001b[0m\n\u001b[0;32m     84\u001b[0m         \u001b[1;32mif\u001b[0m \u001b[0misinstance\u001b[0m\u001b[1;33m(\u001b[0m\u001b[0mdata\u001b[0m\u001b[1;33m,\u001b[0m \u001b[0mdict\u001b[0m\u001b[1;33m)\u001b[0m\u001b[1;33m:\u001b[0m\u001b[1;33m\u001b[0m\u001b[0m\n\u001b[1;32m---> 85\u001b[1;33m             \u001b[0mmgr\u001b[0m \u001b[1;33m=\u001b[0m \u001b[0mself\u001b[0m\u001b[1;33m.\u001b[0m\u001b[0m_init_dict\u001b[0m\u001b[1;33m(\u001b[0m\u001b[0mdata\u001b[0m\u001b[1;33m,\u001b[0m \u001b[0mindex\u001b[0m\u001b[1;33m,\u001b[0m \u001b[0mcolumns\u001b[0m\u001b[1;33m)\u001b[0m\u001b[1;33m\u001b[0m\u001b[0m\n\u001b[0m\u001b[0;32m     86\u001b[0m             \u001b[1;32mif\u001b[0m \u001b[0mdtype\u001b[0m \u001b[1;32mis\u001b[0m \u001b[1;32mnot\u001b[0m \u001b[0mNone\u001b[0m\u001b[1;33m:\u001b[0m\u001b[1;33m\u001b[0m\u001b[0m\n\u001b[0;32m     87\u001b[0m                 \u001b[0mmgr\u001b[0m \u001b[1;33m=\u001b[0m \u001b[0mmgr\u001b[0m\u001b[1;33m.\u001b[0m\u001b[0mastype\u001b[0m\u001b[1;33m(\u001b[0m\u001b[0mdtype\u001b[0m\u001b[1;33m)\u001b[0m\u001b[1;33m\u001b[0m\u001b[0m\n",
      "\u001b[1;32m/home/dboyliao/.pyenv/versions/anaconda-2.0.1/lib/python2.7/site-packages/pandas-0.16.0.dev0-py2.7-linux-x86_64.egg/pandas/sparse/frame.pyc\u001b[0m in \u001b[0;36m_init_dict\u001b[1;34m(self, data, index, columns, dtype)\u001b[0m\n\u001b[0;32m    164\u001b[0m \u001b[1;33m\u001b[0m\u001b[0m\n\u001b[0;32m    165\u001b[0m                 \u001b[1;32mif\u001b[0m \u001b[1;32mnot\u001b[0m \u001b[0misinstance\u001b[0m\u001b[1;33m(\u001b[0m\u001b[0mv\u001b[0m\u001b[1;33m,\u001b[0m \u001b[0mSparseSeries\u001b[0m\u001b[1;33m)\u001b[0m\u001b[1;33m:\u001b[0m\u001b[1;33m\u001b[0m\u001b[0m\n\u001b[1;32m--> 166\u001b[1;33m                     \u001b[0mv\u001b[0m \u001b[1;33m=\u001b[0m \u001b[0msp_maker\u001b[0m\u001b[1;33m(\u001b[0m\u001b[0mv\u001b[0m\u001b[1;33m.\u001b[0m\u001b[0mvalues\u001b[0m\u001b[1;33m)\u001b[0m\u001b[1;33m\u001b[0m\u001b[0m\n\u001b[0m\u001b[0;32m    167\u001b[0m             \u001b[1;32melif\u001b[0m \u001b[0misinstance\u001b[0m\u001b[1;33m(\u001b[0m\u001b[0mv\u001b[0m\u001b[1;33m,\u001b[0m \u001b[0mSparseArray\u001b[0m\u001b[1;33m)\u001b[0m\u001b[1;33m:\u001b[0m\u001b[1;33m\u001b[0m\u001b[0m\n\u001b[0;32m    168\u001b[0m                 \u001b[0mv\u001b[0m \u001b[1;33m=\u001b[0m \u001b[0msp_maker\u001b[0m\u001b[1;33m(\u001b[0m\u001b[0mv\u001b[0m\u001b[1;33m.\u001b[0m\u001b[0mvalues\u001b[0m\u001b[1;33m)\u001b[0m\u001b[1;33m\u001b[0m\u001b[0m\n",
      "\u001b[1;32m/home/dboyliao/.pyenv/versions/anaconda-2.0.1/lib/python2.7/site-packages/pandas-0.16.0.dev0-py2.7-linux-x86_64.egg/pandas/sparse/frame.pyc\u001b[0m in \u001b[0;36m<lambda>\u001b[1;34m(x)\u001b[0m\n\u001b[0;32m    155\u001b[0m                                          \u001b[0mkind\u001b[0m\u001b[1;33m=\u001b[0m\u001b[0mself\u001b[0m\u001b[1;33m.\u001b[0m\u001b[0m_default_kind\u001b[0m\u001b[1;33m,\u001b[0m\u001b[1;33m\u001b[0m\u001b[0m\n\u001b[0;32m    156\u001b[0m                                          \u001b[0mfill_value\u001b[0m\u001b[1;33m=\u001b[0m\u001b[0mself\u001b[0m\u001b[1;33m.\u001b[0m\u001b[0m_default_fill_value\u001b[0m\u001b[1;33m,\u001b[0m\u001b[1;33m\u001b[0m\u001b[0m\n\u001b[1;32m--> 157\u001b[1;33m                                          copy=True)\n\u001b[0m\u001b[0;32m    158\u001b[0m         \u001b[0msdict\u001b[0m \u001b[1;33m=\u001b[0m \u001b[1;33m{\u001b[0m\u001b[1;33m}\u001b[0m\u001b[1;33m\u001b[0m\u001b[0m\n\u001b[0;32m    159\u001b[0m         \u001b[1;32mfor\u001b[0m \u001b[0mk\u001b[0m\u001b[1;33m,\u001b[0m \u001b[0mv\u001b[0m \u001b[1;32min\u001b[0m \u001b[0mcompat\u001b[0m\u001b[1;33m.\u001b[0m\u001b[0miteritems\u001b[0m\u001b[1;33m(\u001b[0m\u001b[0mdata\u001b[0m\u001b[1;33m)\u001b[0m\u001b[1;33m:\u001b[0m\u001b[1;33m\u001b[0m\u001b[0m\n",
      "\u001b[1;32m/home/dboyliao/.pyenv/versions/anaconda-2.0.1/lib/python2.7/site-packages/pandas-0.16.0.dev0-py2.7-linux-x86_64.egg/pandas/sparse/array.pyc\u001b[0m in \u001b[0;36m__new__\u001b[1;34m(cls, data, sparse_index, index, kind, fill_value, dtype, copy)\u001b[0m\n\u001b[0;32m    160\u001b[0m         \u001b[1;31m# Create array, do *not* copy data by default\u001b[0m\u001b[1;33m\u001b[0m\u001b[1;33m\u001b[0m\u001b[0m\n\u001b[0;32m    161\u001b[0m         \u001b[1;32mif\u001b[0m \u001b[0mcopy\u001b[0m\u001b[1;33m:\u001b[0m\u001b[1;33m\u001b[0m\u001b[0m\n\u001b[1;32m--> 162\u001b[1;33m             \u001b[0msubarr\u001b[0m \u001b[1;33m=\u001b[0m \u001b[0mnp\u001b[0m\u001b[1;33m.\u001b[0m\u001b[0marray\u001b[0m\u001b[1;33m(\u001b[0m\u001b[0mvalues\u001b[0m\u001b[1;33m,\u001b[0m \u001b[0mdtype\u001b[0m\u001b[1;33m=\u001b[0m\u001b[0mdtype\u001b[0m\u001b[1;33m,\u001b[0m \u001b[0mcopy\u001b[0m\u001b[1;33m=\u001b[0m\u001b[0mTrue\u001b[0m\u001b[1;33m)\u001b[0m\u001b[1;33m\u001b[0m\u001b[0m\n\u001b[0m\u001b[0;32m    163\u001b[0m         \u001b[1;32melse\u001b[0m\u001b[1;33m:\u001b[0m\u001b[1;33m\u001b[0m\u001b[0m\n\u001b[0;32m    164\u001b[0m             \u001b[0msubarr\u001b[0m \u001b[1;33m=\u001b[0m \u001b[0mnp\u001b[0m\u001b[1;33m.\u001b[0m\u001b[0masarray\u001b[0m\u001b[1;33m(\u001b[0m\u001b[0mvalues\u001b[0m\u001b[1;33m,\u001b[0m \u001b[0mdtype\u001b[0m\u001b[1;33m=\u001b[0m\u001b[0mdtype\u001b[0m\u001b[1;33m)\u001b[0m\u001b[1;33m\u001b[0m\u001b[0m\n",
      "\u001b[1;31mValueError\u001b[0m: invalid literal for float(): 99.9.100.154"
     ]
    }
   ],
   "source": [
    "x.to_sparse(fill_value=0)"
   ]
  },
  {
   "cell_type": "code",
   "execution_count": 108,
   "metadata": {
    "collapsed": false
   },
   "outputs": [
    {
     "ename": "ValueError",
     "evalue": "invalid literal for float(): 99.9.100.154",
     "output_type": "error",
     "traceback": [
      "\u001b[1;31m---------------------------------------------------------------------------\u001b[0m",
      "\u001b[1;31mValueError\u001b[0m                                Traceback (most recent call last)",
      "\u001b[1;32m<ipython-input-108-df04f4579077>\u001b[0m in \u001b[0;36m<module>\u001b[1;34m()\u001b[0m\n\u001b[1;32m----> 1\u001b[1;33m \u001b[0mx\u001b[0m\u001b[1;33m.\u001b[0m\u001b[0mto_sparse\u001b[0m\u001b[1;33m(\u001b[0m\u001b[0mfill_value\u001b[0m\u001b[1;33m=\u001b[0m\u001b[1;36m0\u001b[0m\u001b[1;33m)\u001b[0m\u001b[1;33m\u001b[0m\u001b[0m\n\u001b[0m",
      "\u001b[1;32m/home/dboyliao/.pyenv/versions/anaconda-2.0.1/lib/python2.7/site-packages/pandas-0.16.0.dev0-py2.7-linux-x86_64.egg/pandas/core/frame.pyc\u001b[0m in \u001b[0;36mto_sparse\u001b[1;34m(self, fill_value, kind)\u001b[0m\n\u001b[0;32m   1051\u001b[0m         return SparseDataFrame(self._series, index=self.index,\n\u001b[0;32m   1052\u001b[0m                                \u001b[0mdefault_kind\u001b[0m\u001b[1;33m=\u001b[0m\u001b[0mkind\u001b[0m\u001b[1;33m,\u001b[0m\u001b[1;33m\u001b[0m\u001b[0m\n\u001b[1;32m-> 1053\u001b[1;33m                                default_fill_value=fill_value)\n\u001b[0m\u001b[0;32m   1054\u001b[0m \u001b[1;33m\u001b[0m\u001b[0m\n\u001b[0;32m   1055\u001b[0m     \u001b[1;32mdef\u001b[0m \u001b[0mto_panel\u001b[0m\u001b[1;33m(\u001b[0m\u001b[0mself\u001b[0m\u001b[1;33m)\u001b[0m\u001b[1;33m:\u001b[0m\u001b[1;33m\u001b[0m\u001b[0m\n",
      "\u001b[1;32m/home/dboyliao/.pyenv/versions/anaconda-2.0.1/lib/python2.7/site-packages/pandas-0.16.0.dev0-py2.7-linux-x86_64.egg/pandas/sparse/frame.pyc\u001b[0m in \u001b[0;36m__init__\u001b[1;34m(self, data, index, columns, default_kind, default_fill_value, dtype, copy)\u001b[0m\n\u001b[0;32m     83\u001b[0m \u001b[1;33m\u001b[0m\u001b[0m\n\u001b[0;32m     84\u001b[0m         \u001b[1;32mif\u001b[0m \u001b[0misinstance\u001b[0m\u001b[1;33m(\u001b[0m\u001b[0mdata\u001b[0m\u001b[1;33m,\u001b[0m \u001b[0mdict\u001b[0m\u001b[1;33m)\u001b[0m\u001b[1;33m:\u001b[0m\u001b[1;33m\u001b[0m\u001b[0m\n\u001b[1;32m---> 85\u001b[1;33m             \u001b[0mmgr\u001b[0m \u001b[1;33m=\u001b[0m \u001b[0mself\u001b[0m\u001b[1;33m.\u001b[0m\u001b[0m_init_dict\u001b[0m\u001b[1;33m(\u001b[0m\u001b[0mdata\u001b[0m\u001b[1;33m,\u001b[0m \u001b[0mindex\u001b[0m\u001b[1;33m,\u001b[0m \u001b[0mcolumns\u001b[0m\u001b[1;33m)\u001b[0m\u001b[1;33m\u001b[0m\u001b[0m\n\u001b[0m\u001b[0;32m     86\u001b[0m             \u001b[1;32mif\u001b[0m \u001b[0mdtype\u001b[0m \u001b[1;32mis\u001b[0m \u001b[1;32mnot\u001b[0m \u001b[0mNone\u001b[0m\u001b[1;33m:\u001b[0m\u001b[1;33m\u001b[0m\u001b[0m\n\u001b[0;32m     87\u001b[0m                 \u001b[0mmgr\u001b[0m \u001b[1;33m=\u001b[0m \u001b[0mmgr\u001b[0m\u001b[1;33m.\u001b[0m\u001b[0mastype\u001b[0m\u001b[1;33m(\u001b[0m\u001b[0mdtype\u001b[0m\u001b[1;33m)\u001b[0m\u001b[1;33m\u001b[0m\u001b[0m\n",
      "\u001b[1;32m/home/dboyliao/.pyenv/versions/anaconda-2.0.1/lib/python2.7/site-packages/pandas-0.16.0.dev0-py2.7-linux-x86_64.egg/pandas/sparse/frame.pyc\u001b[0m in \u001b[0;36m_init_dict\u001b[1;34m(self, data, index, columns, dtype)\u001b[0m\n\u001b[0;32m    164\u001b[0m \u001b[1;33m\u001b[0m\u001b[0m\n\u001b[0;32m    165\u001b[0m                 \u001b[1;32mif\u001b[0m \u001b[1;32mnot\u001b[0m \u001b[0misinstance\u001b[0m\u001b[1;33m(\u001b[0m\u001b[0mv\u001b[0m\u001b[1;33m,\u001b[0m \u001b[0mSparseSeries\u001b[0m\u001b[1;33m)\u001b[0m\u001b[1;33m:\u001b[0m\u001b[1;33m\u001b[0m\u001b[0m\n\u001b[1;32m--> 166\u001b[1;33m                     \u001b[0mv\u001b[0m \u001b[1;33m=\u001b[0m \u001b[0msp_maker\u001b[0m\u001b[1;33m(\u001b[0m\u001b[0mv\u001b[0m\u001b[1;33m.\u001b[0m\u001b[0mvalues\u001b[0m\u001b[1;33m)\u001b[0m\u001b[1;33m\u001b[0m\u001b[0m\n\u001b[0m\u001b[0;32m    167\u001b[0m             \u001b[1;32melif\u001b[0m \u001b[0misinstance\u001b[0m\u001b[1;33m(\u001b[0m\u001b[0mv\u001b[0m\u001b[1;33m,\u001b[0m \u001b[0mSparseArray\u001b[0m\u001b[1;33m)\u001b[0m\u001b[1;33m:\u001b[0m\u001b[1;33m\u001b[0m\u001b[0m\n\u001b[0;32m    168\u001b[0m                 \u001b[0mv\u001b[0m \u001b[1;33m=\u001b[0m \u001b[0msp_maker\u001b[0m\u001b[1;33m(\u001b[0m\u001b[0mv\u001b[0m\u001b[1;33m.\u001b[0m\u001b[0mvalues\u001b[0m\u001b[1;33m)\u001b[0m\u001b[1;33m\u001b[0m\u001b[0m\n",
      "\u001b[1;32m/home/dboyliao/.pyenv/versions/anaconda-2.0.1/lib/python2.7/site-packages/pandas-0.16.0.dev0-py2.7-linux-x86_64.egg/pandas/sparse/frame.pyc\u001b[0m in \u001b[0;36m<lambda>\u001b[1;34m(x)\u001b[0m\n\u001b[0;32m    155\u001b[0m                                          \u001b[0mkind\u001b[0m\u001b[1;33m=\u001b[0m\u001b[0mself\u001b[0m\u001b[1;33m.\u001b[0m\u001b[0m_default_kind\u001b[0m\u001b[1;33m,\u001b[0m\u001b[1;33m\u001b[0m\u001b[0m\n\u001b[0;32m    156\u001b[0m                                          \u001b[0mfill_value\u001b[0m\u001b[1;33m=\u001b[0m\u001b[0mself\u001b[0m\u001b[1;33m.\u001b[0m\u001b[0m_default_fill_value\u001b[0m\u001b[1;33m,\u001b[0m\u001b[1;33m\u001b[0m\u001b[0m\n\u001b[1;32m--> 157\u001b[1;33m                                          copy=True)\n\u001b[0m\u001b[0;32m    158\u001b[0m         \u001b[0msdict\u001b[0m \u001b[1;33m=\u001b[0m \u001b[1;33m{\u001b[0m\u001b[1;33m}\u001b[0m\u001b[1;33m\u001b[0m\u001b[0m\n\u001b[0;32m    159\u001b[0m         \u001b[1;32mfor\u001b[0m \u001b[0mk\u001b[0m\u001b[1;33m,\u001b[0m \u001b[0mv\u001b[0m \u001b[1;32min\u001b[0m \u001b[0mcompat\u001b[0m\u001b[1;33m.\u001b[0m\u001b[0miteritems\u001b[0m\u001b[1;33m(\u001b[0m\u001b[0mdata\u001b[0m\u001b[1;33m)\u001b[0m\u001b[1;33m:\u001b[0m\u001b[1;33m\u001b[0m\u001b[0m\n",
      "\u001b[1;32m/home/dboyliao/.pyenv/versions/anaconda-2.0.1/lib/python2.7/site-packages/pandas-0.16.0.dev0-py2.7-linux-x86_64.egg/pandas/sparse/array.pyc\u001b[0m in \u001b[0;36m__new__\u001b[1;34m(cls, data, sparse_index, index, kind, fill_value, dtype, copy)\u001b[0m\n\u001b[0;32m    160\u001b[0m         \u001b[1;31m# Create array, do *not* copy data by default\u001b[0m\u001b[1;33m\u001b[0m\u001b[1;33m\u001b[0m\u001b[0m\n\u001b[0;32m    161\u001b[0m         \u001b[1;32mif\u001b[0m \u001b[0mcopy\u001b[0m\u001b[1;33m:\u001b[0m\u001b[1;33m\u001b[0m\u001b[0m\n\u001b[1;32m--> 162\u001b[1;33m             \u001b[0msubarr\u001b[0m \u001b[1;33m=\u001b[0m \u001b[0mnp\u001b[0m\u001b[1;33m.\u001b[0m\u001b[0marray\u001b[0m\u001b[1;33m(\u001b[0m\u001b[0mvalues\u001b[0m\u001b[1;33m,\u001b[0m \u001b[0mdtype\u001b[0m\u001b[1;33m=\u001b[0m\u001b[0mdtype\u001b[0m\u001b[1;33m,\u001b[0m \u001b[0mcopy\u001b[0m\u001b[1;33m=\u001b[0m\u001b[0mTrue\u001b[0m\u001b[1;33m)\u001b[0m\u001b[1;33m\u001b[0m\u001b[0m\n\u001b[0m\u001b[0;32m    163\u001b[0m         \u001b[1;32melse\u001b[0m\u001b[1;33m:\u001b[0m\u001b[1;33m\u001b[0m\u001b[0m\n\u001b[0;32m    164\u001b[0m             \u001b[0msubarr\u001b[0m \u001b[1;33m=\u001b[0m \u001b[0mnp\u001b[0m\u001b[1;33m.\u001b[0m\u001b[0masarray\u001b[0m\u001b[1;33m(\u001b[0m\u001b[0mvalues\u001b[0m\u001b[1;33m,\u001b[0m \u001b[0mdtype\u001b[0m\u001b[1;33m=\u001b[0m\u001b[0mdtype\u001b[0m\u001b[1;33m)\u001b[0m\u001b[1;33m\u001b[0m\u001b[0m\n",
      "\u001b[1;31mValueError\u001b[0m: invalid literal for float(): 99.9.100.154"
     ]
    }
   ],
   "source": [
    "x.to_sparse(fill_value=0)"
   ]
  },
  {
   "cell_type": "code",
   "execution_count": null,
   "metadata": {
    "collapsed": true
   },
   "outputs": [],
   "source": []
  },
  {
   "cell_type": "code",
   "execution_count": 54,
   "metadata": {
    "collapsed": true
   },
   "outputs": [],
   "source": [
    "\n",
    "from numpy import nan "
   ]
  },
  {
   "cell_type": "code",
   "execution_count": 55,
   "metadata": {
    "collapsed": true
   },
   "outputs": [],
   "source": [
    "from pandas import *"
   ]
  },
  {
   "cell_type": "code",
   "execution_count": 84,
   "metadata": {
    "collapsed": false
   },
   "outputs": [],
   "source": [
    "s = Series([3.0, nan, 1.0, 3.0, nan, nan])\n",
    " "
   ]
  },
  {
   "cell_type": "code",
   "execution_count": 85,
   "metadata": {
    "collapsed": false
   },
   "outputs": [],
   "source": [
    "s.index = MultiIndex.from_tuples([(1, 2, 'a', 0),\n",
    "   ...:                                   (1, 2, 'a', 1),\n",
    "   ...:                                   (1, 1, 'b', 0),\n",
    "   ...:                                   (1, 1, 'b', 1),\n",
    "   ...:                                   (2, 1, 'b', 0),\n",
    "   ...:                                   (2, 1, 'b', 1)],\n",
    "   ...:                                   names=['A', 'B', 'C', 'D'])\n",
    "   ...: \n",
    " "
   ]
  },
  {
   "cell_type": "code",
   "execution_count": 86,
   "metadata": {
    "collapsed": false
   },
   "outputs": [
    {
     "data": {
      "text/plain": [
       "A  B  C  D\n",
       "1  2  a  0     3\n",
       "         1   NaN\n",
       "   1  b  0     1\n",
       "         1     3\n",
       "2  1  b  0   NaN\n",
       "         1   NaN\n",
       "dtype: float64"
      ]
     },
     "execution_count": 86,
     "metadata": {},
     "output_type": "execute_result"
    }
   ],
   "source": [
    "s "
   ]
  },
  {
   "cell_type": "code",
   "execution_count": 61,
   "metadata": {
    "collapsed": false
   },
   "outputs": [
    {
     "data": {
      "text/plain": [
       "pandas.core.series.Series"
      ]
     },
     "execution_count": 61,
     "metadata": {},
     "output_type": "execute_result"
    }
   ],
   "source": [
    "type(s)"
   ]
  },
  {
   "cell_type": "code",
   "execution_count": 59,
   "metadata": {
    "collapsed": true
   },
   "outputs": [],
   "source": [
    "ss = s.to_sparse() "
   ]
  },
  {
   "cell_type": "code",
   "execution_count": 60,
   "metadata": {
    "collapsed": false
   },
   "outputs": [
    {
     "data": {
      "text/plain": [
       "A  B  C  D\n",
       "1  2  a  0     3\n",
       "         1   NaN\n",
       "   1  b  0     1\n",
       "         1     3\n",
       "2  1  b  0   NaN\n",
       "         1   NaN\n",
       "dtype: float64\n",
       "BlockIndex\n",
       "Block locations: array([0, 2], dtype=int32)\n",
       "Block lengths: array([1, 2], dtype=int32)"
      ]
     },
     "execution_count": 60,
     "metadata": {},
     "output_type": "execute_result"
    }
   ],
   "source": [
    "ss"
   ]
  },
  {
   "cell_type": "code",
   "execution_count": 39,
   "metadata": {
    "collapsed": false
   },
   "outputs": [],
   "source": [
    "A, rows, columns = ss.to_coo(row_levels=['A', 'B'],\n",
    "   ....:                              column_levels=['C', 'D'],\n",
    "   ....:                              sort_labels=False)\n",
    "   ....: \n",
    " "
   ]
  },
  {
   "cell_type": "code",
   "execution_count": 40,
   "metadata": {
    "collapsed": false
   },
   "outputs": [
    {
     "data": {
      "text/plain": [
       "<3x4 sparse matrix of type '<type 'numpy.float64'>'\n",
       "\twith 3 stored elements in COOrdinate format>"
      ]
     },
     "execution_count": 40,
     "metadata": {},
     "output_type": "execute_result"
    }
   ],
   "source": [
    "A"
   ]
  },
  {
   "cell_type": "code",
   "execution_count": 41,
   "metadata": {
    "collapsed": false
   },
   "outputs": [
    {
     "data": {
      "text/plain": [
       "[(1, 2), (1, 1), (2, 1)]"
      ]
     },
     "execution_count": 41,
     "metadata": {},
     "output_type": "execute_result"
    }
   ],
   "source": [
    "rows"
   ]
  },
  {
   "cell_type": "code",
   "execution_count": 42,
   "metadata": {
    "collapsed": false
   },
   "outputs": [
    {
     "data": {
      "text/plain": [
       "[('a', 0), ('a', 1), ('b', 0), ('b', 1)]"
      ]
     },
     "execution_count": 42,
     "metadata": {},
     "output_type": "execute_result"
    }
   ],
   "source": [
    "columns"
   ]
  },
  {
   "cell_type": "code",
   "execution_count": 44,
   "metadata": {
    "collapsed": false
   },
   "outputs": [
    {
     "data": {
      "text/plain": [
       "array([[ 3.,  0.,  0.,  0.],\n",
       "       [ 0.,  0.,  1.,  3.],\n",
       "       [ 0.,  0.,  0.,  0.]])"
      ]
     },
     "execution_count": 44,
     "metadata": {},
     "output_type": "execute_result"
    }
   ],
   "source": [
    "A.toarray()"
   ]
  },
  {
   "cell_type": "code",
   "execution_count": null,
   "metadata": {
    "collapsed": true
   },
   "outputs": [],
   "source": []
  }
 ],
 "metadata": {
  "kernelspec": {
   "display_name": "Python 2",
   "language": "python",
   "name": "python2"
  },
  "language_info": {
   "codemirror_mode": {
    "name": "ipython",
    "version": 2
   },
   "file_extension": ".py",
   "mimetype": "text/x-python",
   "name": "python",
   "nbconvert_exporter": "python",
   "pygments_lexer": "ipython2",
   "version": "2.7.9"
  }
 },
 "nbformat": 4,
 "nbformat_minor": 0
}
